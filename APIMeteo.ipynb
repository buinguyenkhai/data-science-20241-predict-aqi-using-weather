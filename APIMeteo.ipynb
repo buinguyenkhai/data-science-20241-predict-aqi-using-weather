{
 "cells": [
  {
   "cell_type": "code",
   "execution_count": 19,
   "metadata": {},
   "outputs": [],
   "source": [
    "import openmeteo_requests\n",
    "import requests_cache\n",
    "import pandas as pd\n",
    "from retry_requests import retry"
   ]
  },
  {
   "cell_type": "code",
   "execution_count": 20,
   "metadata": {},
   "outputs": [],
   "source": [
    "cache_session = requests_cache.CachedSession('.cache', expire_after = 3600)\n",
    "retry_session = retry(cache_session, retries = 5, backoff_factor = 0.2)\n",
    "openmeteo = openmeteo_requests.Client(session = retry_session)"
   ]
  },
  {
   "cell_type": "code",
   "execution_count": 21,
   "metadata": {},
   "outputs": [],
   "source": [
    "df = pd.read_csv('countries.csv', encoding = \"utf-16\")"
   ]
  },
  {
   "cell_type": "code",
   "execution_count": 22,
   "metadata": {},
   "outputs": [
    {
     "data": {
      "text/plain": [
       "0    51.507322\n",
       "Name: lat, dtype: float64"
      ]
     },
     "execution_count": 22,
     "metadata": {},
     "output_type": "execute_result"
    }
   ],
   "source": [
    "df[df['city'] == 'London']['lat']"
   ]
  },
  {
   "cell_type": "code",
   "execution_count": 30,
   "metadata": {},
   "outputs": [
    {
     "ename": "OpenMeteoRequestsError",
     "evalue": "{'reason': 'Minutely API request limit exceeded. Please try again in one minute.', 'error': True}",
     "output_type": "error",
     "traceback": [
      "\u001b[1;31m---------------------------------------------------------------------------\u001b[0m",
      "\u001b[1;31mOpenMeteoRequestsError\u001b[0m                    Traceback (most recent call last)",
      "Cell \u001b[1;32mIn[30], line 10\u001b[0m\n\u001b[0;32m      2\u001b[0m \u001b[38;5;28;01mfor\u001b[39;00m c \u001b[38;5;129;01min\u001b[39;00m df[\u001b[38;5;124m'\u001b[39m\u001b[38;5;124mcity\u001b[39m\u001b[38;5;124m'\u001b[39m]:\n\u001b[0;32m      3\u001b[0m     params \u001b[38;5;241m=\u001b[39m {\n\u001b[0;32m      4\u001b[0m \t\t\u001b[38;5;124m\"\u001b[39m\u001b[38;5;124mlatitude\u001b[39m\u001b[38;5;124m\"\u001b[39m: df[df[\u001b[38;5;124m'\u001b[39m\u001b[38;5;124mcity\u001b[39m\u001b[38;5;124m'\u001b[39m] \u001b[38;5;241m==\u001b[39m c][\u001b[38;5;124m'\u001b[39m\u001b[38;5;124mlat\u001b[39m\u001b[38;5;124m'\u001b[39m],\n\u001b[0;32m      5\u001b[0m \t\t\u001b[38;5;124m\"\u001b[39m\u001b[38;5;124mlongitude\u001b[39m\u001b[38;5;124m\"\u001b[39m: df[df[\u001b[38;5;124m'\u001b[39m\u001b[38;5;124mcity\u001b[39m\u001b[38;5;124m'\u001b[39m] \u001b[38;5;241m==\u001b[39m c][\u001b[38;5;124m'\u001b[39m\u001b[38;5;124mlon\u001b[39m\u001b[38;5;124m'\u001b[39m],\n\u001b[1;32m   (...)\u001b[0m\n\u001b[0;32m      8\u001b[0m \t\t\u001b[38;5;124m\"\u001b[39m\u001b[38;5;124mstart_date\u001b[39m\u001b[38;5;124m\"\u001b[39m: \u001b[38;5;124m\"\u001b[39m\u001b[38;5;124m2020-01-01\u001b[39m\u001b[38;5;124m\"\u001b[39m,\n\u001b[0;32m      9\u001b[0m \t\t\u001b[38;5;124m\"\u001b[39m\u001b[38;5;124mend_date\u001b[39m\u001b[38;5;124m\"\u001b[39m: \u001b[38;5;124m\"\u001b[39m\u001b[38;5;124m2024-10-22\u001b[39m\u001b[38;5;124m\"\u001b[39m}\n\u001b[1;32m---> 10\u001b[0m     responses \u001b[38;5;241m=\u001b[39m openmeteo\u001b[38;5;241m.\u001b[39mweather_api(url, params\u001b[38;5;241m=\u001b[39mparams)\n\u001b[0;32m     11\u001b[0m     response \u001b[38;5;241m=\u001b[39m responses[\u001b[38;5;241m0\u001b[39m]\n",
      "File \u001b[1;32me:\\Anaconda\\Lib\\site-packages\\openmeteo_requests\\Client.py:54\u001b[0m, in \u001b[0;36mClient.weather_api\u001b[1;34m(self, url, params, method, verify)\u001b[0m\n\u001b[0;32m     50\u001b[0m \u001b[38;5;28;01mdef\u001b[39;00m \u001b[38;5;21mweather_api\u001b[39m(\n\u001b[0;32m     51\u001b[0m     \u001b[38;5;28mself\u001b[39m, url: \u001b[38;5;28mstr\u001b[39m, params: \u001b[38;5;28many\u001b[39m, method: \u001b[38;5;28mstr\u001b[39m \u001b[38;5;241m=\u001b[39m \u001b[38;5;124m\"\u001b[39m\u001b[38;5;124mGET\u001b[39m\u001b[38;5;124m\"\u001b[39m, verify: \u001b[38;5;28mbool\u001b[39m \u001b[38;5;241m|\u001b[39m \u001b[38;5;28mstr\u001b[39m \u001b[38;5;241m|\u001b[39m \u001b[38;5;28;01mNone\u001b[39;00m \u001b[38;5;241m=\u001b[39m \u001b[38;5;28;01mNone\u001b[39;00m\n\u001b[0;32m     52\u001b[0m ) \u001b[38;5;241m-\u001b[39m\u001b[38;5;241m>\u001b[39m \u001b[38;5;28mlist\u001b[39m[WeatherApiResponse]:\n\u001b[0;32m     53\u001b[0m \u001b[38;5;250m    \u001b[39m\u001b[38;5;124;03m\"\"\"Get and decode as weather api\"\"\"\u001b[39;00m\n\u001b[1;32m---> 54\u001b[0m     \u001b[38;5;28;01mreturn\u001b[39;00m \u001b[38;5;28mself\u001b[39m\u001b[38;5;241m.\u001b[39m_get(WeatherApiResponse, url, params, method, verify)\n",
      "File \u001b[1;32me:\\Anaconda\\Lib\\site-packages\\openmeteo_requests\\Client.py:35\u001b[0m, in \u001b[0;36mClient._get\u001b[1;34m(self, cls, url, params, method, verify)\u001b[0m\n\u001b[0;32m     33\u001b[0m \u001b[38;5;28;01mif\u001b[39;00m response\u001b[38;5;241m.\u001b[39mstatus_code \u001b[38;5;129;01min\u001b[39;00m [\u001b[38;5;241m400\u001b[39m, \u001b[38;5;241m429\u001b[39m]:\n\u001b[0;32m     34\u001b[0m     response_body \u001b[38;5;241m=\u001b[39m response\u001b[38;5;241m.\u001b[39mjson()\n\u001b[1;32m---> 35\u001b[0m     \u001b[38;5;28;01mraise\u001b[39;00m OpenMeteoRequestsError(response_body)\n\u001b[0;32m     37\u001b[0m response\u001b[38;5;241m.\u001b[39mraise_for_status()\n\u001b[0;32m     39\u001b[0m data \u001b[38;5;241m=\u001b[39m response\u001b[38;5;241m.\u001b[39mcontent\n",
      "\u001b[1;31mOpenMeteoRequestsError\u001b[0m: {'reason': 'Minutely API request limit exceeded. Please try again in one minute.', 'error': True}"
     ]
    }
   ],
   "source": [
    "url = \"https://air-quality-api.open-meteo.com/v1/air-quality\"\n",
    "for c in df['city']:\n",
    "    params = {\n",
    "\t\t\"latitude\": df[df['city'] == c]['lat'],\n",
    "\t\t\"longitude\": df[df['city'] == c]['lon'],\n",
    "\t\t\"hourly\": [\"pm10\", \"pm2_5\", \"carbon_monoxide\", \"nitrogen_dioxide\", \"sulphur_dioxide\", \"ozone\"],\n",
    "\t\t\"timezone\": \"auto\",\n",
    "\t\t\"start_date\": \"2020-01-01\",\n",
    "\t\t\"end_date\": \"2024-10-22\"}\n",
    "    responses = openmeteo.weather_api(url, params=params)\n",
    "    response = responses[0]\n"
   ]
  },
  {
   "cell_type": "code",
   "execution_count": 24,
   "metadata": {},
   "outputs": [
    {
     "name": "stdout",
     "output_type": "stream",
     "text": [
      "Coordinates 36.14999771118164°N -5.350000381469727°E\n",
      "Elevation 13.0 m asl\n",
      "Timezone b'Europe/Gibraltar' b'CEST'\n",
      "Timezone difference to GMT+0 7200 s\n"
     ]
    }
   ],
   "source": []
  },
  {
   "cell_type": "code",
   "execution_count": 25,
   "metadata": {},
   "outputs": [
    {
     "name": "stdout",
     "output_type": "stream",
     "text": [
      "                           date       pm10  pm2_5  carbon_monoxide  \\\n",
      "0     2019-12-31 22:00:00+00:00        NaN    NaN              NaN   \n",
      "1     2019-12-31 23:00:00+00:00        NaN    NaN              NaN   \n",
      "2     2020-01-01 00:00:00+00:00  20.400000    5.4            130.0   \n",
      "3     2020-01-01 01:00:00+00:00  24.100000    7.1            130.0   \n",
      "4     2020-01-01 02:00:00+00:00  22.100000    6.5            129.0   \n",
      "...                         ...        ...    ...              ...   \n",
      "42163 2024-10-22 17:00:00+00:00  14.100000    9.0            129.0   \n",
      "42164 2024-10-22 18:00:00+00:00  14.800000    9.1            130.0   \n",
      "42165 2024-10-22 19:00:00+00:00  15.600000    9.1            132.0   \n",
      "42166 2024-10-22 20:00:00+00:00  17.100000    9.2            133.0   \n",
      "42167 2024-10-22 21:00:00+00:00  17.200001   10.0            135.0   \n",
      "\n",
      "       nitrogen_dioxide  sulphur_dioxide  ozone  \n",
      "0                   NaN              NaN    NaN  \n",
      "1                   NaN              NaN    NaN  \n",
      "2                   0.1              0.0   84.0  \n",
      "3                   0.1              0.0   83.0  \n",
      "4                   0.1              0.0   83.0  \n",
      "...                 ...              ...    ...  \n",
      "42163              15.3              5.6   73.0  \n",
      "42164              16.0              5.5   70.0  \n",
      "42165              16.1              5.3   72.0  \n",
      "42166              15.0              5.3   72.0  \n",
      "42167              14.6              5.4   71.0  \n",
      "\n",
      "[42168 rows x 7 columns]\n"
     ]
    }
   ],
   "source": [
    "hourly = response.Hourly()\n",
    "hourly_pm10 = hourly.Variables(0).ValuesAsNumpy()\n",
    "hourly_pm2_5 = hourly.Variables(1).ValuesAsNumpy()\n",
    "hourly_carbon_monoxide = hourly.Variables(2).ValuesAsNumpy()\n",
    "hourly_nitrogen_dioxide = hourly.Variables(3).ValuesAsNumpy()\n",
    "hourly_sulphur_dioxide = hourly.Variables(4).ValuesAsNumpy()\n",
    "hourly_ozone = hourly.Variables(5).ValuesAsNumpy()\n",
    "\n",
    "hourly_data = {\"date\": pd.date_range(\n",
    "\tstart = pd.to_datetime(hourly.Time(), unit = \"s\", utc = True),\n",
    "\tend = pd.to_datetime(hourly.TimeEnd(), unit = \"s\", utc = True),\n",
    "\tfreq = pd.Timedelta(seconds = hourly.Interval()),\n",
    "\tinclusive = \"left\"\n",
    ")}\n",
    "hourly_data[\"pm10\"] = hourly_pm10\n",
    "hourly_data[\"pm2_5\"] = hourly_pm2_5\n",
    "hourly_data[\"carbon_monoxide\"] = hourly_carbon_monoxide\n",
    "hourly_data[\"nitrogen_dioxide\"] = hourly_nitrogen_dioxide\n",
    "hourly_data[\"sulphur_dioxide\"] = hourly_sulphur_dioxide\n",
    "hourly_data[\"ozone\"] = hourly_ozone\n",
    "\n",
    "hourly_dataframe = pd.DataFrame(data = hourly_data)\n",
    "print(hourly_dataframe)"
   ]
  },
  {
   "cell_type": "code",
   "execution_count": 26,
   "metadata": {},
   "outputs": [],
   "source": [
    "hourly_dataframe.to_csv('air_quality_data.csv', index=False)"
   ]
  },
  {
   "cell_type": "code",
   "execution_count": 27,
   "metadata": {},
   "outputs": [],
   "source": [
    "data = pd.read_csv('air_quality_data.csv')"
   ]
  },
  {
   "cell_type": "code",
   "execution_count": 28,
   "metadata": {},
   "outputs": [
    {
     "data": {
      "text/html": [
       "<div>\n",
       "<style scoped>\n",
       "    .dataframe tbody tr th:only-of-type {\n",
       "        vertical-align: middle;\n",
       "    }\n",
       "\n",
       "    .dataframe tbody tr th {\n",
       "        vertical-align: top;\n",
       "    }\n",
       "\n",
       "    .dataframe thead th {\n",
       "        text-align: right;\n",
       "    }\n",
       "</style>\n",
       "<table border=\"1\" class=\"dataframe\">\n",
       "  <thead>\n",
       "    <tr style=\"text-align: right;\">\n",
       "      <th></th>\n",
       "      <th>date</th>\n",
       "      <th>pm10</th>\n",
       "      <th>pm2_5</th>\n",
       "      <th>carbon_monoxide</th>\n",
       "      <th>nitrogen_dioxide</th>\n",
       "      <th>sulphur_dioxide</th>\n",
       "      <th>ozone</th>\n",
       "    </tr>\n",
       "  </thead>\n",
       "  <tbody>\n",
       "    <tr>\n",
       "      <th>0</th>\n",
       "      <td>2019-12-31 22:00:00+00:00</td>\n",
       "      <td>NaN</td>\n",
       "      <td>NaN</td>\n",
       "      <td>NaN</td>\n",
       "      <td>NaN</td>\n",
       "      <td>NaN</td>\n",
       "      <td>NaN</td>\n",
       "    </tr>\n",
       "    <tr>\n",
       "      <th>1</th>\n",
       "      <td>2019-12-31 23:00:00+00:00</td>\n",
       "      <td>NaN</td>\n",
       "      <td>NaN</td>\n",
       "      <td>NaN</td>\n",
       "      <td>NaN</td>\n",
       "      <td>NaN</td>\n",
       "      <td>NaN</td>\n",
       "    </tr>\n",
       "    <tr>\n",
       "      <th>2</th>\n",
       "      <td>2020-01-01 00:00:00+00:00</td>\n",
       "      <td>20.4</td>\n",
       "      <td>5.4</td>\n",
       "      <td>130.0</td>\n",
       "      <td>0.1</td>\n",
       "      <td>0.0</td>\n",
       "      <td>84.0</td>\n",
       "    </tr>\n",
       "    <tr>\n",
       "      <th>3</th>\n",
       "      <td>2020-01-01 01:00:00+00:00</td>\n",
       "      <td>24.1</td>\n",
       "      <td>7.1</td>\n",
       "      <td>130.0</td>\n",
       "      <td>0.1</td>\n",
       "      <td>0.0</td>\n",
       "      <td>83.0</td>\n",
       "    </tr>\n",
       "    <tr>\n",
       "      <th>4</th>\n",
       "      <td>2020-01-01 02:00:00+00:00</td>\n",
       "      <td>22.1</td>\n",
       "      <td>6.5</td>\n",
       "      <td>129.0</td>\n",
       "      <td>0.1</td>\n",
       "      <td>0.0</td>\n",
       "      <td>83.0</td>\n",
       "    </tr>\n",
       "    <tr>\n",
       "      <th>...</th>\n",
       "      <td>...</td>\n",
       "      <td>...</td>\n",
       "      <td>...</td>\n",
       "      <td>...</td>\n",
       "      <td>...</td>\n",
       "      <td>...</td>\n",
       "      <td>...</td>\n",
       "    </tr>\n",
       "    <tr>\n",
       "      <th>42163</th>\n",
       "      <td>2024-10-22 17:00:00+00:00</td>\n",
       "      <td>14.1</td>\n",
       "      <td>9.0</td>\n",
       "      <td>129.0</td>\n",
       "      <td>15.3</td>\n",
       "      <td>5.6</td>\n",
       "      <td>73.0</td>\n",
       "    </tr>\n",
       "    <tr>\n",
       "      <th>42164</th>\n",
       "      <td>2024-10-22 18:00:00+00:00</td>\n",
       "      <td>14.8</td>\n",
       "      <td>9.1</td>\n",
       "      <td>130.0</td>\n",
       "      <td>16.0</td>\n",
       "      <td>5.5</td>\n",
       "      <td>70.0</td>\n",
       "    </tr>\n",
       "    <tr>\n",
       "      <th>42165</th>\n",
       "      <td>2024-10-22 19:00:00+00:00</td>\n",
       "      <td>15.6</td>\n",
       "      <td>9.1</td>\n",
       "      <td>132.0</td>\n",
       "      <td>16.1</td>\n",
       "      <td>5.3</td>\n",
       "      <td>72.0</td>\n",
       "    </tr>\n",
       "    <tr>\n",
       "      <th>42166</th>\n",
       "      <td>2024-10-22 20:00:00+00:00</td>\n",
       "      <td>17.1</td>\n",
       "      <td>9.2</td>\n",
       "      <td>133.0</td>\n",
       "      <td>15.0</td>\n",
       "      <td>5.3</td>\n",
       "      <td>72.0</td>\n",
       "    </tr>\n",
       "    <tr>\n",
       "      <th>42167</th>\n",
       "      <td>2024-10-22 21:00:00+00:00</td>\n",
       "      <td>17.2</td>\n",
       "      <td>10.0</td>\n",
       "      <td>135.0</td>\n",
       "      <td>14.6</td>\n",
       "      <td>5.4</td>\n",
       "      <td>71.0</td>\n",
       "    </tr>\n",
       "  </tbody>\n",
       "</table>\n",
       "<p>42168 rows × 7 columns</p>\n",
       "</div>"
      ],
      "text/plain": [
       "                            date  pm10  pm2_5  carbon_monoxide  \\\n",
       "0      2019-12-31 22:00:00+00:00   NaN    NaN              NaN   \n",
       "1      2019-12-31 23:00:00+00:00   NaN    NaN              NaN   \n",
       "2      2020-01-01 00:00:00+00:00  20.4    5.4            130.0   \n",
       "3      2020-01-01 01:00:00+00:00  24.1    7.1            130.0   \n",
       "4      2020-01-01 02:00:00+00:00  22.1    6.5            129.0   \n",
       "...                          ...   ...    ...              ...   \n",
       "42163  2024-10-22 17:00:00+00:00  14.1    9.0            129.0   \n",
       "42164  2024-10-22 18:00:00+00:00  14.8    9.1            130.0   \n",
       "42165  2024-10-22 19:00:00+00:00  15.6    9.1            132.0   \n",
       "42166  2024-10-22 20:00:00+00:00  17.1    9.2            133.0   \n",
       "42167  2024-10-22 21:00:00+00:00  17.2   10.0            135.0   \n",
       "\n",
       "       nitrogen_dioxide  sulphur_dioxide  ozone  \n",
       "0                   NaN              NaN    NaN  \n",
       "1                   NaN              NaN    NaN  \n",
       "2                   0.1              0.0   84.0  \n",
       "3                   0.1              0.0   83.0  \n",
       "4                   0.1              0.0   83.0  \n",
       "...                 ...              ...    ...  \n",
       "42163              15.3              5.6   73.0  \n",
       "42164              16.0              5.5   70.0  \n",
       "42165              16.1              5.3   72.0  \n",
       "42166              15.0              5.3   72.0  \n",
       "42167              14.6              5.4   71.0  \n",
       "\n",
       "[42168 rows x 7 columns]"
      ]
     },
     "execution_count": 28,
     "metadata": {},
     "output_type": "execute_result"
    }
   ],
   "source": [
    "data"
   ]
  }
 ],
 "metadata": {
  "kernelspec": {
   "display_name": "base",
   "language": "python",
   "name": "python3"
  },
  "language_info": {
   "codemirror_mode": {
    "name": "ipython",
    "version": 3
   },
   "file_extension": ".py",
   "mimetype": "text/x-python",
   "name": "python",
   "nbconvert_exporter": "python",
   "pygments_lexer": "ipython3",
   "version": "3.11.5"
  }
 },
 "nbformat": 4,
 "nbformat_minor": 2
}
