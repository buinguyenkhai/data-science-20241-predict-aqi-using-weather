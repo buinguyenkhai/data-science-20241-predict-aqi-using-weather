{
 "cells": [
  {
   "cell_type": "code",
   "execution_count": 1,
   "metadata": {},
   "outputs": [],
   "source": [
    "import pandas as pd\n",
    "import os\n",
    "from datetime import datetime\n",
    "from pandas.plotting import register_matplotlib_converters\n",
    "import matplotlib.pyplot as plt\n",
    "from statsmodels.graphics.tsaplots import plot_acf, plot_pacf\n",
    "from statsmodels.tsa.seasonal import STL\n",
    "from statsmodels.tsa.stattools import adfuller\n",
    "import plotly.express as px\n",
    "register_matplotlib_converters()"
   ]
  },
  {
   "cell_type": "markdown",
   "metadata": {},
   "source": [
    "### Read CSV files"
   ]
  },
  {
   "cell_type": "code",
   "execution_count": 2,
   "metadata": {},
   "outputs": [],
   "source": [
    "cleaned_weather_df = pd.read_csv('data/region/vietnam/cleaned_weather.csv', index_col=0, parse_dates=True)\n",
    "cleaned_air_df = pd.read_csv('data/region/vietnam/cleaned_air.csv', index_col=0, parse_dates=True)\n",
    "\n",
    "interpolated_weather_df = pd.read_csv('data/region/vietnam/interpolated_weather.csv', index_col=0, parse_dates=True)\n",
    "interpolated_air_df = pd.read_csv('data/region/vietnam/interpolated_air.csv', index_col=0, parse_dates=True)\n",
    "\n",
    "dropped_weather_df = pd.read_csv('data/region/vietnam/dropped_weather.csv', index_col=0, parse_dates=True)\n",
    "dropped_air_df = pd.read_csv('data/region/vietnam/dropped_air.csv', index_col=0, parse_dates=True)"
   ]
  },
  {
   "cell_type": "markdown",
   "metadata": {},
   "source": [
    "Data overview"
   ]
  },
  {
   "cell_type": "code",
   "execution_count": 7,
   "metadata": {},
   "outputs": [
    {
     "name": "stdout",
     "output_type": "stream",
     "text": [
      "<class 'pandas.core.frame.DataFrame'>\n",
      "DatetimeIndex: 2155488 entries, 2020-11-28 00:00:00 to 2024-11-15 07:00:00\n",
      "Columns: 9 entries, province to wind_direction_10m\n",
      "dtypes: float64(8), object(1)\n",
      "memory usage: 164.5+ MB\n",
      "None\n",
      "<class 'pandas.core.frame.DataFrame'>\n",
      "DatetimeIndex: 2155488 entries, 2020-11-28 00:00:00 to 2024-11-15 07:00:00\n",
      "Columns: 8 entries, province to aqi\n",
      "dtypes: float64(7), object(1)\n",
      "memory usage: 148.0+ MB\n",
      "None\n"
     ]
    }
   ],
   "source": [
    "print(cleaned_weather_df.info(verbose=False))\n",
    "print(cleaned_air_df.info(verbose=False))"
   ]
  },
  {
   "cell_type": "code",
   "execution_count": 8,
   "metadata": {},
   "outputs": [
    {
     "name": "stdout",
     "output_type": "stream",
     "text": [
      "<class 'pandas.core.frame.DataFrame'>\n",
      "DatetimeIndex: 2189880 entries, 2020-11-28 00:00:00 to 2024-11-15 07:00:00\n",
      "Columns: 9 entries, province to wind_direction_10m\n",
      "dtypes: float64(8), object(1)\n",
      "memory usage: 167.1+ MB\n",
      "None\n",
      "<class 'pandas.core.frame.DataFrame'>\n",
      "DatetimeIndex: 2189880 entries, 2020-11-28 00:00:00 to 2024-11-15 07:00:00\n",
      "Columns: 8 entries, province to aqi\n",
      "dtypes: float64(7), object(1)\n",
      "memory usage: 150.4+ MB\n",
      "None\n"
     ]
    }
   ],
   "source": [
    "print(interpolated_weather_df.info(verbose=False))\n",
    "print(interpolated_air_df.info(verbose=False))"
   ]
  },
  {
   "cell_type": "code",
   "execution_count": 9,
   "metadata": {},
   "outputs": [
    {
     "name": "stdout",
     "output_type": "stream",
     "text": [
      "<class 'pandas.core.frame.DataFrame'>\n",
      "DatetimeIndex: 2114469 entries, 2020-11-28 00:00:00 to 2024-11-14 07:00:00\n",
      "Columns: 9 entries, province to wind_direction_10m\n",
      "dtypes: float64(8), object(1)\n",
      "memory usage: 161.3+ MB\n",
      "None\n",
      "<class 'pandas.core.frame.DataFrame'>\n",
      "DatetimeIndex: 2114469 entries, 2020-11-28 00:00:00 to 2024-11-14 07:00:00\n",
      "Columns: 8 entries, province to aqi\n",
      "dtypes: float64(7), object(1)\n",
      "memory usage: 145.2+ MB\n",
      "None\n"
     ]
    }
   ],
   "source": [
    "print(dropped_weather_df.info(verbose=False))\n",
    "print(dropped_air_df.info(verbose=False))"
   ]
  },
  {
   "cell_type": "code",
   "execution_count": 12,
   "metadata": {},
   "outputs": [
    {
     "name": "stdout",
     "output_type": "stream",
     "text": [
      "                          count        mean        std    min     25%     50%  \\\n",
      "temperature_2m        2155488.0   25.138100   4.820720    3.4    22.7    25.6   \n",
      "relative_humidity_2m  2155488.0   80.546117  14.389070   12.0    72.0    84.0   \n",
      "dew_point_2m          2155488.0   21.244726   4.626084    0.0    19.3    22.9   \n",
      "precipitation         2155488.0    0.253754   1.020248    0.0     0.0     0.0   \n",
      "surface_pressure      2155488.0  997.630910  29.248069  844.1  1001.2  1007.4   \n",
      "cloud_cover           2155488.0   74.365158  34.922208    0.0    49.0    97.0   \n",
      "wind_speed_10m        2155488.0    8.873095   5.469387    0.0     4.7     7.6   \n",
      "wind_direction_10m    2155488.0  164.464754  97.756696    0.0    86.0   151.0   \n",
      "\n",
      "                         75%     max  \n",
      "temperature_2m          28.2    43.0  \n",
      "relative_humidity_2m    92.0   100.0  \n",
      "dew_point_2m            24.4    32.9  \n",
      "precipitation            0.1    77.9  \n",
      "surface_pressure      1011.0  1033.5  \n",
      "cloud_cover            100.0   100.0  \n",
      "wind_speed_10m          12.0    91.0  \n",
      "wind_direction_10m     241.0   360.0  \n",
      "           count        mean         std     min     25%     50%     75%  \\\n",
      "co     2155488.0  680.650022  565.949029  130.18  373.84  514.03  767.71   \n",
      "no2    2155488.0   11.970996   14.280487    0.09    2.70    6.51   15.94   \n",
      "o3     2155488.0   43.897574   37.076177    0.00   15.20   37.19   64.37   \n",
      "so2    2155488.0    7.072570   10.159856    0.02    1.28    3.37    8.58   \n",
      "pm2_5  2155488.0   37.874111   47.099820    0.50    9.23   21.21   47.63   \n",
      "pm10   2155488.0   44.662743   53.301175    0.51   11.93   26.48   56.51   \n",
      "aqi    2155488.0    2.809445    1.452315    1.00    2.00    2.00    4.00   \n",
      "\n",
      "            max  \n",
      "co     14312.74  \n",
      "no2      260.47  \n",
      "o3       583.65  \n",
      "so2      267.03  \n",
      "pm2_5    821.58  \n",
      "pm10     926.83  \n",
      "aqi        5.00  \n"
     ]
    }
   ],
   "source": [
    "print(cleaned_weather_df.describe().transpose())\n",
    "print(cleaned_air_df.describe().transpose())\n"
   ]
  },
  {
   "cell_type": "code",
   "execution_count": 13,
   "metadata": {},
   "outputs": [
    {
     "name": "stdout",
     "output_type": "stream",
     "text": [
      "                          count        mean        std    min     25%     50%  \\\n",
      "temperature_2m        2189880.0   25.088331   4.852710    3.4    22.7    25.6   \n",
      "relative_humidity_2m  2189880.0   80.565587  14.385831   12.0    72.0    84.0   \n",
      "dew_point_2m          2189880.0   21.201293   4.701071    0.0    19.3    22.8   \n",
      "precipitation         2189880.0    0.253084   1.017751    0.0     0.0     0.0   \n",
      "surface_pressure      2189880.0  997.686957  29.250029  844.1  1001.2  1007.5   \n",
      "cloud_cover           2189880.0   74.404775  34.831824    0.0    49.0    97.0   \n",
      "wind_speed_10m        2189880.0    8.866432   5.461597    0.0     4.7     7.6   \n",
      "wind_direction_10m    2189880.0  164.406894  97.826538    0.0    86.0   151.0   \n",
      "\n",
      "                         75%     max  \n",
      "temperature_2m          28.2    43.0  \n",
      "relative_humidity_2m    92.0   100.0  \n",
      "dew_point_2m            24.4    32.9  \n",
      "precipitation            0.1    77.9  \n",
      "surface_pressure      1011.0  1033.5  \n",
      "cloud_cover            100.0   100.0  \n",
      "wind_speed_10m          11.9    91.0  \n",
      "wind_direction_10m     241.0   360.0  \n",
      "           count        mean         std     min     25%     50%     75%  \\\n",
      "co     2189880.0  680.785882  564.514773  130.18  373.84  520.71  774.38   \n",
      "no2    2189880.0   11.978602   14.246503    0.09    2.72    6.60   15.94   \n",
      "o3     2189880.0   43.765314   36.983987    0.00   15.02   36.84   63.66   \n",
      "so2    2189880.0    7.086309   10.153616    0.02    1.28    3.40    8.70   \n",
      "pm2_5  2189880.0   37.961217   47.146758    0.50    9.27   21.31   47.76   \n",
      "pm10   2189880.0   44.767165   53.343048    0.51   11.99   26.61   56.68   \n",
      "aqi    2189880.0    2.811949    1.450959    1.00    2.00    2.00    4.00   \n",
      "\n",
      "            max  \n",
      "co     14312.74  \n",
      "no2      260.47  \n",
      "o3       583.65  \n",
      "so2      267.03  \n",
      "pm2_5    821.58  \n",
      "pm10     926.83  \n",
      "aqi        5.00  \n"
     ]
    }
   ],
   "source": [
    "print(interpolated_weather_df.describe().transpose())\n",
    "print(interpolated_air_df.describe().transpose())"
   ]
  },
  {
   "cell_type": "code",
   "execution_count": 14,
   "metadata": {},
   "outputs": [
    {
     "name": "stdout",
     "output_type": "stream",
     "text": [
      "                          count        mean        std    min     25%     50%  \\\n",
      "temperature_2m        2114469.0   25.242884   4.726125    3.6    22.9    25.6   \n",
      "relative_humidity_2m  2114469.0   80.671114  14.303192   12.0    72.0    84.0   \n",
      "dew_point_2m          2114469.0   21.373574   4.450432   -0.0    19.5    22.9   \n",
      "precipitation         2114469.0    0.255999   1.026076    0.0     0.0     0.0   \n",
      "surface_pressure      2114469.0  997.523627  29.198509  844.1  1001.1  1007.4   \n",
      "cloud_cover           2114469.0   74.381415  34.891074    0.0    49.0    97.0   \n",
      "wind_speed_10m        2114469.0    8.833199   5.426990    0.0     4.7     7.6   \n",
      "wind_direction_10m    2114469.0  164.912068  97.185822    0.0    88.0   152.0   \n",
      "\n",
      "                         75%     max  \n",
      "temperature_2m          28.3    43.0  \n",
      "relative_humidity_2m    92.0   100.0  \n",
      "dew_point_2m            24.5    32.9  \n",
      "precipitation            0.1    77.9  \n",
      "surface_pressure      1010.9  1031.6  \n",
      "cloud_cover            100.0   100.0  \n",
      "wind_speed_10m          11.9    91.0  \n",
      "wind_direction_10m     241.0   360.0  \n",
      "           count        mean         std     min     25%     50%     75%  \\\n",
      "co     2114469.0  681.078278  566.569392  130.18  370.50  514.03  774.38   \n",
      "no2    2114469.0   11.968364   14.280652    0.09    2.70    6.51   15.94   \n",
      "o3     2114469.0   43.699453   37.087248    0.00   15.02   36.84   63.66   \n",
      "so2    2114469.0    7.053691   10.170398    0.02    1.27    3.34    8.58   \n",
      "pm2_5  2114469.0   37.768518   47.074725    0.50    9.16   21.09   47.45   \n",
      "pm10   2114469.0   44.519810   53.237304    0.51   11.85   26.35   56.27   \n",
      "aqi    2114469.0    2.804274    1.453518    1.00    2.00    2.00    4.00   \n",
      "\n",
      "            max  \n",
      "co     14312.74  \n",
      "no2      260.47  \n",
      "o3       583.65  \n",
      "so2      267.03  \n",
      "pm2_5    821.58  \n",
      "pm10     926.83  \n",
      "aqi        5.00  \n"
     ]
    }
   ],
   "source": [
    "print(dropped_weather_df.describe().transpose())\n",
    "print(dropped_air_df.describe().transpose())"
   ]
  },
  {
   "cell_type": "markdown",
   "metadata": {},
   "source": [
    "### Save line plots for each attribute in weather data and air data"
   ]
  },
  {
   "cell_type": "code",
   "execution_count": 3,
   "metadata": {},
   "outputs": [],
   "source": [
    "def savePlotAttributes(df, dir, resample_mode=None):\n",
    "    for attribute in df.iloc[:,1:].columns:\n",
    "        fig = plt.figure(figsize=(16, 63 * 3))\n",
    "        fig.suptitle(attribute, fontsize=20, y=0.95)\n",
    "        \n",
    "        provinces = df['province'].drop_duplicates().values\n",
    "        n_provinces = len(provinces)\n",
    "        \n",
    "        for i, province in enumerate(provinces):\n",
    "            province_df = df[df['province'] == province]\n",
    "            if resample_mode:\n",
    "                data = province_df[attribute].resample(resample_mode).mean()\n",
    "            else:\n",
    "                data = province_df[attribute]\n",
    "            \n",
    "            ax = plt.subplot2grid((n_provinces, 1), (i, 0), rowspan=1, colspan=1)\n",
    "            ax.plot(data)\n",
    "            ax.set_title(f'{i + 1}. {province}', fontsize=16)\n",
    "    \n",
    "            for year in range(2021, 2026):\n",
    "                ax.axvline(datetime(year, 1, 1), linestyle='--', color='k', alpha=0.5)\n",
    "        \n",
    "        plt.tight_layout(rect=[0, 0, 1, 0.95], pad=2)\n",
    "        plt.subplots_adjust(hspace=0.8)\n",
    "        file_name = os.path.join(dir, f\"{attribute}.png\")\n",
    "        plt.savefig(file_name, format=\"png\", dpi=300, bbox_inches=\"tight\")\n",
    "        plt.close()\n"
   ]
  },
  {
   "cell_type": "code",
   "execution_count": null,
   "metadata": {},
   "outputs": [],
   "source": [
    "savePlotAttributes(cleaned_weather_df, 'plots/weather/cleaned')\n",
    "savePlotAttributes(cleaned_air_df, 'plots/air/cleaned')"
   ]
  },
  {
   "cell_type": "code",
   "execution_count": 5,
   "metadata": {},
   "outputs": [],
   "source": [
    "savePlotAttributes(interpolated_weather_df, 'plots/weather/interpolated')\n",
    "savePlotAttributes(interpolated_air_df, 'plots/air/interpolated')"
   ]
  },
  {
   "cell_type": "code",
   "execution_count": 6,
   "metadata": {},
   "outputs": [],
   "source": [
    "savePlotAttributes(dropped_weather_df, 'plots/weather/dropped')\n",
    "savePlotAttributes(dropped_air_df, 'plots/air/dropped')"
   ]
  },
  {
   "cell_type": "markdown",
   "metadata": {},
   "source": [
    "### Save ACF and PACF plots for each attribute in weather data and air data"
   ]
  },
  {
   "cell_type": "code",
   "execution_count": 3,
   "metadata": {},
   "outputs": [],
   "source": [
    "def savePlotACFandPACF(df, dir, acf_lags = 25, pacf_lags = 25, resample_mode = None):\n",
    "    for attribute in df.iloc[:,1:].columns:\n",
    "        provinces = df['province'].drop_duplicates().values\n",
    "        n_provinces = len(provinces)\n",
    "\n",
    "        fig, axes = plt.subplots(n_provinces, 2, figsize=(15, 3 * n_provinces), dpi=80)\n",
    "        fig.suptitle(f'ACF and PACF for {attribute}', fontsize=20, y=0.95)\n",
    "\n",
    "        for i, province in enumerate(provinces):\n",
    "            province_df = df[df['province'] == province]\n",
    "            if resample_mode:\n",
    "                data = province_df[attribute].resample(resample_mode).mean()\n",
    "            else:\n",
    "                data = province_df[attribute]\n",
    "\n",
    "            ax_acf = axes[i, 0]\n",
    "            ax_pacf = axes[i, 1]\n",
    "\n",
    "            plot_acf(data, ax=ax_acf, lags=acf_lags, title=f'{i+1}. {province} ACF')\n",
    "            plot_pacf(data, ax=ax_pacf, lags=pacf_lags, title=f'{i+1}. {province} PACF')\n",
    "            \n",
    "        plt.tight_layout(rect=[0, 0, 1, 0.95], pad=2)\n",
    "        file_name = os.path.join(dir, f\"{attribute}_acf_and_pacf.png\")\n",
    "        plt.savefig(file_name, format=\"png\", dpi=300, bbox_inches=\"tight\")\n",
    "        plt.close()"
   ]
  },
  {
   "cell_type": "code",
   "execution_count": 4,
   "metadata": {},
   "outputs": [],
   "source": [
    "savePlotACFandPACF(cleaned_weather_df, 'plots/weather/cleaned', 25, 25)\n",
    "savePlotACFandPACF(cleaned_air_df, 'plots/air/cleaned', 25, 25)"
   ]
  },
  {
   "cell_type": "code",
   "execution_count": null,
   "metadata": {},
   "outputs": [],
   "source": [
    "savePlotACFandPACF(interpolated_weather_df, 'plots/weather/interpolated', 25, 25)\n",
    "savePlotACFandPACF(interpolated_air_df, 'plots/air/interpolated', 25, 25)"
   ]
  },
  {
   "cell_type": "code",
   "execution_count": null,
   "metadata": {},
   "outputs": [],
   "source": [
    "savePlotACFandPACF(dropped_weather_df, 'plots/weather/dropped', 50, 50)\n",
    "savePlotACFandPACF(dropped_air_df, 'plots/air/dropped', 50, 50)"
   ]
  },
  {
   "cell_type": "markdown",
   "metadata": {},
   "source": [
    "### Augmented Dickey-Fuller unit root test for stationarity"
   ]
  },
  {
   "cell_type": "code",
   "execution_count": 3,
   "metadata": {},
   "outputs": [],
   "source": [
    "def perform_adf_test(df, resample_mode = None):\n",
    "    non_stationary_dict = {}\n",
    "    for attribute in df.iloc[:,1:].columns:\n",
    "        provinces = df['province'].drop_duplicates().values\n",
    "        for i, province in enumerate(provinces):\n",
    "            province_df = df[df['province'] == province]\n",
    "            if resample_mode:\n",
    "                data = province_df[attribute].resample(resample_mode).mean()\n",
    "            else:\n",
    "                data = province_df[attribute]\n",
    "            result = adfuller(data)\n",
    "            if result[1] >= 0.05:\n",
    "                if attribute not in non_stationary_dict:\n",
    "                    non_stationary_dict[attribute] = []\n",
    "                non_stationary_dict[attribute].append(province)\n",
    "    if non_stationary_dict:\n",
    "        print('Non-stationary attribute(s) found:')\n",
    "        print(non_stationary_dict)\n",
    "    else:\n",
    "        print('All attributes are stationary')"
   ]
  },
  {
   "cell_type": "code",
   "execution_count": null,
   "metadata": {},
   "outputs": [
    {
     "name": "stdout",
     "output_type": "stream",
     "text": [
      "All attributes are stationary\n"
     ]
    }
   ],
   "source": [
    "perform_adf_test(cleaned_weather_df)"
   ]
  },
  {
   "cell_type": "code",
   "execution_count": null,
   "metadata": {},
   "outputs": [
    {
     "name": "stdout",
     "output_type": "stream",
     "text": [
      "All attributes are stationary\n"
     ]
    }
   ],
   "source": [
    "perform_adf_test(cleaned_air_df)"
   ]
  },
  {
   "cell_type": "markdown",
   "metadata": {},
   "source": [
    "Since ADF test for time series with gaps might be inaccurate, will also test on interpolated data"
   ]
  },
  {
   "cell_type": "code",
   "execution_count": null,
   "metadata": {},
   "outputs": [
    {
     "name": "stdout",
     "output_type": "stream",
     "text": [
      "All attributes are stationary\n"
     ]
    }
   ],
   "source": [
    "perform_adf_test(interpolated_weather_df)"
   ]
  },
  {
   "cell_type": "code",
   "execution_count": null,
   "metadata": {},
   "outputs": [
    {
     "name": "stdout",
     "output_type": "stream",
     "text": [
      "All attributes are stationary\n"
     ]
    }
   ],
   "source": [
    "perform_adf_test(interpolated_air_df)"
   ]
  },
  {
   "cell_type": "markdown",
   "metadata": {},
   "source": [
    "ADF test on dropped data to see if more gaps will cause non-stationrity"
   ]
  },
  {
   "cell_type": "code",
   "execution_count": 4,
   "metadata": {},
   "outputs": [
    {
     "name": "stdout",
     "output_type": "stream",
     "text": [
      "All attributes are stationary\n"
     ]
    }
   ],
   "source": [
    "perform_adf_test(dropped_weather_df)"
   ]
  },
  {
   "cell_type": "code",
   "execution_count": 5,
   "metadata": {},
   "outputs": [
    {
     "name": "stdout",
     "output_type": "stream",
     "text": [
      "All attributes are stationary\n"
     ]
    }
   ],
   "source": [
    "perform_adf_test(dropped_air_df)"
   ]
  },
  {
   "cell_type": "markdown",
   "metadata": {},
   "source": [
    "Conclusion: All three types of data (cleaned, dropped, interpolated) are stationary"
   ]
  },
  {
   "cell_type": "markdown",
   "metadata": {},
   "source": [
    "### Correlation matrix between air attributes and weather attributes"
   ]
  },
  {
   "cell_type": "markdown",
   "metadata": {},
   "source": [
    "Set multi-index for correlation"
   ]
  },
  {
   "cell_type": "code",
   "execution_count": null,
   "metadata": {},
   "outputs": [],
   "source": [
    "def plotCorrelationMatrix(df1, df2, title):\n",
    "    df1 = df1.reset_index().set_index(['time', 'province'])\n",
    "    df2 = df2.reset_index().set_index(['time', 'province'])\n",
    "    correlation_matrix = pd.DataFrame(index=df1.columns, columns=df2.columns)\n",
    "    for attr1 in df1.columns:\n",
    "        for attr2 in df2.columns:\n",
    "            correlation_matrix.loc[attr1, attr2] = df1[attr1].corr(df2[attr2])\n",
    "    fig = px.imshow(\n",
    "    correlation_matrix,\n",
    "    labels=dict(color=\"Correlation\"),\n",
    "    color_continuous_scale='PRGn',\n",
    "    title=title\n",
    "    )\n",
    "    fig.show()"
   ]
  },
  {
   "cell_type": "code",
   "execution_count": null,
   "metadata": {},
   "outputs": [
    {
     "data": {
      "application/vnd.plotly.v1+json": {
       "config": {
        "plotlyServerURL": "https://plot.ly"
       },
       "data": [
        {
         "coloraxis": "coloraxis",
         "hovertemplate": "x: %{x}<br>y: %{y}<br>Correlation: %{z}<extra></extra>",
         "name": "0",
         "type": "heatmap",
         "x": [
          "co",
          "no2",
          "o3",
          "so2",
          "pm2_5",
          "pm10",
          "aqi"
         ],
         "xaxis": "x",
         "y": [
          "temperature_2m",
          "relative_humidity_2m",
          "dew_point_2m",
          "precipitation",
          "surface_pressure",
          "cloud_cover",
          "wind_speed_10m",
          "wind_direction_10m"
         ],
         "yaxis": "y",
         "z": [
          [
           -0.13626771913228528,
           -0.15336402829047321,
           0.20104420594550232,
           -0.04625621027363296,
           -0.29528544611083934,
           -0.28831027152643374,
           -0.2997304613982275
          ],
          [
           0.19422513709476436,
           0.16342363565604479,
           -0.526426180402593,
           -0.03060083388080391,
           0.07209357656575921,
           0.07758726857292371,
           0.05833039396310415
          ],
          [
           -0.0036340483794511927,
           -0.03623395624641907,
           -0.16060199348723708,
           -0.06072471246253201,
           -0.24545985274897575,
           -0.23429288741876592,
           -0.2593149728220887
          ],
          [
           -0.01718791982115999,
           -0.0035427673885958743,
           -0.04177628588815913,
           0.0058347508094033305,
           -0.05938236745738607,
           -0.06707596886229482,
           -0.06664356883836418
          ],
          [
           0.18645005279936902,
           0.21850133061921279,
           0.11386931183926247,
           0.22188573633972367,
           0.2373377274785553,
           0.25376206485936625,
           0.3068474306215726
          ],
          [
           -0.009484927620563502,
           0.0295916995616371,
           -0.19796329201516336,
           0.018680173651656706,
           -0.13368436523205213,
           -0.14157262752768246,
           -0.1185832139953887
          ],
          [
           -0.25363329345742436,
           -0.1758257536886784,
           0.27657853370051116,
           -0.06118545300807572,
           -0.2051149651644878,
           -0.20338840535525884,
           -0.21918001098984435
          ],
          [
           0.06893756789060451,
           0.043125311123038405,
           -0.16251358449421313,
           0.002319421805715086,
           0.018104794874135244,
           0.011934828796270579,
           -0.019686832085770975
          ]
         ]
        }
       ],
       "layout": {
        "coloraxis": {
         "colorbar": {
          "title": {
           "text": "Correlation"
          }
         },
         "colorscale": [
          [
           0,
           "rgb(64,0,75)"
          ],
          [
           0.1,
           "rgb(118,42,131)"
          ],
          [
           0.2,
           "rgb(153,112,171)"
          ],
          [
           0.3,
           "rgb(194,165,207)"
          ],
          [
           0.4,
           "rgb(231,212,232)"
          ],
          [
           0.5,
           "rgb(247,247,247)"
          ],
          [
           0.6,
           "rgb(217,240,211)"
          ],
          [
           0.7,
           "rgb(166,219,160)"
          ],
          [
           0.8,
           "rgb(90,174,97)"
          ],
          [
           0.9,
           "rgb(27,120,55)"
          ],
          [
           1,
           "rgb(0,68,27)"
          ]
         ]
        },
        "template": {
         "data": {
          "bar": [
           {
            "error_x": {
             "color": "#2a3f5f"
            },
            "error_y": {
             "color": "#2a3f5f"
            },
            "marker": {
             "line": {
              "color": "#E5ECF6",
              "width": 0.5
             },
             "pattern": {
              "fillmode": "overlay",
              "size": 10,
              "solidity": 0.2
             }
            },
            "type": "bar"
           }
          ],
          "barpolar": [
           {
            "marker": {
             "line": {
              "color": "#E5ECF6",
              "width": 0.5
             },
             "pattern": {
              "fillmode": "overlay",
              "size": 10,
              "solidity": 0.2
             }
            },
            "type": "barpolar"
           }
          ],
          "carpet": [
           {
            "aaxis": {
             "endlinecolor": "#2a3f5f",
             "gridcolor": "white",
             "linecolor": "white",
             "minorgridcolor": "white",
             "startlinecolor": "#2a3f5f"
            },
            "baxis": {
             "endlinecolor": "#2a3f5f",
             "gridcolor": "white",
             "linecolor": "white",
             "minorgridcolor": "white",
             "startlinecolor": "#2a3f5f"
            },
            "type": "carpet"
           }
          ],
          "choropleth": [
           {
            "colorbar": {
             "outlinewidth": 0,
             "ticks": ""
            },
            "type": "choropleth"
           }
          ],
          "contour": [
           {
            "colorbar": {
             "outlinewidth": 0,
             "ticks": ""
            },
            "colorscale": [
             [
              0,
              "#0d0887"
             ],
             [
              0.1111111111111111,
              "#46039f"
             ],
             [
              0.2222222222222222,
              "#7201a8"
             ],
             [
              0.3333333333333333,
              "#9c179e"
             ],
             [
              0.4444444444444444,
              "#bd3786"
             ],
             [
              0.5555555555555556,
              "#d8576b"
             ],
             [
              0.6666666666666666,
              "#ed7953"
             ],
             [
              0.7777777777777778,
              "#fb9f3a"
             ],
             [
              0.8888888888888888,
              "#fdca26"
             ],
             [
              1,
              "#f0f921"
             ]
            ],
            "type": "contour"
           }
          ],
          "contourcarpet": [
           {
            "colorbar": {
             "outlinewidth": 0,
             "ticks": ""
            },
            "type": "contourcarpet"
           }
          ],
          "heatmap": [
           {
            "colorbar": {
             "outlinewidth": 0,
             "ticks": ""
            },
            "colorscale": [
             [
              0,
              "#0d0887"
             ],
             [
              0.1111111111111111,
              "#46039f"
             ],
             [
              0.2222222222222222,
              "#7201a8"
             ],
             [
              0.3333333333333333,
              "#9c179e"
             ],
             [
              0.4444444444444444,
              "#bd3786"
             ],
             [
              0.5555555555555556,
              "#d8576b"
             ],
             [
              0.6666666666666666,
              "#ed7953"
             ],
             [
              0.7777777777777778,
              "#fb9f3a"
             ],
             [
              0.8888888888888888,
              "#fdca26"
             ],
             [
              1,
              "#f0f921"
             ]
            ],
            "type": "heatmap"
           }
          ],
          "heatmapgl": [
           {
            "colorbar": {
             "outlinewidth": 0,
             "ticks": ""
            },
            "colorscale": [
             [
              0,
              "#0d0887"
             ],
             [
              0.1111111111111111,
              "#46039f"
             ],
             [
              0.2222222222222222,
              "#7201a8"
             ],
             [
              0.3333333333333333,
              "#9c179e"
             ],
             [
              0.4444444444444444,
              "#bd3786"
             ],
             [
              0.5555555555555556,
              "#d8576b"
             ],
             [
              0.6666666666666666,
              "#ed7953"
             ],
             [
              0.7777777777777778,
              "#fb9f3a"
             ],
             [
              0.8888888888888888,
              "#fdca26"
             ],
             [
              1,
              "#f0f921"
             ]
            ],
            "type": "heatmapgl"
           }
          ],
          "histogram": [
           {
            "marker": {
             "pattern": {
              "fillmode": "overlay",
              "size": 10,
              "solidity": 0.2
             }
            },
            "type": "histogram"
           }
          ],
          "histogram2d": [
           {
            "colorbar": {
             "outlinewidth": 0,
             "ticks": ""
            },
            "colorscale": [
             [
              0,
              "#0d0887"
             ],
             [
              0.1111111111111111,
              "#46039f"
             ],
             [
              0.2222222222222222,
              "#7201a8"
             ],
             [
              0.3333333333333333,
              "#9c179e"
             ],
             [
              0.4444444444444444,
              "#bd3786"
             ],
             [
              0.5555555555555556,
              "#d8576b"
             ],
             [
              0.6666666666666666,
              "#ed7953"
             ],
             [
              0.7777777777777778,
              "#fb9f3a"
             ],
             [
              0.8888888888888888,
              "#fdca26"
             ],
             [
              1,
              "#f0f921"
             ]
            ],
            "type": "histogram2d"
           }
          ],
          "histogram2dcontour": [
           {
            "colorbar": {
             "outlinewidth": 0,
             "ticks": ""
            },
            "colorscale": [
             [
              0,
              "#0d0887"
             ],
             [
              0.1111111111111111,
              "#46039f"
             ],
             [
              0.2222222222222222,
              "#7201a8"
             ],
             [
              0.3333333333333333,
              "#9c179e"
             ],
             [
              0.4444444444444444,
              "#bd3786"
             ],
             [
              0.5555555555555556,
              "#d8576b"
             ],
             [
              0.6666666666666666,
              "#ed7953"
             ],
             [
              0.7777777777777778,
              "#fb9f3a"
             ],
             [
              0.8888888888888888,
              "#fdca26"
             ],
             [
              1,
              "#f0f921"
             ]
            ],
            "type": "histogram2dcontour"
           }
          ],
          "mesh3d": [
           {
            "colorbar": {
             "outlinewidth": 0,
             "ticks": ""
            },
            "type": "mesh3d"
           }
          ],
          "parcoords": [
           {
            "line": {
             "colorbar": {
              "outlinewidth": 0,
              "ticks": ""
             }
            },
            "type": "parcoords"
           }
          ],
          "pie": [
           {
            "automargin": true,
            "type": "pie"
           }
          ],
          "scatter": [
           {
            "fillpattern": {
             "fillmode": "overlay",
             "size": 10,
             "solidity": 0.2
            },
            "type": "scatter"
           }
          ],
          "scatter3d": [
           {
            "line": {
             "colorbar": {
              "outlinewidth": 0,
              "ticks": ""
             }
            },
            "marker": {
             "colorbar": {
              "outlinewidth": 0,
              "ticks": ""
             }
            },
            "type": "scatter3d"
           }
          ],
          "scattercarpet": [
           {
            "marker": {
             "colorbar": {
              "outlinewidth": 0,
              "ticks": ""
             }
            },
            "type": "scattercarpet"
           }
          ],
          "scattergeo": [
           {
            "marker": {
             "colorbar": {
              "outlinewidth": 0,
              "ticks": ""
             }
            },
            "type": "scattergeo"
           }
          ],
          "scattergl": [
           {
            "marker": {
             "colorbar": {
              "outlinewidth": 0,
              "ticks": ""
             }
            },
            "type": "scattergl"
           }
          ],
          "scattermapbox": [
           {
            "marker": {
             "colorbar": {
              "outlinewidth": 0,
              "ticks": ""
             }
            },
            "type": "scattermapbox"
           }
          ],
          "scatterpolar": [
           {
            "marker": {
             "colorbar": {
              "outlinewidth": 0,
              "ticks": ""
             }
            },
            "type": "scatterpolar"
           }
          ],
          "scatterpolargl": [
           {
            "marker": {
             "colorbar": {
              "outlinewidth": 0,
              "ticks": ""
             }
            },
            "type": "scatterpolargl"
           }
          ],
          "scatterternary": [
           {
            "marker": {
             "colorbar": {
              "outlinewidth": 0,
              "ticks": ""
             }
            },
            "type": "scatterternary"
           }
          ],
          "surface": [
           {
            "colorbar": {
             "outlinewidth": 0,
             "ticks": ""
            },
            "colorscale": [
             [
              0,
              "#0d0887"
             ],
             [
              0.1111111111111111,
              "#46039f"
             ],
             [
              0.2222222222222222,
              "#7201a8"
             ],
             [
              0.3333333333333333,
              "#9c179e"
             ],
             [
              0.4444444444444444,
              "#bd3786"
             ],
             [
              0.5555555555555556,
              "#d8576b"
             ],
             [
              0.6666666666666666,
              "#ed7953"
             ],
             [
              0.7777777777777778,
              "#fb9f3a"
             ],
             [
              0.8888888888888888,
              "#fdca26"
             ],
             [
              1,
              "#f0f921"
             ]
            ],
            "type": "surface"
           }
          ],
          "table": [
           {
            "cells": {
             "fill": {
              "color": "#EBF0F8"
             },
             "line": {
              "color": "white"
             }
            },
            "header": {
             "fill": {
              "color": "#C8D4E3"
             },
             "line": {
              "color": "white"
             }
            },
            "type": "table"
           }
          ]
         },
         "layout": {
          "annotationdefaults": {
           "arrowcolor": "#2a3f5f",
           "arrowhead": 0,
           "arrowwidth": 1
          },
          "autotypenumbers": "strict",
          "coloraxis": {
           "colorbar": {
            "outlinewidth": 0,
            "ticks": ""
           }
          },
          "colorscale": {
           "diverging": [
            [
             0,
             "#8e0152"
            ],
            [
             0.1,
             "#c51b7d"
            ],
            [
             0.2,
             "#de77ae"
            ],
            [
             0.3,
             "#f1b6da"
            ],
            [
             0.4,
             "#fde0ef"
            ],
            [
             0.5,
             "#f7f7f7"
            ],
            [
             0.6,
             "#e6f5d0"
            ],
            [
             0.7,
             "#b8e186"
            ],
            [
             0.8,
             "#7fbc41"
            ],
            [
             0.9,
             "#4d9221"
            ],
            [
             1,
             "#276419"
            ]
           ],
           "sequential": [
            [
             0,
             "#0d0887"
            ],
            [
             0.1111111111111111,
             "#46039f"
            ],
            [
             0.2222222222222222,
             "#7201a8"
            ],
            [
             0.3333333333333333,
             "#9c179e"
            ],
            [
             0.4444444444444444,
             "#bd3786"
            ],
            [
             0.5555555555555556,
             "#d8576b"
            ],
            [
             0.6666666666666666,
             "#ed7953"
            ],
            [
             0.7777777777777778,
             "#fb9f3a"
            ],
            [
             0.8888888888888888,
             "#fdca26"
            ],
            [
             1,
             "#f0f921"
            ]
           ],
           "sequentialminus": [
            [
             0,
             "#0d0887"
            ],
            [
             0.1111111111111111,
             "#46039f"
            ],
            [
             0.2222222222222222,
             "#7201a8"
            ],
            [
             0.3333333333333333,
             "#9c179e"
            ],
            [
             0.4444444444444444,
             "#bd3786"
            ],
            [
             0.5555555555555556,
             "#d8576b"
            ],
            [
             0.6666666666666666,
             "#ed7953"
            ],
            [
             0.7777777777777778,
             "#fb9f3a"
            ],
            [
             0.8888888888888888,
             "#fdca26"
            ],
            [
             1,
             "#f0f921"
            ]
           ]
          },
          "colorway": [
           "#636efa",
           "#EF553B",
           "#00cc96",
           "#ab63fa",
           "#FFA15A",
           "#19d3f3",
           "#FF6692",
           "#B6E880",
           "#FF97FF",
           "#FECB52"
          ],
          "font": {
           "color": "#2a3f5f"
          },
          "geo": {
           "bgcolor": "white",
           "lakecolor": "white",
           "landcolor": "#E5ECF6",
           "showlakes": true,
           "showland": true,
           "subunitcolor": "white"
          },
          "hoverlabel": {
           "align": "left"
          },
          "hovermode": "closest",
          "mapbox": {
           "style": "light"
          },
          "paper_bgcolor": "white",
          "plot_bgcolor": "#E5ECF6",
          "polar": {
           "angularaxis": {
            "gridcolor": "white",
            "linecolor": "white",
            "ticks": ""
           },
           "bgcolor": "#E5ECF6",
           "radialaxis": {
            "gridcolor": "white",
            "linecolor": "white",
            "ticks": ""
           }
          },
          "scene": {
           "xaxis": {
            "backgroundcolor": "#E5ECF6",
            "gridcolor": "white",
            "gridwidth": 2,
            "linecolor": "white",
            "showbackground": true,
            "ticks": "",
            "zerolinecolor": "white"
           },
           "yaxis": {
            "backgroundcolor": "#E5ECF6",
            "gridcolor": "white",
            "gridwidth": 2,
            "linecolor": "white",
            "showbackground": true,
            "ticks": "",
            "zerolinecolor": "white"
           },
           "zaxis": {
            "backgroundcolor": "#E5ECF6",
            "gridcolor": "white",
            "gridwidth": 2,
            "linecolor": "white",
            "showbackground": true,
            "ticks": "",
            "zerolinecolor": "white"
           }
          },
          "shapedefaults": {
           "line": {
            "color": "#2a3f5f"
           }
          },
          "ternary": {
           "aaxis": {
            "gridcolor": "white",
            "linecolor": "white",
            "ticks": ""
           },
           "baxis": {
            "gridcolor": "white",
            "linecolor": "white",
            "ticks": ""
           },
           "bgcolor": "#E5ECF6",
           "caxis": {
            "gridcolor": "white",
            "linecolor": "white",
            "ticks": ""
           }
          },
          "title": {
           "x": 0.05
          },
          "xaxis": {
           "automargin": true,
           "gridcolor": "white",
           "linecolor": "white",
           "ticks": "",
           "title": {
            "standoff": 15
           },
           "zerolinecolor": "white",
           "zerolinewidth": 2
          },
          "yaxis": {
           "automargin": true,
           "gridcolor": "white",
           "linecolor": "white",
           "ticks": "",
           "title": {
            "standoff": 15
           },
           "zerolinecolor": "white",
           "zerolinewidth": 2
          }
         }
        },
        "title": {
         "text": "Interpolated data correlation"
        },
        "xaxis": {
         "anchor": "y",
         "constrain": "domain",
         "domain": [
          0,
          1
         ],
         "scaleanchor": "y"
        },
        "yaxis": {
         "anchor": "x",
         "autorange": "reversed",
         "constrain": "domain",
         "domain": [
          0,
          1
         ]
        }
       }
      }
     },
     "metadata": {},
     "output_type": "display_data"
    }
   ],
   "source": [
    "plotCorrelationMatrix(interpolated_weather_df, interpolated_air_df, \"Interpolated data correlation\")"
   ]
  },
  {
   "cell_type": "markdown",
   "metadata": {},
   "source": [
    "Correlation of data with no interpolation"
   ]
  },
  {
   "cell_type": "code",
   "execution_count": null,
   "metadata": {},
   "outputs": [
    {
     "data": {
      "application/vnd.plotly.v1+json": {
       "config": {
        "plotlyServerURL": "https://plot.ly"
       },
       "data": [
        {
         "coloraxis": "coloraxis",
         "hovertemplate": "x: %{x}<br>y: %{y}<br>Correlation: %{z}<extra></extra>",
         "name": "0",
         "type": "heatmap",
         "x": [
          "co",
          "no2",
          "o3",
          "so2",
          "pm2_5",
          "pm10",
          "aqi"
         ],
         "xaxis": "x",
         "y": [
          "temperature_2m",
          "relative_humidity_2m",
          "dew_point_2m",
          "precipitation",
          "surface_pressure",
          "cloud_cover",
          "wind_speed_10m",
          "wind_direction_10m"
         ],
         "yaxis": "y",
         "z": [
          [
           -0.13817936118201105,
           -0.1537854281133893,
           0.20850017266685142,
           -0.0424679929755719,
           -0.2957739672445696,
           -0.2885083089113785,
           -0.2977596093531469
          ],
          [
           0.1954711130494991,
           0.1663677513446368,
           -0.5268712383431419,
           -0.027385698666716543,
           0.07347555618637752,
           0.0792888446821473,
           0.0616011663375893
          ],
          [
           -0.003789746905030668,
           -0.034064465018330624,
           -0.15736601948659487,
           -0.0552016364625557,
           -0.24693000103836188,
           -0.23511563884365191,
           -0.2571394273574649
          ],
          [
           -0.01681660115568076,
           -0.0031550587792741032,
           -0.04156270845075503,
           0.00633307160000196,
           -0.0588926427495373,
           -0.06656007721564115,
           -0.06588634149223706
          ],
          [
           0.18559327741087034,
           0.2171473674877125,
           0.11409971783452555,
           0.2206321203820982,
           0.23656066797057407,
           0.2528922972740974,
           0.3058465759014772
          ],
          [
           -0.008421848541689923,
           0.030226851053643426,
           -0.19834425424739158,
           0.019215115479523037,
           -0.1318018877235128,
           -0.13973101984241557,
           -0.11764540349399415
          ],
          [
           -0.2542353338017597,
           -0.17705755802589554,
           0.27567314833612594,
           -0.062370973150775846,
           -0.20574636057175275,
           -0.20405467543188543,
           -0.2198260471921104
          ],
          [
           0.06870575633548685,
           0.0434838164542245,
           -0.16124830876146504,
           0.0029213757309656113,
           0.018433021298577074,
           0.012459405818566666,
           -0.018211009542209843
          ]
         ]
        }
       ],
       "layout": {
        "coloraxis": {
         "colorbar": {
          "title": {
           "text": "Correlation"
          }
         },
         "colorscale": [
          [
           0,
           "rgb(64,0,75)"
          ],
          [
           0.1,
           "rgb(118,42,131)"
          ],
          [
           0.2,
           "rgb(153,112,171)"
          ],
          [
           0.3,
           "rgb(194,165,207)"
          ],
          [
           0.4,
           "rgb(231,212,232)"
          ],
          [
           0.5,
           "rgb(247,247,247)"
          ],
          [
           0.6,
           "rgb(217,240,211)"
          ],
          [
           0.7,
           "rgb(166,219,160)"
          ],
          [
           0.8,
           "rgb(90,174,97)"
          ],
          [
           0.9,
           "rgb(27,120,55)"
          ],
          [
           1,
           "rgb(0,68,27)"
          ]
         ]
        },
        "template": {
         "data": {
          "bar": [
           {
            "error_x": {
             "color": "#2a3f5f"
            },
            "error_y": {
             "color": "#2a3f5f"
            },
            "marker": {
             "line": {
              "color": "#E5ECF6",
              "width": 0.5
             },
             "pattern": {
              "fillmode": "overlay",
              "size": 10,
              "solidity": 0.2
             }
            },
            "type": "bar"
           }
          ],
          "barpolar": [
           {
            "marker": {
             "line": {
              "color": "#E5ECF6",
              "width": 0.5
             },
             "pattern": {
              "fillmode": "overlay",
              "size": 10,
              "solidity": 0.2
             }
            },
            "type": "barpolar"
           }
          ],
          "carpet": [
           {
            "aaxis": {
             "endlinecolor": "#2a3f5f",
             "gridcolor": "white",
             "linecolor": "white",
             "minorgridcolor": "white",
             "startlinecolor": "#2a3f5f"
            },
            "baxis": {
             "endlinecolor": "#2a3f5f",
             "gridcolor": "white",
             "linecolor": "white",
             "minorgridcolor": "white",
             "startlinecolor": "#2a3f5f"
            },
            "type": "carpet"
           }
          ],
          "choropleth": [
           {
            "colorbar": {
             "outlinewidth": 0,
             "ticks": ""
            },
            "type": "choropleth"
           }
          ],
          "contour": [
           {
            "colorbar": {
             "outlinewidth": 0,
             "ticks": ""
            },
            "colorscale": [
             [
              0,
              "#0d0887"
             ],
             [
              0.1111111111111111,
              "#46039f"
             ],
             [
              0.2222222222222222,
              "#7201a8"
             ],
             [
              0.3333333333333333,
              "#9c179e"
             ],
             [
              0.4444444444444444,
              "#bd3786"
             ],
             [
              0.5555555555555556,
              "#d8576b"
             ],
             [
              0.6666666666666666,
              "#ed7953"
             ],
             [
              0.7777777777777778,
              "#fb9f3a"
             ],
             [
              0.8888888888888888,
              "#fdca26"
             ],
             [
              1,
              "#f0f921"
             ]
            ],
            "type": "contour"
           }
          ],
          "contourcarpet": [
           {
            "colorbar": {
             "outlinewidth": 0,
             "ticks": ""
            },
            "type": "contourcarpet"
           }
          ],
          "heatmap": [
           {
            "colorbar": {
             "outlinewidth": 0,
             "ticks": ""
            },
            "colorscale": [
             [
              0,
              "#0d0887"
             ],
             [
              0.1111111111111111,
              "#46039f"
             ],
             [
              0.2222222222222222,
              "#7201a8"
             ],
             [
              0.3333333333333333,
              "#9c179e"
             ],
             [
              0.4444444444444444,
              "#bd3786"
             ],
             [
              0.5555555555555556,
              "#d8576b"
             ],
             [
              0.6666666666666666,
              "#ed7953"
             ],
             [
              0.7777777777777778,
              "#fb9f3a"
             ],
             [
              0.8888888888888888,
              "#fdca26"
             ],
             [
              1,
              "#f0f921"
             ]
            ],
            "type": "heatmap"
           }
          ],
          "heatmapgl": [
           {
            "colorbar": {
             "outlinewidth": 0,
             "ticks": ""
            },
            "colorscale": [
             [
              0,
              "#0d0887"
             ],
             [
              0.1111111111111111,
              "#46039f"
             ],
             [
              0.2222222222222222,
              "#7201a8"
             ],
             [
              0.3333333333333333,
              "#9c179e"
             ],
             [
              0.4444444444444444,
              "#bd3786"
             ],
             [
              0.5555555555555556,
              "#d8576b"
             ],
             [
              0.6666666666666666,
              "#ed7953"
             ],
             [
              0.7777777777777778,
              "#fb9f3a"
             ],
             [
              0.8888888888888888,
              "#fdca26"
             ],
             [
              1,
              "#f0f921"
             ]
            ],
            "type": "heatmapgl"
           }
          ],
          "histogram": [
           {
            "marker": {
             "pattern": {
              "fillmode": "overlay",
              "size": 10,
              "solidity": 0.2
             }
            },
            "type": "histogram"
           }
          ],
          "histogram2d": [
           {
            "colorbar": {
             "outlinewidth": 0,
             "ticks": ""
            },
            "colorscale": [
             [
              0,
              "#0d0887"
             ],
             [
              0.1111111111111111,
              "#46039f"
             ],
             [
              0.2222222222222222,
              "#7201a8"
             ],
             [
              0.3333333333333333,
              "#9c179e"
             ],
             [
              0.4444444444444444,
              "#bd3786"
             ],
             [
              0.5555555555555556,
              "#d8576b"
             ],
             [
              0.6666666666666666,
              "#ed7953"
             ],
             [
              0.7777777777777778,
              "#fb9f3a"
             ],
             [
              0.8888888888888888,
              "#fdca26"
             ],
             [
              1,
              "#f0f921"
             ]
            ],
            "type": "histogram2d"
           }
          ],
          "histogram2dcontour": [
           {
            "colorbar": {
             "outlinewidth": 0,
             "ticks": ""
            },
            "colorscale": [
             [
              0,
              "#0d0887"
             ],
             [
              0.1111111111111111,
              "#46039f"
             ],
             [
              0.2222222222222222,
              "#7201a8"
             ],
             [
              0.3333333333333333,
              "#9c179e"
             ],
             [
              0.4444444444444444,
              "#bd3786"
             ],
             [
              0.5555555555555556,
              "#d8576b"
             ],
             [
              0.6666666666666666,
              "#ed7953"
             ],
             [
              0.7777777777777778,
              "#fb9f3a"
             ],
             [
              0.8888888888888888,
              "#fdca26"
             ],
             [
              1,
              "#f0f921"
             ]
            ],
            "type": "histogram2dcontour"
           }
          ],
          "mesh3d": [
           {
            "colorbar": {
             "outlinewidth": 0,
             "ticks": ""
            },
            "type": "mesh3d"
           }
          ],
          "parcoords": [
           {
            "line": {
             "colorbar": {
              "outlinewidth": 0,
              "ticks": ""
             }
            },
            "type": "parcoords"
           }
          ],
          "pie": [
           {
            "automargin": true,
            "type": "pie"
           }
          ],
          "scatter": [
           {
            "fillpattern": {
             "fillmode": "overlay",
             "size": 10,
             "solidity": 0.2
            },
            "type": "scatter"
           }
          ],
          "scatter3d": [
           {
            "line": {
             "colorbar": {
              "outlinewidth": 0,
              "ticks": ""
             }
            },
            "marker": {
             "colorbar": {
              "outlinewidth": 0,
              "ticks": ""
             }
            },
            "type": "scatter3d"
           }
          ],
          "scattercarpet": [
           {
            "marker": {
             "colorbar": {
              "outlinewidth": 0,
              "ticks": ""
             }
            },
            "type": "scattercarpet"
           }
          ],
          "scattergeo": [
           {
            "marker": {
             "colorbar": {
              "outlinewidth": 0,
              "ticks": ""
             }
            },
            "type": "scattergeo"
           }
          ],
          "scattergl": [
           {
            "marker": {
             "colorbar": {
              "outlinewidth": 0,
              "ticks": ""
             }
            },
            "type": "scattergl"
           }
          ],
          "scattermapbox": [
           {
            "marker": {
             "colorbar": {
              "outlinewidth": 0,
              "ticks": ""
             }
            },
            "type": "scattermapbox"
           }
          ],
          "scatterpolar": [
           {
            "marker": {
             "colorbar": {
              "outlinewidth": 0,
              "ticks": ""
             }
            },
            "type": "scatterpolar"
           }
          ],
          "scatterpolargl": [
           {
            "marker": {
             "colorbar": {
              "outlinewidth": 0,
              "ticks": ""
             }
            },
            "type": "scatterpolargl"
           }
          ],
          "scatterternary": [
           {
            "marker": {
             "colorbar": {
              "outlinewidth": 0,
              "ticks": ""
             }
            },
            "type": "scatterternary"
           }
          ],
          "surface": [
           {
            "colorbar": {
             "outlinewidth": 0,
             "ticks": ""
            },
            "colorscale": [
             [
              0,
              "#0d0887"
             ],
             [
              0.1111111111111111,
              "#46039f"
             ],
             [
              0.2222222222222222,
              "#7201a8"
             ],
             [
              0.3333333333333333,
              "#9c179e"
             ],
             [
              0.4444444444444444,
              "#bd3786"
             ],
             [
              0.5555555555555556,
              "#d8576b"
             ],
             [
              0.6666666666666666,
              "#ed7953"
             ],
             [
              0.7777777777777778,
              "#fb9f3a"
             ],
             [
              0.8888888888888888,
              "#fdca26"
             ],
             [
              1,
              "#f0f921"
             ]
            ],
            "type": "surface"
           }
          ],
          "table": [
           {
            "cells": {
             "fill": {
              "color": "#EBF0F8"
             },
             "line": {
              "color": "white"
             }
            },
            "header": {
             "fill": {
              "color": "#C8D4E3"
             },
             "line": {
              "color": "white"
             }
            },
            "type": "table"
           }
          ]
         },
         "layout": {
          "annotationdefaults": {
           "arrowcolor": "#2a3f5f",
           "arrowhead": 0,
           "arrowwidth": 1
          },
          "autotypenumbers": "strict",
          "coloraxis": {
           "colorbar": {
            "outlinewidth": 0,
            "ticks": ""
           }
          },
          "colorscale": {
           "diverging": [
            [
             0,
             "#8e0152"
            ],
            [
             0.1,
             "#c51b7d"
            ],
            [
             0.2,
             "#de77ae"
            ],
            [
             0.3,
             "#f1b6da"
            ],
            [
             0.4,
             "#fde0ef"
            ],
            [
             0.5,
             "#f7f7f7"
            ],
            [
             0.6,
             "#e6f5d0"
            ],
            [
             0.7,
             "#b8e186"
            ],
            [
             0.8,
             "#7fbc41"
            ],
            [
             0.9,
             "#4d9221"
            ],
            [
             1,
             "#276419"
            ]
           ],
           "sequential": [
            [
             0,
             "#0d0887"
            ],
            [
             0.1111111111111111,
             "#46039f"
            ],
            [
             0.2222222222222222,
             "#7201a8"
            ],
            [
             0.3333333333333333,
             "#9c179e"
            ],
            [
             0.4444444444444444,
             "#bd3786"
            ],
            [
             0.5555555555555556,
             "#d8576b"
            ],
            [
             0.6666666666666666,
             "#ed7953"
            ],
            [
             0.7777777777777778,
             "#fb9f3a"
            ],
            [
             0.8888888888888888,
             "#fdca26"
            ],
            [
             1,
             "#f0f921"
            ]
           ],
           "sequentialminus": [
            [
             0,
             "#0d0887"
            ],
            [
             0.1111111111111111,
             "#46039f"
            ],
            [
             0.2222222222222222,
             "#7201a8"
            ],
            [
             0.3333333333333333,
             "#9c179e"
            ],
            [
             0.4444444444444444,
             "#bd3786"
            ],
            [
             0.5555555555555556,
             "#d8576b"
            ],
            [
             0.6666666666666666,
             "#ed7953"
            ],
            [
             0.7777777777777778,
             "#fb9f3a"
            ],
            [
             0.8888888888888888,
             "#fdca26"
            ],
            [
             1,
             "#f0f921"
            ]
           ]
          },
          "colorway": [
           "#636efa",
           "#EF553B",
           "#00cc96",
           "#ab63fa",
           "#FFA15A",
           "#19d3f3",
           "#FF6692",
           "#B6E880",
           "#FF97FF",
           "#FECB52"
          ],
          "font": {
           "color": "#2a3f5f"
          },
          "geo": {
           "bgcolor": "white",
           "lakecolor": "white",
           "landcolor": "#E5ECF6",
           "showlakes": true,
           "showland": true,
           "subunitcolor": "white"
          },
          "hoverlabel": {
           "align": "left"
          },
          "hovermode": "closest",
          "mapbox": {
           "style": "light"
          },
          "paper_bgcolor": "white",
          "plot_bgcolor": "#E5ECF6",
          "polar": {
           "angularaxis": {
            "gridcolor": "white",
            "linecolor": "white",
            "ticks": ""
           },
           "bgcolor": "#E5ECF6",
           "radialaxis": {
            "gridcolor": "white",
            "linecolor": "white",
            "ticks": ""
           }
          },
          "scene": {
           "xaxis": {
            "backgroundcolor": "#E5ECF6",
            "gridcolor": "white",
            "gridwidth": 2,
            "linecolor": "white",
            "showbackground": true,
            "ticks": "",
            "zerolinecolor": "white"
           },
           "yaxis": {
            "backgroundcolor": "#E5ECF6",
            "gridcolor": "white",
            "gridwidth": 2,
            "linecolor": "white",
            "showbackground": true,
            "ticks": "",
            "zerolinecolor": "white"
           },
           "zaxis": {
            "backgroundcolor": "#E5ECF6",
            "gridcolor": "white",
            "gridwidth": 2,
            "linecolor": "white",
            "showbackground": true,
            "ticks": "",
            "zerolinecolor": "white"
           }
          },
          "shapedefaults": {
           "line": {
            "color": "#2a3f5f"
           }
          },
          "ternary": {
           "aaxis": {
            "gridcolor": "white",
            "linecolor": "white",
            "ticks": ""
           },
           "baxis": {
            "gridcolor": "white",
            "linecolor": "white",
            "ticks": ""
           },
           "bgcolor": "#E5ECF6",
           "caxis": {
            "gridcolor": "white",
            "linecolor": "white",
            "ticks": ""
           }
          },
          "title": {
           "x": 0.05
          },
          "xaxis": {
           "automargin": true,
           "gridcolor": "white",
           "linecolor": "white",
           "ticks": "",
           "title": {
            "standoff": 15
           },
           "zerolinecolor": "white",
           "zerolinewidth": 2
          },
          "yaxis": {
           "automargin": true,
           "gridcolor": "white",
           "linecolor": "white",
           "ticks": "",
           "title": {
            "standoff": 15
           },
           "zerolinecolor": "white",
           "zerolinewidth": 2
          }
         }
        },
        "title": {
         "text": "Cleaned data correlation"
        },
        "xaxis": {
         "anchor": "y",
         "constrain": "domain",
         "domain": [
          0,
          1
         ],
         "scaleanchor": "y"
        },
        "yaxis": {
         "anchor": "x",
         "autorange": "reversed",
         "constrain": "domain",
         "domain": [
          0,
          1
         ]
        }
       }
      }
     },
     "metadata": {},
     "output_type": "display_data"
    }
   ],
   "source": [
    "plotCorrelationMatrix(cleaned_weather_df, cleaned_air_df, \"Cleaned data correlation\")"
   ]
  },
  {
   "cell_type": "markdown",
   "metadata": {},
   "source": [
    "Correlation of dropped data"
   ]
  },
  {
   "cell_type": "code",
   "execution_count": null,
   "metadata": {},
   "outputs": [
    {
     "data": {
      "application/vnd.plotly.v1+json": {
       "config": {
        "plotlyServerURL": "https://plot.ly"
       },
       "data": [
        {
         "coloraxis": "coloraxis",
         "hovertemplate": "x: %{x}<br>y: %{y}<br>Correlation: %{z}<extra></extra>",
         "name": "0",
         "type": "heatmap",
         "x": [
          "co",
          "no2",
          "o3",
          "so2",
          "pm2_5",
          "pm10",
          "aqi"
         ],
         "xaxis": "x",
         "y": [
          "temperature_2m",
          "relative_humidity_2m",
          "dew_point_2m",
          "precipitation",
          "surface_pressure",
          "cloud_cover",
          "wind_speed_10m",
          "wind_direction_10m"
         ],
         "yaxis": "y",
         "z": [
          [
           -0.14245227277530248,
           -0.1551701601584296,
           0.2218155893841496,
           -0.036414902863935644,
           -0.29763367122950707,
           -0.28970916843315586,
           -0.2967206707778084
          ],
          [
           0.19803221946282007,
           0.17104553872430023,
           -0.5267093117522443,
           -0.019962364388671505,
           0.07793725947637618,
           0.08398174985776218,
           0.06798701643565222
          ],
          [
           -0.004455161045467515,
           -0.0309877856939343,
           -0.15148601717596685,
           -0.04452365370574069,
           -0.2494359191650697,
           -0.23649077470313604,
           -0.25558323602485733
          ],
          [
           -0.016742208185660943,
           -0.002920134012494841,
           -0.04072279912252058,
           0.006913031583001327,
           -0.058502123569620035,
           -0.06617696430268964,
           -0.06511521120784414
          ],
          [
           0.1857774627642016,
           0.21642290147807738,
           0.11351456767841918,
           0.21910453293197443,
           0.2360305559027534,
           0.2522925798608834,
           0.3048459857621434
          ],
          [
           -0.005919153658136913,
           0.03347464205646119,
           -0.2012653256055396,
           0.021306588090347658,
           -0.12812843331799562,
           -0.1360026597334272,
           -0.11472759571361571
          ],
          [
           -0.25428383935283927,
           -0.1762180647490215,
           0.27485444388733216,
           -0.06380328868347293,
           -0.20459499743385787,
           -0.2028831006493364,
           -0.2190585713393803
          ],
          [
           0.06800334709996134,
           0.04239625102730462,
           -0.16058194007953697,
           0.0028590921114102987,
           0.017239150689439785,
           0.011201061693461828,
           -0.020062332682087146
          ]
         ]
        }
       ],
       "layout": {
        "coloraxis": {
         "colorbar": {
          "title": {
           "text": "Correlation"
          }
         },
         "colorscale": [
          [
           0,
           "rgb(64,0,75)"
          ],
          [
           0.1,
           "rgb(118,42,131)"
          ],
          [
           0.2,
           "rgb(153,112,171)"
          ],
          [
           0.3,
           "rgb(194,165,207)"
          ],
          [
           0.4,
           "rgb(231,212,232)"
          ],
          [
           0.5,
           "rgb(247,247,247)"
          ],
          [
           0.6,
           "rgb(217,240,211)"
          ],
          [
           0.7,
           "rgb(166,219,160)"
          ],
          [
           0.8,
           "rgb(90,174,97)"
          ],
          [
           0.9,
           "rgb(27,120,55)"
          ],
          [
           1,
           "rgb(0,68,27)"
          ]
         ]
        },
        "template": {
         "data": {
          "bar": [
           {
            "error_x": {
             "color": "#2a3f5f"
            },
            "error_y": {
             "color": "#2a3f5f"
            },
            "marker": {
             "line": {
              "color": "#E5ECF6",
              "width": 0.5
             },
             "pattern": {
              "fillmode": "overlay",
              "size": 10,
              "solidity": 0.2
             }
            },
            "type": "bar"
           }
          ],
          "barpolar": [
           {
            "marker": {
             "line": {
              "color": "#E5ECF6",
              "width": 0.5
             },
             "pattern": {
              "fillmode": "overlay",
              "size": 10,
              "solidity": 0.2
             }
            },
            "type": "barpolar"
           }
          ],
          "carpet": [
           {
            "aaxis": {
             "endlinecolor": "#2a3f5f",
             "gridcolor": "white",
             "linecolor": "white",
             "minorgridcolor": "white",
             "startlinecolor": "#2a3f5f"
            },
            "baxis": {
             "endlinecolor": "#2a3f5f",
             "gridcolor": "white",
             "linecolor": "white",
             "minorgridcolor": "white",
             "startlinecolor": "#2a3f5f"
            },
            "type": "carpet"
           }
          ],
          "choropleth": [
           {
            "colorbar": {
             "outlinewidth": 0,
             "ticks": ""
            },
            "type": "choropleth"
           }
          ],
          "contour": [
           {
            "colorbar": {
             "outlinewidth": 0,
             "ticks": ""
            },
            "colorscale": [
             [
              0,
              "#0d0887"
             ],
             [
              0.1111111111111111,
              "#46039f"
             ],
             [
              0.2222222222222222,
              "#7201a8"
             ],
             [
              0.3333333333333333,
              "#9c179e"
             ],
             [
              0.4444444444444444,
              "#bd3786"
             ],
             [
              0.5555555555555556,
              "#d8576b"
             ],
             [
              0.6666666666666666,
              "#ed7953"
             ],
             [
              0.7777777777777778,
              "#fb9f3a"
             ],
             [
              0.8888888888888888,
              "#fdca26"
             ],
             [
              1,
              "#f0f921"
             ]
            ],
            "type": "contour"
           }
          ],
          "contourcarpet": [
           {
            "colorbar": {
             "outlinewidth": 0,
             "ticks": ""
            },
            "type": "contourcarpet"
           }
          ],
          "heatmap": [
           {
            "colorbar": {
             "outlinewidth": 0,
             "ticks": ""
            },
            "colorscale": [
             [
              0,
              "#0d0887"
             ],
             [
              0.1111111111111111,
              "#46039f"
             ],
             [
              0.2222222222222222,
              "#7201a8"
             ],
             [
              0.3333333333333333,
              "#9c179e"
             ],
             [
              0.4444444444444444,
              "#bd3786"
             ],
             [
              0.5555555555555556,
              "#d8576b"
             ],
             [
              0.6666666666666666,
              "#ed7953"
             ],
             [
              0.7777777777777778,
              "#fb9f3a"
             ],
             [
              0.8888888888888888,
              "#fdca26"
             ],
             [
              1,
              "#f0f921"
             ]
            ],
            "type": "heatmap"
           }
          ],
          "heatmapgl": [
           {
            "colorbar": {
             "outlinewidth": 0,
             "ticks": ""
            },
            "colorscale": [
             [
              0,
              "#0d0887"
             ],
             [
              0.1111111111111111,
              "#46039f"
             ],
             [
              0.2222222222222222,
              "#7201a8"
             ],
             [
              0.3333333333333333,
              "#9c179e"
             ],
             [
              0.4444444444444444,
              "#bd3786"
             ],
             [
              0.5555555555555556,
              "#d8576b"
             ],
             [
              0.6666666666666666,
              "#ed7953"
             ],
             [
              0.7777777777777778,
              "#fb9f3a"
             ],
             [
              0.8888888888888888,
              "#fdca26"
             ],
             [
              1,
              "#f0f921"
             ]
            ],
            "type": "heatmapgl"
           }
          ],
          "histogram": [
           {
            "marker": {
             "pattern": {
              "fillmode": "overlay",
              "size": 10,
              "solidity": 0.2
             }
            },
            "type": "histogram"
           }
          ],
          "histogram2d": [
           {
            "colorbar": {
             "outlinewidth": 0,
             "ticks": ""
            },
            "colorscale": [
             [
              0,
              "#0d0887"
             ],
             [
              0.1111111111111111,
              "#46039f"
             ],
             [
              0.2222222222222222,
              "#7201a8"
             ],
             [
              0.3333333333333333,
              "#9c179e"
             ],
             [
              0.4444444444444444,
              "#bd3786"
             ],
             [
              0.5555555555555556,
              "#d8576b"
             ],
             [
              0.6666666666666666,
              "#ed7953"
             ],
             [
              0.7777777777777778,
              "#fb9f3a"
             ],
             [
              0.8888888888888888,
              "#fdca26"
             ],
             [
              1,
              "#f0f921"
             ]
            ],
            "type": "histogram2d"
           }
          ],
          "histogram2dcontour": [
           {
            "colorbar": {
             "outlinewidth": 0,
             "ticks": ""
            },
            "colorscale": [
             [
              0,
              "#0d0887"
             ],
             [
              0.1111111111111111,
              "#46039f"
             ],
             [
              0.2222222222222222,
              "#7201a8"
             ],
             [
              0.3333333333333333,
              "#9c179e"
             ],
             [
              0.4444444444444444,
              "#bd3786"
             ],
             [
              0.5555555555555556,
              "#d8576b"
             ],
             [
              0.6666666666666666,
              "#ed7953"
             ],
             [
              0.7777777777777778,
              "#fb9f3a"
             ],
             [
              0.8888888888888888,
              "#fdca26"
             ],
             [
              1,
              "#f0f921"
             ]
            ],
            "type": "histogram2dcontour"
           }
          ],
          "mesh3d": [
           {
            "colorbar": {
             "outlinewidth": 0,
             "ticks": ""
            },
            "type": "mesh3d"
           }
          ],
          "parcoords": [
           {
            "line": {
             "colorbar": {
              "outlinewidth": 0,
              "ticks": ""
             }
            },
            "type": "parcoords"
           }
          ],
          "pie": [
           {
            "automargin": true,
            "type": "pie"
           }
          ],
          "scatter": [
           {
            "fillpattern": {
             "fillmode": "overlay",
             "size": 10,
             "solidity": 0.2
            },
            "type": "scatter"
           }
          ],
          "scatter3d": [
           {
            "line": {
             "colorbar": {
              "outlinewidth": 0,
              "ticks": ""
             }
            },
            "marker": {
             "colorbar": {
              "outlinewidth": 0,
              "ticks": ""
             }
            },
            "type": "scatter3d"
           }
          ],
          "scattercarpet": [
           {
            "marker": {
             "colorbar": {
              "outlinewidth": 0,
              "ticks": ""
             }
            },
            "type": "scattercarpet"
           }
          ],
          "scattergeo": [
           {
            "marker": {
             "colorbar": {
              "outlinewidth": 0,
              "ticks": ""
             }
            },
            "type": "scattergeo"
           }
          ],
          "scattergl": [
           {
            "marker": {
             "colorbar": {
              "outlinewidth": 0,
              "ticks": ""
             }
            },
            "type": "scattergl"
           }
          ],
          "scattermapbox": [
           {
            "marker": {
             "colorbar": {
              "outlinewidth": 0,
              "ticks": ""
             }
            },
            "type": "scattermapbox"
           }
          ],
          "scatterpolar": [
           {
            "marker": {
             "colorbar": {
              "outlinewidth": 0,
              "ticks": ""
             }
            },
            "type": "scatterpolar"
           }
          ],
          "scatterpolargl": [
           {
            "marker": {
             "colorbar": {
              "outlinewidth": 0,
              "ticks": ""
             }
            },
            "type": "scatterpolargl"
           }
          ],
          "scatterternary": [
           {
            "marker": {
             "colorbar": {
              "outlinewidth": 0,
              "ticks": ""
             }
            },
            "type": "scatterternary"
           }
          ],
          "surface": [
           {
            "colorbar": {
             "outlinewidth": 0,
             "ticks": ""
            },
            "colorscale": [
             [
              0,
              "#0d0887"
             ],
             [
              0.1111111111111111,
              "#46039f"
             ],
             [
              0.2222222222222222,
              "#7201a8"
             ],
             [
              0.3333333333333333,
              "#9c179e"
             ],
             [
              0.4444444444444444,
              "#bd3786"
             ],
             [
              0.5555555555555556,
              "#d8576b"
             ],
             [
              0.6666666666666666,
              "#ed7953"
             ],
             [
              0.7777777777777778,
              "#fb9f3a"
             ],
             [
              0.8888888888888888,
              "#fdca26"
             ],
             [
              1,
              "#f0f921"
             ]
            ],
            "type": "surface"
           }
          ],
          "table": [
           {
            "cells": {
             "fill": {
              "color": "#EBF0F8"
             },
             "line": {
              "color": "white"
             }
            },
            "header": {
             "fill": {
              "color": "#C8D4E3"
             },
             "line": {
              "color": "white"
             }
            },
            "type": "table"
           }
          ]
         },
         "layout": {
          "annotationdefaults": {
           "arrowcolor": "#2a3f5f",
           "arrowhead": 0,
           "arrowwidth": 1
          },
          "autotypenumbers": "strict",
          "coloraxis": {
           "colorbar": {
            "outlinewidth": 0,
            "ticks": ""
           }
          },
          "colorscale": {
           "diverging": [
            [
             0,
             "#8e0152"
            ],
            [
             0.1,
             "#c51b7d"
            ],
            [
             0.2,
             "#de77ae"
            ],
            [
             0.3,
             "#f1b6da"
            ],
            [
             0.4,
             "#fde0ef"
            ],
            [
             0.5,
             "#f7f7f7"
            ],
            [
             0.6,
             "#e6f5d0"
            ],
            [
             0.7,
             "#b8e186"
            ],
            [
             0.8,
             "#7fbc41"
            ],
            [
             0.9,
             "#4d9221"
            ],
            [
             1,
             "#276419"
            ]
           ],
           "sequential": [
            [
             0,
             "#0d0887"
            ],
            [
             0.1111111111111111,
             "#46039f"
            ],
            [
             0.2222222222222222,
             "#7201a8"
            ],
            [
             0.3333333333333333,
             "#9c179e"
            ],
            [
             0.4444444444444444,
             "#bd3786"
            ],
            [
             0.5555555555555556,
             "#d8576b"
            ],
            [
             0.6666666666666666,
             "#ed7953"
            ],
            [
             0.7777777777777778,
             "#fb9f3a"
            ],
            [
             0.8888888888888888,
             "#fdca26"
            ],
            [
             1,
             "#f0f921"
            ]
           ],
           "sequentialminus": [
            [
             0,
             "#0d0887"
            ],
            [
             0.1111111111111111,
             "#46039f"
            ],
            [
             0.2222222222222222,
             "#7201a8"
            ],
            [
             0.3333333333333333,
             "#9c179e"
            ],
            [
             0.4444444444444444,
             "#bd3786"
            ],
            [
             0.5555555555555556,
             "#d8576b"
            ],
            [
             0.6666666666666666,
             "#ed7953"
            ],
            [
             0.7777777777777778,
             "#fb9f3a"
            ],
            [
             0.8888888888888888,
             "#fdca26"
            ],
            [
             1,
             "#f0f921"
            ]
           ]
          },
          "colorway": [
           "#636efa",
           "#EF553B",
           "#00cc96",
           "#ab63fa",
           "#FFA15A",
           "#19d3f3",
           "#FF6692",
           "#B6E880",
           "#FF97FF",
           "#FECB52"
          ],
          "font": {
           "color": "#2a3f5f"
          },
          "geo": {
           "bgcolor": "white",
           "lakecolor": "white",
           "landcolor": "#E5ECF6",
           "showlakes": true,
           "showland": true,
           "subunitcolor": "white"
          },
          "hoverlabel": {
           "align": "left"
          },
          "hovermode": "closest",
          "mapbox": {
           "style": "light"
          },
          "paper_bgcolor": "white",
          "plot_bgcolor": "#E5ECF6",
          "polar": {
           "angularaxis": {
            "gridcolor": "white",
            "linecolor": "white",
            "ticks": ""
           },
           "bgcolor": "#E5ECF6",
           "radialaxis": {
            "gridcolor": "white",
            "linecolor": "white",
            "ticks": ""
           }
          },
          "scene": {
           "xaxis": {
            "backgroundcolor": "#E5ECF6",
            "gridcolor": "white",
            "gridwidth": 2,
            "linecolor": "white",
            "showbackground": true,
            "ticks": "",
            "zerolinecolor": "white"
           },
           "yaxis": {
            "backgroundcolor": "#E5ECF6",
            "gridcolor": "white",
            "gridwidth": 2,
            "linecolor": "white",
            "showbackground": true,
            "ticks": "",
            "zerolinecolor": "white"
           },
           "zaxis": {
            "backgroundcolor": "#E5ECF6",
            "gridcolor": "white",
            "gridwidth": 2,
            "linecolor": "white",
            "showbackground": true,
            "ticks": "",
            "zerolinecolor": "white"
           }
          },
          "shapedefaults": {
           "line": {
            "color": "#2a3f5f"
           }
          },
          "ternary": {
           "aaxis": {
            "gridcolor": "white",
            "linecolor": "white",
            "ticks": ""
           },
           "baxis": {
            "gridcolor": "white",
            "linecolor": "white",
            "ticks": ""
           },
           "bgcolor": "#E5ECF6",
           "caxis": {
            "gridcolor": "white",
            "linecolor": "white",
            "ticks": ""
           }
          },
          "title": {
           "x": 0.05
          },
          "xaxis": {
           "automargin": true,
           "gridcolor": "white",
           "linecolor": "white",
           "ticks": "",
           "title": {
            "standoff": 15
           },
           "zerolinecolor": "white",
           "zerolinewidth": 2
          },
          "yaxis": {
           "automargin": true,
           "gridcolor": "white",
           "linecolor": "white",
           "ticks": "",
           "title": {
            "standoff": 15
           },
           "zerolinecolor": "white",
           "zerolinewidth": 2
          }
         }
        },
        "title": {
         "text": "Cleaned data correlation"
        },
        "xaxis": {
         "anchor": "y",
         "constrain": "domain",
         "domain": [
          0,
          1
         ],
         "scaleanchor": "y"
        },
        "yaxis": {
         "anchor": "x",
         "autorange": "reversed",
         "constrain": "domain",
         "domain": [
          0,
          1
         ]
        }
       }
      }
     },
     "metadata": {},
     "output_type": "display_data"
    }
   ],
   "source": [
    "plotCorrelationMatrix(dropped_weather_df, dropped_air_df, \"Cleaned data correlation\")"
   ]
  },
  {
   "cell_type": "markdown",
   "metadata": {},
   "source": [
    "Conclusion: Correlation for three types of data (cleaned, dropped, interpolated) are roughly the same"
   ]
  },
  {
   "cell_type": "markdown",
   "metadata": {},
   "source": [
    "### STL Decomposition + Residuals plot for outlier detection"
   ]
  },
  {
   "cell_type": "code",
   "execution_count": null,
   "metadata": {},
   "outputs": [],
   "source": [
    "def saveResidualsAttributes(df, dir, resample_mode=None):\n",
    "    for attribute in df.iloc[:,1:].columns:\n",
    "        fig = plt.figure(figsize=(12, 63 * 4))\n",
    "        fig.suptitle(attribute, fontsize=20, y=0.95)\n",
    "        \n",
    "        provinces = df['province'].drop_duplicates().values\n",
    "        n_provinces = len(provinces)\n",
    "        \n",
    "        for i, province in enumerate(provinces):\n",
    "            province_df = df[df['province'] == province]\n",
    "            if resample_mode:\n",
    "                data = province_df[attribute].resample(resample_mode).mean()\n",
    "            else:\n",
    "                data = province_df[attribute]\n",
    "            \n",
    "            ax = plt.subplot2grid((n_provinces, 1), (i, 0), rowspan=1, colspan=1)\n",
    "            stl = STL(data, period=24)\n",
    "            res = stl.fit()\n",
    "            ax.plot_date(res.resid.index, res.resid.values, color='black',linestyle='--')\n",
    "            ax.set_title(f'{i + 1}. {province}', fontsize=16)\n",
    "            for year in range(2021, 2026):\n",
    "                ax.axvline(datetime(year, 1, 1), linestyle='--', color='k', alpha=0.5)\n",
    "        \n",
    "        plt.tight_layout(rect=[0, 0, 1, 0.95], pad=2)\n",
    "        plt.subplots_adjust(hspace=0.8)\n",
    "        file_name = os.path.join(dir, f\"{attribute}_residuals.png\")\n",
    "        plt.savefig(file_name, format=\"png\", dpi=300, bbox_inches=\"tight\")\n",
    "        plt.close()"
   ]
  },
  {
   "cell_type": "code",
   "execution_count": null,
   "metadata": {},
   "outputs": [],
   "source": [
    "saveResidualsAttributes(cleaned_air_df,'plots/air/cleaned')\n",
    "saveResidualsAttributes(cleaned_weather_df,'plots/weather/cleaned')"
   ]
  },
  {
   "cell_type": "code",
   "execution_count": null,
   "metadata": {},
   "outputs": [],
   "source": [
    "saveResidualsAttributes(interpolated_air_df,'plots/air/interpolated')\n",
    "saveResidualsAttributes(interpolated_weather_df,'plots/weather/interpolated')"
   ]
  },
  {
   "cell_type": "code",
   "execution_count": null,
   "metadata": {},
   "outputs": [],
   "source": [
    "saveResidualsAttributes(dropped_air_df,'plots/air/dropped')\n",
    "saveResidualsAttributes(dropped_weather_df,'plots/weather/dropped')"
   ]
  }
 ],
 "metadata": {
  "kernelspec": {
   "display_name": "Python 3",
   "language": "python",
   "name": "python3"
  },
  "language_info": {
   "codemirror_mode": {
    "name": "ipython",
    "version": 3
   },
   "file_extension": ".py",
   "mimetype": "text/x-python",
   "name": "python",
   "nbconvert_exporter": "python",
   "pygments_lexer": "ipython3",
   "version": "3.12.8"
  }
 },
 "nbformat": 4,
 "nbformat_minor": 2
}
