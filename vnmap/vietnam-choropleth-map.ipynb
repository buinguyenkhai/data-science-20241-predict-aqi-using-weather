{
 "cells": [
  {
   "cell_type": "markdown",
   "metadata": {},
   "source": [
    "## Bản đồ mật đồ dân số các tỉnh thành Việt Nam\n",
    "\n",
    "![vn-population-density.svg](./vn-population-density.svg)\n",
    "\n",
    "Ghi chú lại quá trình tạo ra một choropleth map của mật độ dân số Việt Nam từ hướng dẫn [Command-Line Cartography](https://medium.com/@mbostock/command-line-cartography-part-1-897aa8f8ca2c) của Mike Bostock.\n",
    "\n",
    "**[Choropleth map](https://en.wikipedia.org/wiki/Choropleth_map)** là một dạng bản đồ chuyên đề ([thematic map](https://en.wikipedia.org/wiki/Thematic_map)) trong đó các khu vực được tô màu hay đánh dấu tương ứng với một giá trị nào đó, ví dụ như là mật độ dân số. Trong bản đồ ở trên, mật độ dân số từ thấp tới cao được thể hiện bằng màu từ nhạt tới đậm hơn."
   ]
  },
  {
   "cell_type": "markdown",
   "metadata": {},
   "source": [
    "## Phần 1 - Bản đồ\n",
    "\n",
    "[Phần một](https://medium.com/@mbostock/command-line-cartography-part-1-897aa8f8ca2c) tập trung vào việc tìm dữ liệu địa giới, bao gồm toạ độ và hình dạng các đường biên, của các tỉnh thành Việt Nam và chuyển nó sang dạng dữ liệu phù hợp để hiển thị trên web.\n",
    "\n",
    "Trong hướng dẫn gốc, Mike sử dụng dữ liệu mà chính phủ Mỹ cung cấp về [địa giới bản đồ các bang và quận của Mỹ](https://www.census.gov/geo/maps-data/data/tiger-cart-boundary.html). Mình không thể tìm thấy dữ liệu tương tự từ nguồn chính thống nào của chính phủ Việt Nam hay các cơ quan nhà nước khác. Một nguồn thay thế phổ biến khác là từ project [GADM](https://gadm.org/index.htm), mục tiêu của project này là cung cấp bản đồ và dữ liệu địa lý cho tất cả các nước và địa phương thuộc các nước đó, bao gồm cả Việt Nam.\n",
    "\n",
    "Bản đồ của Việt Nam từ [GADM](https://gadm.org/download_country_v3.html):\n",
    "![GADM_vietnam_map](https://s3-us-west-2.amazonaws.com/globaladmin/gadm3.6/png/VNM_adm.png)\n",
    "\n",
    "Bản đồ này, đáng tiếc, không có quần đảo [Hoàng Sa](https://vi.wikipedia.org/wiki/Qu%E1%BA%A7n_%C4%91%E1%BA%A3o_Ho%C3%A0ng_Sa) và [Trường Sa](https://vi.wikipedia.org/wiki/Qu%E1%BA%A7n_%C4%91%E1%BA%A3o_Tr%C6%B0%E1%BB%9Dng_Sa). Chúng ta có thể làm tốt hơn.\n",
    "\n",
    "Dự án [Open Development Việt Nam](https://vietnam.opendevelopmentmekong.net/vi/) đã tập hợp và công bố miễn phí dữ liệu [bản đồ các tỉnh của Việt Nam](https://vietnam.opendevelopmentmekong.net/vi/dataset?id=a-phn-tnh) từ công bố của bộ tài nguyên môi trường. Bản đồ này được cung cấp sẵn dưới dạng GeoJSON và có đủ cả hai quần đảo này:\n",
    "\n",
    "![Open Development Vietnam map](./vn.svg)\n",
    "\n",
    "> Open Development Việt Nam là sàn dữ liệu và kiến thức tổng hợp nhằm chia sẻ thông tin và tăng cường nhận thức cộng đồng, tạo điều kiện cho các phân tích cá nhân, các cuộc thảo luận nghiêm túc và cải thiện đối thoại mang tính xây dựng về xu hướng phát triển ở Việt Nam trên các lĩnh vực kinh tế,  xã hội và  môi trường.\n",
    "\n",
    "Tuyệt vời!\n",
    "\n",
    "Việc tiếp theo chỉ là tải về file GeoJSON đã có sẵn, [geo-project](https://github.com/d3/d3-geo-projection/blob/master/README.md#geoproject), và render thành SVG tương tự như hướng dẫn.\n",
    "\n",
    "Trước hết, cài đặt các tools cần thiết từ gói `d3-geo-projection`."
   ]
  },
  {
   "cell_type": "code",
   "execution_count": 5,
   "metadata": {},
   "outputs": [
    {
     "name": "stderr",
     "output_type": "stream",
     "text": [
      "'npm' is not recognized as an internal or external command,\n",
      "operable program or batch file.\n"
     ]
    }
   ],
   "source": [
    "!npm install -gs d3-geo-projection"
   ]
  },
  {
   "cell_type": "code",
   "execution_count": 6,
   "metadata": {},
   "outputs": [
    {
     "name": "stderr",
     "output_type": "stream",
     "text": [
      "The system cannot find the file specified.\n",
      "The system cannot find the file specified.\n"
     ]
    }
   ],
   "source": [
    "!curl -so vn.json 'https://data.opendevelopmentmekong.net/dataset/999c96d8-fae0-4b82-9a2b-e481f6f50e12/resource/234169fb-ae73-4f23-bbd4-ff20a4fca401/download/diaphantinh.geojson'\n",
    "!geoproject 'd3.geoCylindricalStereographic().fitSize([800, 800], d)' < vn.json > vn-projected.json\n",
    "!geo2svg -w 800 -h 800 < vn-projected.json > vn.svg"
   ]
  },
  {
   "cell_type": "markdown",
   "metadata": {},
   "source": [
    "Bước geoproject cần thiết để giảm thời gian render của GeoJSON file, đây là việc chuyển đổi (ánh xạ / project) từ kinh độ và vĩ độ vốn là toạ độ của trái đất trong không gian ba chiều (3D) ra toạ độ của pixel (2D) trên màn hình. `CylindricalStereographic` được chọn để có một bản đồ Việt Nam mà chúng ta thường thấy. Kích thước của bản đồ được chọn là `800x800` pixels để nó có thể hiện vừa trọn trong browser trên laptop của mình. Kết quả là một bản đồ trọn vẹn như đã thấy ở trên.\n",
    "\n",
    "Cảm ơn **[Open Development Việt Nam](https://vietnam.opendevelopmentmekong.net/vi/)**."
   ]
  },
  {
   "cell_type": "markdown",
   "metadata": {},
   "source": [
    "## Phần 2 - Dữ liệu\n",
    "\n",
    "[Phần 2](https://medium.com/@mbostock/command-line-cartography-part-2-c3a82c5c0f3) tập trung vào việc thu thập và xữ lý dữ liệu, đồng thời kết hợp dữ liệu địa giới của phần trước với dữ liệu mới.\n",
    "\n",
    "Hãy xem chúng ta có gì trong file GeoJSON của mình:"
   ]
  },
  {
   "cell_type": "code",
   "execution_count": 7,
   "metadata": {},
   "outputs": [
    {
     "name": "stderr",
     "output_type": "stream",
     "text": [
      "'head' is not recognized as an internal or external command,\n",
      "operable program or batch file.\n"
     ]
    }
   ],
   "source": [
    "!jq . vn-projected.json | head -n 20"
   ]
  },
  {
   "cell_type": "code",
   "execution_count": 8,
   "metadata": {},
   "outputs": [
    {
     "ename": "FileNotFoundError",
     "evalue": "[Errno 2] No such file or directory: 'vn-projected.json'",
     "output_type": "error",
     "traceback": [
      "\u001b[1;31m---------------------------------------------------------------------------\u001b[0m",
      "\u001b[1;31mFileNotFoundError\u001b[0m                         Traceback (most recent call last)",
      "Cell \u001b[1;32mIn[8], line 3\u001b[0m\n\u001b[0;32m      1\u001b[0m \u001b[38;5;28;01mimport\u001b[39;00m \u001b[38;5;21;01mjson\u001b[39;00m\n\u001b[1;32m----> 3\u001b[0m \u001b[38;5;28;01mwith\u001b[39;00m \u001b[38;5;28mopen\u001b[39m(\u001b[38;5;124m'\u001b[39m\u001b[38;5;124mvn-projected.json\u001b[39m\u001b[38;5;124m'\u001b[39m) \u001b[38;5;28;01mas\u001b[39;00m f:\n\u001b[0;32m      4\u001b[0m     geo \u001b[38;5;241m=\u001b[39m json\u001b[38;5;241m.\u001b[39mload(f)\n\u001b[0;32m      5\u001b[0m geo\u001b[38;5;241m.\u001b[39mkeys()\n",
      "File \u001b[1;32me:\\Anaconda\\Lib\\site-packages\\IPython\\core\\interactiveshell.py:286\u001b[0m, in \u001b[0;36m_modified_open\u001b[1;34m(file, *args, **kwargs)\u001b[0m\n\u001b[0;32m    279\u001b[0m \u001b[38;5;28;01mif\u001b[39;00m file \u001b[38;5;129;01min\u001b[39;00m {\u001b[38;5;241m0\u001b[39m, \u001b[38;5;241m1\u001b[39m, \u001b[38;5;241m2\u001b[39m}:\n\u001b[0;32m    280\u001b[0m     \u001b[38;5;28;01mraise\u001b[39;00m \u001b[38;5;167;01mValueError\u001b[39;00m(\n\u001b[0;32m    281\u001b[0m         \u001b[38;5;124mf\u001b[39m\u001b[38;5;124m\"\u001b[39m\u001b[38;5;124mIPython won\u001b[39m\u001b[38;5;124m'\u001b[39m\u001b[38;5;124mt let you open fd=\u001b[39m\u001b[38;5;132;01m{\u001b[39;00mfile\u001b[38;5;132;01m}\u001b[39;00m\u001b[38;5;124m by default \u001b[39m\u001b[38;5;124m\"\u001b[39m\n\u001b[0;32m    282\u001b[0m         \u001b[38;5;124m\"\u001b[39m\u001b[38;5;124mas it is likely to crash IPython. If you know what you are doing, \u001b[39m\u001b[38;5;124m\"\u001b[39m\n\u001b[0;32m    283\u001b[0m         \u001b[38;5;124m\"\u001b[39m\u001b[38;5;124myou can use builtins\u001b[39m\u001b[38;5;124m'\u001b[39m\u001b[38;5;124m open.\u001b[39m\u001b[38;5;124m\"\u001b[39m\n\u001b[0;32m    284\u001b[0m     )\n\u001b[1;32m--> 286\u001b[0m \u001b[38;5;28;01mreturn\u001b[39;00m io_open(file, \u001b[38;5;241m*\u001b[39margs, \u001b[38;5;241m*\u001b[39m\u001b[38;5;241m*\u001b[39mkwargs)\n",
      "\u001b[1;31mFileNotFoundError\u001b[0m: [Errno 2] No such file or directory: 'vn-projected.json'"
     ]
    }
   ],
   "source": [
    "import json\n",
    "\n",
    "with open('vn-projected.json') as f:\n",
    "    geo = json.load(f)\n",
    "geo.keys()"
   ]
  },
  {
   "cell_type": "markdown",
   "metadata": {},
   "source": [
    "Nhìn từ đây có thể thấy GeoJSON đơn giản là 1 JSON object lớn với 1 array của các `Feature`, mỗi feature tương ứng với 1 tỉnh thành. Chúng ta có thể gán 1 tập các thuộc tính cho mỗi feature, gọi là `properties`, cũng như `geometry` data của nó dưới dạng 1 polygon.\n",
    "\n",
    "```\n",
    "{\n",
    "  \"type\": \"FeatureCollection\",\n",
    "  \"features\": [\n",
    "    {\n",
    "      \"type\": \"Feature\",\n",
    "      \"properties\": { anything ... },\n",
    "      \"geometry\": { polygon def ... }\n",
    "    },\n",
    "    ...\n",
    "  ]\n",
    "}\n",
    "```\n",
    "\n",
    "Đến bước này chỉ có duy nhất tên các tỉnh thành (cùng với một số thuộc tính `id`, `code`, không rõ ràng) và toạ độ địa lý của chúng trong dữ liệu của mình.\n",
    "\n",
    "Tiếp theo cần tìm dữ liệu dân số các tỉnh của Việt Nam. Lần này đáng mừng là chúng ta có thể tìm được dữ liệu này từ nguồn chính thống của chỉnh phủ trên website của [Tổng cục thống kê](http://www.gso.gov.vn/default.aspx?tabid=714). Tuy nhiên nguồn dữ liệu này chỉ là một trang web chứ không phải là  một API đẹp đẽ vì thế phải tốn một vài lần nhấp chuột để có tải về [file CSV chứa mật độ dân số theo địa phương](https://gist.github.com/lebinh/2b1dfa2925235388be3592fd9b483eb8)."
   ]
  },
  {
   "cell_type": "code",
   "execution_count": null,
   "metadata": {},
   "outputs": [
    {
     "data": {
      "text/plain": [
       "{'CẢ NƯỚC': 280.0,\n",
       " 'Đồng bằng sông Hồng': 994.0,\n",
       " 'Hà Nội': 2182.0,\n",
       " 'Vĩnh Phúc': 863.0,\n",
       " 'Bắc Ninh': 1432.0,\n",
       " 'Quảng Ninh': 198.0,\n",
       " 'Hải Dương': 1070.0,\n",
       " 'Hải Phòng': 1268.0,\n",
       " 'Hưng Yên': 1258.0,\n",
       " 'Thái Bình': 1128.0,\n",
       " 'Hà Nam': 932.0,\n",
       " 'Nam Định': 1110.0,\n",
       " 'Ninh Bình': 687.0,\n",
       " 'Trung du và miền núi phía Bắc': 126.0,\n",
       " 'Hà Giang': 103.0,\n",
       " 'Cao Bằng': 79.0,\n",
       " 'Bắc Kạn': 66.0,\n",
       " 'Tuyên Quang': 131.0,\n",
       " 'Lào Cai': 108.0,\n",
       " 'Yên Bái': 116.0,\n",
       " 'Thái Nguyên': 348.0,\n",
       " 'Lạng Sơn': 92.0,\n",
       " 'Bắc Giang': 426.0,\n",
       " 'Phú Thọ': 391.0,\n",
       " 'Điện Biên': 58.0,\n",
       " 'Lai Châu': 48.0,\n",
       " 'Sơn La': 86.0,\n",
       " 'Hoà Bình': 181.0,\n",
       " 'Bắc Trung Bộ và Duyên hải miền Trung': 207.0,\n",
       " 'Thanh Hoá': 317.0,\n",
       " 'Nghệ An': 188.0,\n",
       " 'Hà Tĩnh': 211.0,\n",
       " 'Quảng Bình': 110.0,\n",
       " 'Quảng Trị': 135.0,\n",
       " 'Thừa Thiên Huế': 235.0,\n",
       " 'Đà Nẵng': 814.0,\n",
       " 'Quảng Nam': 141.0,\n",
       " 'Quảng Ngãi': 243.0,\n",
       " 'Bình Định': 251.0,\n",
       " 'Phú Yên': 179.0,\n",
       " 'Khánh Hoà': 236.0,\n",
       " 'Ninh Thuận': 179.0,\n",
       " 'Bình Thuận': 154.0,\n",
       " 'Tây Nguyên': 104.0,\n",
       " 'Kon Tum': 52.0,\n",
       " 'Gia Lai': 91.0,\n",
       " 'Đắk Lắk': 144.0,\n",
       " 'Đắk Nông': 93.0,\n",
       " 'Lâm Đồng': 132.0,\n",
       " 'Đông Nam Bộ': 697.0,\n",
       " 'Bình Phước': 139.0,\n",
       " 'Tây Ninh': 277.0,\n",
       " 'Bình Dương': 741.0,\n",
       " 'Đồng Nai': 505.0,\n",
       " 'Bà Rịa - Vũng Tàu': 551.0,\n",
       " 'TP.Hồ Chí Minh': 4025.0,\n",
       " 'Đồng bằng sông Cửu Long': 433.0,\n",
       " 'Long An': 332.0,\n",
       " 'Tiền Giang': 693.0,\n",
       " 'Bến Tre': 528.0,\n",
       " 'Trà Vinh': 441.0,\n",
       " 'Vĩnh Long': 687.0,\n",
       " 'Đồng Tháp': 499.0,\n",
       " 'An Giang': 611.0,\n",
       " 'Kiên Giang': 280.0,\n",
       " 'Cần Thơ': 874.0,\n",
       " 'Hậu Giang': 476.0,\n",
       " 'Sóc Trăng': 396.0,\n",
       " 'Bạc Liêu': 332.0,\n",
       " 'Cà Mau': 234.0}"
      ]
     },
     "execution_count": 5,
     "metadata": {},
     "output_type": "execute_result"
    }
   ],
   "source": [
    "import csv\n",
    "\n",
    "density = {}\n",
    "with open('mat-do-dan-so.csv') as f:\n",
    "    reader = csv.reader(f)\n",
    "    for row in reader:\n",
    "        # check to skip the header row\n",
    "        if row[0] != ' ':\n",
    "            density[row[0]] = float(row[1])\n",
    "density"
   ]
  },
  {
   "cell_type": "markdown",
   "metadata": {},
   "source": [
    "Chúng ta cũng cần biết thêm dải giá trị (nhỏ nhất và lớn nhất) của dữ liệu này để dùng về sau."
   ]
  },
  {
   "cell_type": "code",
   "execution_count": null,
   "metadata": {},
   "outputs": [
    {
     "name": "stdout",
     "output_type": "stream",
     "text": [
      "min = 48.0\n",
      "max = 4025.0\n"
     ]
    }
   ],
   "source": [
    "print('min = {}'.format(min(density.values())))\n",
    "print('max = {}'.format(max(density.values())))"
   ]
  },
  {
   "cell_type": "markdown",
   "metadata": {},
   "source": [
    "Vấn đề đầu tiên ở đây là chúng ta không có bất kỳ `id` nào để join dữ liệu, ngoại trừ tên các tỉnh thành. Điều này nhiều khả năng sẽ dẫn đến việc không thống nhất trong dữ liệu của các tỉnh như \"Bắc Kạn\" hay \"Đắk Lắk\". Hãy xem có những tỉnh thành nào có tên ghi khác nhau trong hai bộ dữ liệu:"
   ]
  },
  {
   "cell_type": "code",
   "execution_count": null,
   "metadata": {},
   "outputs": [
    {
     "data": {
      "text/plain": [
       "{'Bà Rịa -Vũng Tàu',\n",
       " 'Cần Thơn',\n",
       " 'Hòa Bình',\n",
       " 'Khánh Hòa',\n",
       " 'Kien Giang',\n",
       " 'Quản Bình',\n",
       " 'TP. Hồ Chí Minh',\n",
       " 'Thanh Hóa',\n",
       " 'Đăk Lăk',\n",
       " 'Đăk Nông'}"
      ]
     },
     "execution_count": 7,
     "metadata": {},
     "output_type": "execute_result"
    }
   ],
   "source": [
    "geo_provinces = set(f['properties']['ten_tinh'] for f in geo['features'])\n",
    "density_provinces = set(density.keys())\n",
    "geo_provinces - density_provinces"
   ]
  },
  {
   "cell_type": "code",
   "execution_count": null,
   "metadata": {},
   "outputs": [
    {
     "data": {
      "text/plain": [
       "{'Bà Rịa - Vũng Tàu',\n",
       " 'Bắc Trung Bộ và Duyên hải miền Trung',\n",
       " 'CẢ NƯỚC',\n",
       " 'Cần Thơ',\n",
       " 'Hoà Bình',\n",
       " 'Khánh Hoà',\n",
       " 'Kiên Giang',\n",
       " 'Quảng Bình',\n",
       " 'TP.Hồ Chí Minh',\n",
       " 'Thanh Hoá',\n",
       " 'Trung du và miền núi phía Bắc',\n",
       " 'Tây Nguyên',\n",
       " 'Đông Nam Bộ',\n",
       " 'Đắk Lắk',\n",
       " 'Đắk Nông',\n",
       " 'Đồng bằng sông Cửu Long',\n",
       " 'Đồng bằng sông Hồng'}"
      ]
     },
     "execution_count": 8,
     "metadata": {},
     "output_type": "execute_result"
    }
   ],
   "source": [
    "density_provinces - geo_provinces"
   ]
  },
  {
   "cell_type": "markdown",
   "metadata": {},
   "source": [
    "Đúng như dự đoán, lỗi chính tả và sự không thống nhất là đặc trưng của tiếng Việt. Mặc dù vậy có thể thấy rằng dữ liệu từ website của cục thống kê là chuẩn xác hơn. Hãy sửa dữ liệu trong file GeoJSON của chúng ta theo tên chuẩn này, đồng thời thêm dữ liệu mật độ dân số vào các thuộc tính, cũng như bỏ đi những thuộc tính không cần thiết còn lại:"
   ]
  },
  {
   "cell_type": "code",
   "execution_count": null,
   "metadata": {},
   "outputs": [
    {
     "data": {
      "text/plain": [
       "set()"
      ]
     },
     "execution_count": 9,
     "metadata": {},
     "output_type": "execute_result"
    }
   ],
   "source": [
    "corrections = {\n",
    "    'Bà Rịa -Vũng Tàu': 'Bà Rịa - Vũng Tàu',\n",
    "    'Cần Thơn': 'Cần Thơ',\n",
    "    'Hòa Bình': 'Hoà Bình',\n",
    "    'Khánh Hòa': 'Khánh Hoà',\n",
    "    'Kien Giang': 'Kiên Giang',\n",
    "    'Quản Bình': 'Quảng Bình',\n",
    "    'TP. Hồ Chí Minh': 'TP.Hồ Chí Minh',\n",
    "    'Thanh Hóa': 'Thanh Hoá',\n",
    "    'Đăk Lăk': 'Đắk Lắk',\n",
    "    'Đăk Nông': 'Đắk Nông'\n",
    "}\n",
    "\n",
    "for feature in geo['features']:\n",
    "    name = feature['properties']['ten_tinh']\n",
    "    if name in corrections:\n",
    "        # correct province's name if needed\n",
    "        feature['properties']['ten_tinh'] = corrections[name]\n",
    "        name = corrections[name]\n",
    "    \n",
    "    # add density property and remove unused others\n",
    "    feature['properties']['density'] = density[name]\n",
    "    del feature['properties']['gid']\n",
    "    del feature['properties']['code']\n",
    "\n",
    "# and let's see if we still seeing any differences\n",
    "geo_provinces = set(f['properties']['ten_tinh'] for f in geo['features'])\n",
    "geo_provinces - density_provinces"
   ]
  },
  {
   "cell_type": "markdown",
   "metadata": {},
   "source": [
    "Empty set nghĩa là hai bộ tên tỉnh thành đã giống nhau, hãy lưu lại dữ liệu này vào một file mới."
   ]
  },
  {
   "cell_type": "code",
   "execution_count": null,
   "metadata": {},
   "outputs": [],
   "source": [
    "with open('vn-density.json', 'w') as f:\n",
    "    json.dump(geo, f)"
   ]
  },
  {
   "cell_type": "markdown",
   "metadata": {},
   "source": [
    "Phần tiếp theo chỉ đơn giản là sao chép và chạy những lệnh từ [bài hướng dẫn](https://medium.com/@mbostock/command-line-cartography-part-2-c3a82c5c0f3) của Mike Bostock. Trước hết là split file GeoJSON đang có thành file ndjson (Newline Delimited JSON)."
   ]
  },
  {
   "cell_type": "code",
   "execution_count": null,
   "metadata": {},
   "outputs": [],
   "source": [
    "!ndjson-split 'd.features' < vn-density.json > vn-density.ndjson"
   ]
  },
  {
   "cell_type": "markdown",
   "metadata": {},
   "source": [
    "Mike Bostock dành phần lớn thời gian trong phần 2 của mình để giới thiệu về NDJSON. NDJSON đơn giản là file gồm nhiều JSON objects phân tách bằng dấu xuống hàng, có nghĩa là mỗi object nằm trên một hàng. Điều này giúp cho việc xử lý trên dòng lệnh (command line) đơn giản hơn, chủ yếu vì phần lớn các công cụ và mọi người đều đã quen với cách tư duy xử lý theo từng dòng (line oriented). Còn ở đây mình chủ yếu xài python code để xử lý dữ liệu vì chủ yếu (1) đã và đang viết note này trong một Jupyter notebook và (2) lười phải học thêm một loạt lệnh mới để xử lý NDJSON như trong bài gốc.\n",
    "\n",
    "Tiếp theo đơn giản là install d3 và tạo mapping tương ứng từ mật độ dân số, `density`, tới màu tô trên bản đồ, `fill`. Domain được chọn là `[0, 4000]` vì giá trị lớn nhất của mật độ dân số là 4025 như đã thấy ở trên."
   ]
  },
  {
   "cell_type": "code",
   "execution_count": null,
   "metadata": {},
   "outputs": [
    {
     "name": "stdout",
     "output_type": "stream",
     "text": [
      "\u001b[K\u001b[?25h+ d3@5.7.027m\u001b[90m░░░░░░\u001b[0m⸩ ⠙ build:iconv-lite: \u001b[7msill\u001b[0m \u001b[35mlinkStuff\u001b[0m iconv-lite@0.4.24 is in\u001b[0m\u001b[Km\u001b[K\n",
      "added 36 packages from 4 contributors in 8.243s\n"
     ]
    }
   ],
   "source": [
    "!npm install -gs d3"
   ]
  },
  {
   "cell_type": "code",
   "execution_count": null,
   "metadata": {},
   "outputs": [],
   "source": [
    "!ndjson-map -r d3 \\\n",
    "  '(d.properties.fill = d3.scaleSequential(d3.interpolateViridis).domain([0, 4000])(d.properties.density), d)' \\\n",
    "  < vn-density.ndjson \\\n",
    "  > vn-color.ndjson"
   ]
  },
  {
   "cell_type": "markdown",
   "metadata": {},
   "source": [
    "Cuối cùng là render ảnh SVG từ file NDJSON bằng `geo2svg`."
   ]
  },
  {
   "cell_type": "code",
   "execution_count": null,
   "metadata": {},
   "outputs": [],
   "source": [
    "!geo2svg -n --stroke none -p 1 -w 800 -h 800 < vn-color.ndjson > vn-color.svg"
   ]
  },
  {
   "cell_type": "markdown",
   "metadata": {},
   "source": [
    "![vn-color.svg](./vn-color.svg)"
   ]
  },
  {
   "cell_type": "markdown",
   "metadata": {},
   "source": [
    "Ta da! 🎉\n",
    "\n",
    "Ít nhất là bây giờ chúng ta đã có một cái gì đó *nhìn được*, giờ hãy làm cho nó tốt hơn."
   ]
  },
  {
   "cell_type": "markdown",
   "metadata": {},
   "source": [
    "## Phần 3 - Tối ưu dữ liệu\n",
    "\n",
    "[Phần 3](https://medium.com/@mbostock/command-line-cartography-part-3-1158e4c55a1e) tập trung vào việc tối ưu kích thước lưu trữ (và tất nhiên, truyền tải) của dữ liệu bằng cách chuyển sang TopoJSON.\n",
    "\n",
    "Hãy xem lại kích thước của file GeoJSON mà chúng ta tạo ra từ phần trước."
   ]
  },
  {
   "cell_type": "code",
   "execution_count": null,
   "metadata": {},
   "outputs": [
    {
     "name": "stdout",
     "output_type": "stream",
     "text": [
      "-rw-r--r-- 1 binhle staff 3.9M Oct  9 18:29 vn-density.json\r\n"
     ]
    }
   ],
   "source": [
    "!ls -lh vn-density.json"
   ]
  },
  {
   "cell_type": "markdown",
   "metadata": {},
   "source": [
    "*3.9 MB* không quá lớn nhưng cũng đủ nặng để cụ già ở nông thôn từ bỏ ý định xem bản đồ của chúng ta khi lướt web trên 3G mức 1 vạch. Đáng mừng có nhiều cách để giảm kích thước file:\n",
    "\n",
    "* Simplify - ví dụ chúng ta có thể đơn giản hoá bản đồ bằng cách [bỏ bớt điểm trên đường kẻ](https://bost.ocks.org/mike/simplify/)\n",
    "* Quantize - hoặc chúng ta có thể giảm độ chính xác của số liệu bằng cách bỏ bớt chữ số sau dấu thập phân, vd 224.3021507494117 thành 224.3\n",
    "* Compress - hoặc bỏ các thành phần trùng lặp và nén nó lại\n",
    "\n",
    "Tuy nhiên cách tốt nhất để giảm dung lượng file GeoJSON là chuyển nó sang dạng [TopoJSON](https://github.com/topojson/topojson). TopoJSON có được kích thước tối ưu hơn GeoJSON nhờ\n",
    "\n",
    "1. Thể hiện lines và polygon bằng danh sách các đường cong (arcs) thay vì danh sách các toạ độ (coordinates). Điều này đặc biệt hiệu quả với bản đồ có nhiều đường biên giới giao nhau, vốn là các đường cong giống nhau và nhờ vậy không cần lặp lại như trong trường hợp toạ độ.\n",
    "2. Toạ độ trong TopoJSON có thể được quantized, có nghĩa là thể hiện dưới dạng đơn giản hơn (integer thay vì float) và delta-encoded để giảm dung lượng.\n",
    "\n",
    "Điều quan trọng nhất là bạn có thể bỏ qua những chuyện đó (*như mình*) và sử dụng công cụ có sẵn để chuyển đổi từ file GeoJSON sang file TopoJSON."
   ]
  },
  {
   "cell_type": "code",
   "execution_count": null,
   "metadata": {},
   "outputs": [
    {
     "name": "stdout",
     "output_type": "stream",
     "text": [
      "\u001b[K\u001b[?25h/usr/local/bin/toposimplify -> /usr/local/lib/node_modules/topojson/node_modules/topojson-simplify/bin/toposimplifyK\n",
      "/usr/local/bin/topo2geo -> /usr/local/lib/node_modules/topojson/node_modules/topojson-client/bin/topo2geo\n",
      "/usr/local/bin/topomerge -> /usr/local/lib/node_modules/topojson/node_modules/topojson-client/bin/topomerge\n",
      "/usr/local/bin/topoquantize -> /usr/local/lib/node_modules/topojson/node_modules/topojson-client/bin/topoquantize\n",
      "/usr/local/bin/geo2topo -> /usr/local/lib/node_modules/topojson/node_modules/topojson-server/bin/geo2topo\n",
      "\u001b[K\u001b[?25h+ topojson@3.0.227m\u001b[90m░░░░░░\u001b[0m⸩ ⠏ install:topojson: \u001b[7msill\u001b[0m \u001b[35mdoSerial\u001b[0m install 40\u001b[0m\u001b[K\n",
      "added 5 packages from 2 contributors in 3.511s\n"
     ]
    }
   ],
   "source": [
    "!npm install -gs topojson"
   ]
  },
  {
   "cell_type": "markdown",
   "metadata": {},
   "source": [
    "Một lệnh đơn giản để chuyển file GeoJSON thành TopoJSON."
   ]
  },
  {
   "cell_type": "code",
   "execution_count": null,
   "metadata": {},
   "outputs": [],
   "source": [
    "!geo2topo -n tracts=vn-density.ndjson > vn-tracts-topo.json"
   ]
  },
  {
   "cell_type": "markdown",
   "metadata": {},
   "source": [
    "Tiếp theo là simplify, tương tự như hướng dẫn gốc. "
   ]
  },
  {
   "cell_type": "code",
   "execution_count": null,
   "metadata": {},
   "outputs": [],
   "source": [
    "!toposimplify -p 1 -f < vn-tracts-topo.json > vn-simple-topo.json"
   ]
  },
  {
   "cell_type": "markdown",
   "metadata": {},
   "source": [
    "Và cuối cùng là quantize."
   ]
  },
  {
   "cell_type": "code",
   "execution_count": null,
   "metadata": {},
   "outputs": [],
   "source": [
    "!topoquantize 1e5 < vn-simple-topo.json > vn-quantized-topo.json"
   ]
  },
  {
   "cell_type": "code",
   "execution_count": null,
   "metadata": {},
   "outputs": [
    {
     "name": "stdout",
     "output_type": "stream",
     "text": [
      "-rw-r--r-- 1 binhle staff  40K Oct  9 18:30 vn-quantized-topo.json\r\n",
      "-rw-r--r-- 1 binhle staff 119K Oct  9 18:30 vn-simple-topo.json\r\n",
      "-rw-r--r-- 1 binhle staff 2.8M Oct  9 18:30 vn-tracts-topo.json\r\n"
     ]
    }
   ],
   "source": [
    "!ls -lh *-topo.json"
   ]
  },
  {
   "cell_type": "markdown",
   "metadata": {},
   "source": [
    "Kết quả: kích thước file giảm đến gần 100 lần qua các bước trên, từ gần 4MB chỉ còn lại 40KB. Điều này cộng thêm nén bằng `gzip` khi transfer, một trong những kỹ thuật tối ưu phổ biến, có thể đem lại kích cỡ tối ưu (~15KB) để hiển thị trên web. Nhưng đổi lại những cách thức này có làm giảm độ chính xác trong bản đồ hay không? Hãy so sánh bản đồ trước và sau khi tối ưu bằng cách tạo ra một ảnh động từ 2 hình."
   ]
  },
  {
   "cell_type": "code",
   "execution_count": null,
   "metadata": {},
   "outputs": [],
   "source": [
    "!topo2geo tracts=- < vn-quantized-topo.json | \\\n",
    "    geo2svg -w 800 -h 800 > vn-quantized-topo.svg\n",
    "!convert -delay 100 -loop 0 vn.svg vn-quantized-topo.svg vn-quantized-topo.gif"
   ]
  },
  {
   "cell_type": "markdown",
   "metadata": {},
   "source": [
    "![vn-quantized-topo.gif](./vn-quantized-topo.gif)"
   ]
  },
  {
   "cell_type": "markdown",
   "metadata": {},
   "source": [
    "Lưu ý là các bước trên như simplify hay quantize có thể làm mất thông tin gốc tuy nhiên có thể chấp nhận được nếu sử dụng hợp lý. Ví dụ ở đây có thể thấy biên giới các tỉnh gần như không có gì thay đổi khi nhìn bằng mắt thường. Điểm khác biệt lớn nhất là sự biến mất của các đảo nhỏ tập trung ở khu vực Hạ Long, bờ biển miền Trung, Phú Quốc, và quần đảo Trường Sa. Tuy nhiên các đảo chính và hình dáng quần đảo vẫn được bảo tồn, như mục tiêu của chúng ta.\n",
    "\n",
    "**Bản đồ này không phải là bản đồ địa giới chính thống nước Việt Nam**, nó chỉ là công cụ có tính chất minh hoạ số liệu."
   ]
  },
  {
   "cell_type": "markdown",
   "metadata": {},
   "source": [
    "## Phần 4 - Hoàn thiện\n",
    "\n",
    "[Phần 4](https://medium.com/@mbostock/command-line-cartography-part-4-82d0d26df0cf) tập trung vào việc hoàn thiện bản đồ với màu sắc thể hiện tốt hơn dữ liệu này cũng như một vài yếu tố thẩm mỹ khác.\n",
    "\n",
    "Không có nhiều sự thay đổi hay chỉnh sửa lớn nào cần thiết so với hướng dẫn gốc trong phần này. Phần lớn công việc bây giờ chỉ là copy & paste.\n",
    "\n",
    "Bắt đầu bằng sequential mapping của dữ liệu tương tự như trong phần 2."
   ]
  },
  {
   "cell_type": "code",
   "execution_count": null,
   "metadata": {},
   "outputs": [],
   "source": [
    "!topo2geo tracts=- \\\n",
    "  < vn-quantized-topo.json \\\n",
    "  | ndjson-map -r d3 'z = d3.scaleSequential(d3.interpolateViridis).domain([0, 4000]), d.features.forEach(f => f.properties.fill = z(f.properties.density)), d' \\\n",
    "  | ndjson-split 'd.features' \\\n",
    "  | geo2svg -n --stroke none -p 1 -w 800 -h 800 \\\n",
    "  > vn-topo-color.svg"
   ]
  },
  {
   "cell_type": "markdown",
   "metadata": {},
   "source": [
    "![vn-topo-color.svg](./vn-topo-color.svg)"
   ]
  },
  {
   "cell_type": "markdown",
   "metadata": {},
   "source": [
    "Bởi vì mật đồ dân số lớn hơn hẳn các nơi của TP. Hồ Chí Minh hay Hà Nội, các tỉnh thành khác gần như có màu gần nhau và khó phân biệt với dải màu tuần tự (linear). Tác giả đề nghị sử dụng exponential scale, cụ thể là thang căn bậc 2, để giúp giảm sự phân biệt giữa thấp và cao này. Nhờ đó làm sáng hơn các vùng tối màu và giúp phân biệt chúng rõ hơn."
   ]
  },
  {
   "cell_type": "code",
   "execution_count": null,
   "metadata": {},
   "outputs": [],
   "source": [
    "!topo2geo tracts=- \\\n",
    "  < vn-quantized-topo.json \\\n",
    "  | ndjson-map -r d3 'z = d3.scaleSequential(d3.interpolateViridis).domain([0, 65]), d.features.forEach(f => f.properties.fill = z(Math.sqrt(f.properties.density))), d' \\\n",
    "  | ndjson-split 'd.features' \\\n",
    "  | geo2svg -n --stroke none -p 1 -w 800 -h 800 \\\n",
    "  > vn-topo-sqrt.svg"
   ]
  },
  {
   "cell_type": "markdown",
   "metadata": {},
   "source": [
    "![vn-topo-sqrt.svg](./vn-topo-sqrt.svg)"
   ]
  },
  {
   "cell_type": "markdown",
   "metadata": {},
   "source": [
    "Cuối cùng là gợi ý sử dụng các ngưỡng giá trị cụ thể (thresholds) cộng với một thang màu rời rạc thay vì các giá trị liên tục, sử dụng `d3-scale-chromatic`."
   ]
  },
  {
   "cell_type": "code",
   "execution_count": null,
   "metadata": {},
   "outputs": [
    {
     "name": "stdout",
     "output_type": "stream",
     "text": [
      "\u001b[K\u001b[?25h+ d3-scale-chromatic@1.3.30m⸩ ⠏ refresh-package-json:d3-scale-chromatic: \u001b[32;40mtiming\u001b[0m \u001b[35maction:f\u001b[0m\u001b[Km\u001b[K\n",
      "added 3 packages from 1 contributor in 1.445s\n"
     ]
    }
   ],
   "source": [
    "!npm install -gs d3-scale-chromatic"
   ]
  },
  {
   "cell_type": "code",
   "execution_count": null,
   "metadata": {},
   "outputs": [],
   "source": [
    "!topo2geo tracts=- \\\n",
    "  < vn-quantized-topo.json \\\n",
    "  | ndjson-map -r d3 -r d3=d3-scale-chromatic 'z = d3.scaleThreshold().domain([1, 50, 200, 500, 1000, 2000, 4000]).range(d3.schemeOrRd[8]), d.features.forEach(f => f.properties.fill = z(f.properties.density)), d' \\\n",
    "  | ndjson-split 'd.features' \\\n",
    "  | geo2svg -n --stroke none -p 1 -w 800 -h 800 \\\n",
    "  > vn-topo-threshold.svg"
   ]
  },
  {
   "cell_type": "markdown",
   "metadata": {},
   "source": [
    "![vn-topo-threshold.svg](./vn-topo-threshold.svg)"
   ]
  },
  {
   "cell_type": "markdown",
   "metadata": {},
   "source": [
    "Thang màu sử dụng ở đây, `d3.schemeOrRd[8]`, là [OrDr với 8 màu](http://colorbrewer2.org/#type=sequential&scheme=OrRd&n=8).\n",
    "\n",
    "Bước cuối cùng là thêm chú giải cho các màu được sử dụng. Đáng tiếc là chú giải này được tạo ra bằng một cách không được dễ dàng cho lắm, bằng D3 trong browser và copy output SVG vào file bản đồ."
   ]
  },
  {
   "cell_type": "code",
   "execution_count": null,
   "metadata": {},
   "outputs": [],
   "source": [
    "%%bash\n",
    "# bash is needed for <() construct used below\n",
    "\n",
    "export KEY_GIST_URL='https://gist.githubusercontent.com/lebinh/65a3743f07bbefd8fb507b589541d39b/raw/d77dcecda3ae59f020c2ac0351216aacbb26eb56/key.svg'\n",
    "sed 's#</svg>##' < vn-topo-threshold.svg | \\\n",
    "  cat - <(curl -s $KEY_GIST_URL) <(echo '</svg>') \\\n",
    "  > vn-population-density.svg"
   ]
  },
  {
   "cell_type": "markdown",
   "metadata": {},
   "source": [
    "![vn-population-density.svg](./vn-population-density.svg)"
   ]
  },
  {
   "cell_type": "markdown",
   "metadata": {},
   "source": [
    "Note này đến đây là hết nhưng đây chưa phải là kết quả cuối cùng. Vẫn còn quá nhiều bước và thao tác chỉ để có một bản đồ đơn giản này. Chúng ta có thể làm tốt hơn.\n",
    "\n",
    "Nhưng cái đó hãy để lần tới 😅"
   ]
  }
 ],
 "metadata": {
  "kernelspec": {
   "display_name": "base",
   "language": "python",
   "name": "python3"
  },
  "language_info": {
   "codemirror_mode": {
    "name": "ipython",
    "version": 3
   },
   "file_extension": ".py",
   "mimetype": "text/x-python",
   "name": "python",
   "nbconvert_exporter": "python",
   "pygments_lexer": "ipython3",
   "version": "3.11.5"
  }
 },
 "nbformat": 4,
 "nbformat_minor": 2
}
