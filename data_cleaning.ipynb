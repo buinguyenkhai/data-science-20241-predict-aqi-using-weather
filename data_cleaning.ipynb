{
 "cells": [
  {
   "cell_type": "code",
   "execution_count": 1,
   "metadata": {},
   "outputs": [],
   "source": [
    "import pandas as pd\n",
    "import matplotlib.pyplot as plt"
   ]
  },
  {
   "cell_type": "markdown",
   "metadata": {},
   "source": [
    "### Read CSV files"
   ]
  },
  {
   "cell_type": "code",
   "execution_count": 2,
   "metadata": {},
   "outputs": [],
   "source": [
    "weather_df = pd.read_csv(\"data/region/vietnam/weather.csv\", header=[0, 1], index_col=0)\n",
    "cities_df = pd.read_csv(\"data/region/vietnam/cities.csv\")\n",
    "air_df = pd.read_csv(\"data/region/vietnam/air_quality.csv\", header=[0, 1], index_col=0)"
   ]
  },
  {
   "cell_type": "code",
   "execution_count": 3,
   "metadata": {},
   "outputs": [
    {
     "data": {
      "text/html": [
       "<div>\n",
       "<style scoped>\n",
       "    .dataframe tbody tr th:only-of-type {\n",
       "        vertical-align: middle;\n",
       "    }\n",
       "\n",
       "    .dataframe tbody tr th {\n",
       "        vertical-align: top;\n",
       "    }\n",
       "\n",
       "    .dataframe thead tr th {\n",
       "        text-align: left;\n",
       "    }\n",
       "\n",
       "    .dataframe thead tr:last-of-type th {\n",
       "        text-align: right;\n",
       "    }\n",
       "</style>\n",
       "<table border=\"1\" class=\"dataframe\">\n",
       "  <thead>\n",
       "    <tr>\n",
       "      <th></th>\n",
       "      <th colspan=\"8\" halign=\"left\">Ho Chi Minh City, Vietnam</th>\n",
       "      <th colspan=\"2\" halign=\"left\">Hanoi, Vietnam</th>\n",
       "      <th>...</th>\n",
       "      <th colspan=\"2\" halign=\"left\">Kon Tum, Vietnam</th>\n",
       "      <th colspan=\"8\" halign=\"left\">Đà Nẵng, Vietnam</th>\n",
       "    </tr>\n",
       "    <tr>\n",
       "      <th></th>\n",
       "      <th>temperature_2m</th>\n",
       "      <th>relative_humidity_2m</th>\n",
       "      <th>dew_point_2m</th>\n",
       "      <th>precipitation</th>\n",
       "      <th>surface_pressure</th>\n",
       "      <th>cloud_cover</th>\n",
       "      <th>wind_speed_10m</th>\n",
       "      <th>wind_direction_10m</th>\n",
       "      <th>temperature_2m</th>\n",
       "      <th>relative_humidity_2m</th>\n",
       "      <th>...</th>\n",
       "      <th>wind_speed_10m</th>\n",
       "      <th>wind_direction_10m</th>\n",
       "      <th>temperature_2m</th>\n",
       "      <th>relative_humidity_2m</th>\n",
       "      <th>dew_point_2m</th>\n",
       "      <th>precipitation</th>\n",
       "      <th>surface_pressure</th>\n",
       "      <th>cloud_cover</th>\n",
       "      <th>wind_speed_10m</th>\n",
       "      <th>wind_direction_10m</th>\n",
       "    </tr>\n",
       "    <tr>\n",
       "      <th>time</th>\n",
       "      <th></th>\n",
       "      <th></th>\n",
       "      <th></th>\n",
       "      <th></th>\n",
       "      <th></th>\n",
       "      <th></th>\n",
       "      <th></th>\n",
       "      <th></th>\n",
       "      <th></th>\n",
       "      <th></th>\n",
       "      <th></th>\n",
       "      <th></th>\n",
       "      <th></th>\n",
       "      <th></th>\n",
       "      <th></th>\n",
       "      <th></th>\n",
       "      <th></th>\n",
       "      <th></th>\n",
       "      <th></th>\n",
       "      <th></th>\n",
       "      <th></th>\n",
       "    </tr>\n",
       "  </thead>\n",
       "  <tbody>\n",
       "    <tr>\n",
       "      <th>2020-11-28T00:00</th>\n",
       "      <td>25.4</td>\n",
       "      <td>91.0</td>\n",
       "      <td>23.8</td>\n",
       "      <td>0.0</td>\n",
       "      <td>1010.3</td>\n",
       "      <td>74.0</td>\n",
       "      <td>8.1</td>\n",
       "      <td>291.0</td>\n",
       "      <td>17.9</td>\n",
       "      <td>73.0</td>\n",
       "      <td>...</td>\n",
       "      <td>5.1</td>\n",
       "      <td>51.0</td>\n",
       "      <td>24.0</td>\n",
       "      <td>86.0</td>\n",
       "      <td>21.5</td>\n",
       "      <td>0.9</td>\n",
       "      <td>1016.8</td>\n",
       "      <td>100.0</td>\n",
       "      <td>22.6</td>\n",
       "      <td>34.0</td>\n",
       "    </tr>\n",
       "    <tr>\n",
       "      <th>2020-11-28T01:00</th>\n",
       "      <td>24.8</td>\n",
       "      <td>92.0</td>\n",
       "      <td>23.5</td>\n",
       "      <td>0.0</td>\n",
       "      <td>1009.8</td>\n",
       "      <td>50.0</td>\n",
       "      <td>5.5</td>\n",
       "      <td>349.0</td>\n",
       "      <td>17.7</td>\n",
       "      <td>73.0</td>\n",
       "      <td>...</td>\n",
       "      <td>4.5</td>\n",
       "      <td>61.0</td>\n",
       "      <td>23.8</td>\n",
       "      <td>85.0</td>\n",
       "      <td>21.1</td>\n",
       "      <td>1.1</td>\n",
       "      <td>1016.4</td>\n",
       "      <td>100.0</td>\n",
       "      <td>25.1</td>\n",
       "      <td>27.0</td>\n",
       "    </tr>\n",
       "  </tbody>\n",
       "</table>\n",
       "<p>2 rows × 504 columns</p>\n",
       "</div>"
      ],
      "text/plain": [
       "                 Ho Chi Minh City, Vietnam                                    \\\n",
       "                            temperature_2m relative_humidity_2m dew_point_2m   \n",
       "time                                                                           \n",
       "2020-11-28T00:00                      25.4                 91.0         23.8   \n",
       "2020-11-28T01:00                      24.8                 92.0         23.5   \n",
       "\n",
       "                                                                            \\\n",
       "                 precipitation surface_pressure cloud_cover wind_speed_10m   \n",
       "time                                                                         \n",
       "2020-11-28T00:00           0.0           1010.3        74.0            8.1   \n",
       "2020-11-28T01:00           0.0           1009.8        50.0            5.5   \n",
       "\n",
       "                                    Hanoi, Vietnam                       ...  \\\n",
       "                 wind_direction_10m temperature_2m relative_humidity_2m  ...   \n",
       "time                                                                     ...   \n",
       "2020-11-28T00:00              291.0           17.9                 73.0  ...   \n",
       "2020-11-28T01:00              349.0           17.7                 73.0  ...   \n",
       "\n",
       "                 Kon Tum, Vietnam                    Đà Nẵng, Vietnam  \\\n",
       "                   wind_speed_10m wind_direction_10m   temperature_2m   \n",
       "time                                                                    \n",
       "2020-11-28T00:00              5.1               51.0             24.0   \n",
       "2020-11-28T01:00              4.5               61.0             23.8   \n",
       "\n",
       "                                                                  \\\n",
       "                 relative_humidity_2m dew_point_2m precipitation   \n",
       "time                                                               \n",
       "2020-11-28T00:00                 86.0         21.5           0.9   \n",
       "2020-11-28T01:00                 85.0         21.1           1.1   \n",
       "\n",
       "                                                              \\\n",
       "                 surface_pressure cloud_cover wind_speed_10m   \n",
       "time                                                           \n",
       "2020-11-28T00:00           1016.8       100.0           22.6   \n",
       "2020-11-28T01:00           1016.4       100.0           25.1   \n",
       "\n",
       "                                     \n",
       "                 wind_direction_10m  \n",
       "time                                 \n",
       "2020-11-28T00:00               34.0  \n",
       "2020-11-28T01:00               27.0  \n",
       "\n",
       "[2 rows x 504 columns]"
      ]
     },
     "execution_count": 3,
     "metadata": {},
     "output_type": "execute_result"
    }
   ],
   "source": [
    "weather_df.head(2)"
   ]
  },
  {
   "cell_type": "markdown",
   "metadata": {},
   "source": [
    "### Multi-level index to Normal index"
   ]
  },
  {
   "cell_type": "code",
   "execution_count": 4,
   "metadata": {},
   "outputs": [
    {
     "name": "stderr",
     "output_type": "stream",
     "text": [
      "C:\\Users\\KHAI\\AppData\\Local\\Temp\\ipykernel_21024\\4052551259.py:1: FutureWarning: The previous implementation of stack is deprecated and will be removed in a future version of pandas. See the What's New notes for pandas 2.1.0 for details. Specify future_stack=True to adopt the new implementation and silence this warning.\n",
      "  weather_df = weather_df.stack(level=0).reset_index()\n",
      "C:\\Users\\KHAI\\AppData\\Local\\Temp\\ipykernel_21024\\4052551259.py:4: FutureWarning: The previous implementation of stack is deprecated and will be removed in a future version of pandas. See the What's New notes for pandas 2.1.0 for details. Specify future_stack=True to adopt the new implementation and silence this warning.\n",
      "  air_df = air_df.stack(level=0).reset_index()\n"
     ]
    }
   ],
   "source": [
    "weather_df = weather_df.stack(level=0).reset_index()\n",
    "weather_df.rename(columns={'level_1': 'location'}, inplace=True)\n",
    "\n",
    "air_df = air_df.stack(level=0).reset_index()\n",
    "air_df.rename(columns={'level_1': 'location'}, inplace=True)"
   ]
  },
  {
   "cell_type": "code",
   "execution_count": 5,
   "metadata": {},
   "outputs": [
    {
     "data": {
      "text/html": [
       "<div>\n",
       "<style scoped>\n",
       "    .dataframe tbody tr th:only-of-type {\n",
       "        vertical-align: middle;\n",
       "    }\n",
       "\n",
       "    .dataframe tbody tr th {\n",
       "        vertical-align: top;\n",
       "    }\n",
       "\n",
       "    .dataframe thead th {\n",
       "        text-align: right;\n",
       "    }\n",
       "</style>\n",
       "<table border=\"1\" class=\"dataframe\">\n",
       "  <thead>\n",
       "    <tr style=\"text-align: right;\">\n",
       "      <th></th>\n",
       "      <th>time</th>\n",
       "      <th>location</th>\n",
       "      <th>temperature_2m</th>\n",
       "      <th>relative_humidity_2m</th>\n",
       "      <th>dew_point_2m</th>\n",
       "      <th>precipitation</th>\n",
       "      <th>surface_pressure</th>\n",
       "      <th>cloud_cover</th>\n",
       "      <th>wind_speed_10m</th>\n",
       "      <th>wind_direction_10m</th>\n",
       "    </tr>\n",
       "  </thead>\n",
       "  <tbody>\n",
       "    <tr>\n",
       "      <th>0</th>\n",
       "      <td>2020-11-28T00:00</td>\n",
       "      <td>Biên Hòa, Vietnam</td>\n",
       "      <td>25.5</td>\n",
       "      <td>96.0</td>\n",
       "      <td>24.8</td>\n",
       "      <td>0.0</td>\n",
       "      <td>1010.8</td>\n",
       "      <td>41.0</td>\n",
       "      <td>5.5</td>\n",
       "      <td>11.0</td>\n",
       "    </tr>\n",
       "    <tr>\n",
       "      <th>1</th>\n",
       "      <td>2020-11-28T00:00</td>\n",
       "      <td>Buôn Ma Thuột, Vietnam</td>\n",
       "      <td>20.6</td>\n",
       "      <td>87.0</td>\n",
       "      <td>18.4</td>\n",
       "      <td>0.0</td>\n",
       "      <td>961.3</td>\n",
       "      <td>92.0</td>\n",
       "      <td>4.3</td>\n",
       "      <td>42.0</td>\n",
       "    </tr>\n",
       "  </tbody>\n",
       "</table>\n",
       "</div>"
      ],
      "text/plain": [
       "               time                location  temperature_2m  \\\n",
       "0  2020-11-28T00:00       Biên Hòa, Vietnam            25.5   \n",
       "1  2020-11-28T00:00  Buôn Ma Thuột, Vietnam            20.6   \n",
       "\n",
       "   relative_humidity_2m  dew_point_2m  precipitation  surface_pressure  \\\n",
       "0                  96.0          24.8            0.0            1010.8   \n",
       "1                  87.0          18.4            0.0             961.3   \n",
       "\n",
       "   cloud_cover  wind_speed_10m  wind_direction_10m  \n",
       "0         41.0             5.5                11.0  \n",
       "1         92.0             4.3                42.0  "
      ]
     },
     "execution_count": 5,
     "metadata": {},
     "output_type": "execute_result"
    }
   ],
   "source": [
    "weather_df.head(2)"
   ]
  },
  {
   "cell_type": "code",
   "execution_count": 6,
   "metadata": {},
   "outputs": [
    {
     "data": {
      "text/html": [
       "<div>\n",
       "<style scoped>\n",
       "    .dataframe tbody tr th:only-of-type {\n",
       "        vertical-align: middle;\n",
       "    }\n",
       "\n",
       "    .dataframe tbody tr th {\n",
       "        vertical-align: top;\n",
       "    }\n",
       "\n",
       "    .dataframe thead th {\n",
       "        text-align: right;\n",
       "    }\n",
       "</style>\n",
       "<table border=\"1\" class=\"dataframe\">\n",
       "  <thead>\n",
       "    <tr style=\"text-align: right;\">\n",
       "      <th></th>\n",
       "      <th>city</th>\n",
       "      <th>city_ascii</th>\n",
       "      <th>lat</th>\n",
       "      <th>lng</th>\n",
       "      <th>country</th>\n",
       "      <th>iso2</th>\n",
       "      <th>iso3</th>\n",
       "      <th>admin_name</th>\n",
       "      <th>capital</th>\n",
       "      <th>population</th>\n",
       "      <th>id</th>\n",
       "    </tr>\n",
       "  </thead>\n",
       "  <tbody>\n",
       "    <tr>\n",
       "      <th>0</th>\n",
       "      <td>Ho Chi Minh City</td>\n",
       "      <td>Ho Chi Minh City</td>\n",
       "      <td>10.7756</td>\n",
       "      <td>106.7019</td>\n",
       "      <td>Vietnam</td>\n",
       "      <td>VN</td>\n",
       "      <td>VNM</td>\n",
       "      <td>Hồ Chí Minh</td>\n",
       "      <td>admin</td>\n",
       "      <td>15136000.0</td>\n",
       "      <td>1704774326</td>\n",
       "    </tr>\n",
       "    <tr>\n",
       "      <th>1</th>\n",
       "      <td>Hanoi</td>\n",
       "      <td>Hanoi</td>\n",
       "      <td>21.0000</td>\n",
       "      <td>105.8500</td>\n",
       "      <td>Vietnam</td>\n",
       "      <td>VN</td>\n",
       "      <td>VNM</td>\n",
       "      <td>Hà Nội</td>\n",
       "      <td>primary</td>\n",
       "      <td>8246600.0</td>\n",
       "      <td>1704413791</td>\n",
       "    </tr>\n",
       "  </tbody>\n",
       "</table>\n",
       "</div>"
      ],
      "text/plain": [
       "               city        city_ascii      lat       lng  country iso2 iso3  \\\n",
       "0  Ho Chi Minh City  Ho Chi Minh City  10.7756  106.7019  Vietnam   VN  VNM   \n",
       "1             Hanoi             Hanoi  21.0000  105.8500  Vietnam   VN  VNM   \n",
       "\n",
       "    admin_name  capital  population          id  \n",
       "0  Hồ Chí Minh    admin  15136000.0  1704774326  \n",
       "1       Hà Nội  primary   8246600.0  1704413791  "
      ]
     },
     "execution_count": 6,
     "metadata": {},
     "output_type": "execute_result"
    }
   ],
   "source": [
    "cities_df.head(2)"
   ]
  },
  {
   "cell_type": "code",
   "execution_count": 7,
   "metadata": {},
   "outputs": [
    {
     "data": {
      "text/html": [
       "<div>\n",
       "<style scoped>\n",
       "    .dataframe tbody tr th:only-of-type {\n",
       "        vertical-align: middle;\n",
       "    }\n",
       "\n",
       "    .dataframe tbody tr th {\n",
       "        vertical-align: top;\n",
       "    }\n",
       "\n",
       "    .dataframe thead th {\n",
       "        text-align: right;\n",
       "    }\n",
       "</style>\n",
       "<table border=\"1\" class=\"dataframe\">\n",
       "  <thead>\n",
       "    <tr style=\"text-align: right;\">\n",
       "      <th></th>\n",
       "      <th>time</th>\n",
       "      <th>location</th>\n",
       "      <th>co</th>\n",
       "      <th>no2</th>\n",
       "      <th>o3</th>\n",
       "      <th>so2</th>\n",
       "      <th>pm2_5</th>\n",
       "      <th>pm10</th>\n",
       "      <th>aqi</th>\n",
       "    </tr>\n",
       "  </thead>\n",
       "  <tbody>\n",
       "    <tr>\n",
       "      <th>0</th>\n",
       "      <td>2020-11-28 00:00:00</td>\n",
       "      <td>Biên Hòa, Vietnam</td>\n",
       "      <td>363.83</td>\n",
       "      <td>6.51</td>\n",
       "      <td>33.26</td>\n",
       "      <td>3.76</td>\n",
       "      <td>8.60</td>\n",
       "      <td>12.78</td>\n",
       "      <td>1.0</td>\n",
       "    </tr>\n",
       "    <tr>\n",
       "      <th>1</th>\n",
       "      <td>2020-11-28 00:00:00</td>\n",
       "      <td>Buôn Ma Thuột, Vietnam</td>\n",
       "      <td>410.56</td>\n",
       "      <td>6.00</td>\n",
       "      <td>47.21</td>\n",
       "      <td>2.44</td>\n",
       "      <td>16.49</td>\n",
       "      <td>19.68</td>\n",
       "      <td>2.0</td>\n",
       "    </tr>\n",
       "  </tbody>\n",
       "</table>\n",
       "</div>"
      ],
      "text/plain": [
       "                  time                location      co   no2     o3   so2  \\\n",
       "0  2020-11-28 00:00:00       Biên Hòa, Vietnam  363.83  6.51  33.26  3.76   \n",
       "1  2020-11-28 00:00:00  Buôn Ma Thuột, Vietnam  410.56  6.00  47.21  2.44   \n",
       "\n",
       "   pm2_5   pm10  aqi  \n",
       "0   8.60  12.78  1.0  \n",
       "1  16.49  19.68  2.0  "
      ]
     },
     "execution_count": 7,
     "metadata": {},
     "output_type": "execute_result"
    }
   ],
   "source": [
    "air_df.head(2)"
   ]
  },
  {
   "cell_type": "markdown",
   "metadata": {},
   "source": [
    "### Get province from location"
   ]
  },
  {
   "cell_type": "code",
   "execution_count": 8,
   "metadata": {},
   "outputs": [],
   "source": [
    "weather_df[['province', 'country']] = weather_df['location'].str.split(',', expand=True)\n",
    "weather_df = weather_df.drop(columns=['location'])\n",
    "\n",
    "air_df[['province', 'country']] = air_df['location'].str.split(',', expand=True)\n",
    "air_df = air_df.drop(columns=['location'])"
   ]
  },
  {
   "cell_type": "code",
   "execution_count": 9,
   "metadata": {},
   "outputs": [
    {
     "data": {
      "text/html": [
       "<div>\n",
       "<style scoped>\n",
       "    .dataframe tbody tr th:only-of-type {\n",
       "        vertical-align: middle;\n",
       "    }\n",
       "\n",
       "    .dataframe tbody tr th {\n",
       "        vertical-align: top;\n",
       "    }\n",
       "\n",
       "    .dataframe thead th {\n",
       "        text-align: right;\n",
       "    }\n",
       "</style>\n",
       "<table border=\"1\" class=\"dataframe\">\n",
       "  <thead>\n",
       "    <tr style=\"text-align: right;\">\n",
       "      <th></th>\n",
       "      <th>time</th>\n",
       "      <th>co</th>\n",
       "      <th>no2</th>\n",
       "      <th>o3</th>\n",
       "      <th>so2</th>\n",
       "      <th>pm2_5</th>\n",
       "      <th>pm10</th>\n",
       "      <th>aqi</th>\n",
       "      <th>province</th>\n",
       "      <th>country</th>\n",
       "    </tr>\n",
       "  </thead>\n",
       "  <tbody>\n",
       "    <tr>\n",
       "      <th>0</th>\n",
       "      <td>2020-11-28 00:00:00</td>\n",
       "      <td>363.83</td>\n",
       "      <td>6.51</td>\n",
       "      <td>33.26</td>\n",
       "      <td>3.76</td>\n",
       "      <td>8.60</td>\n",
       "      <td>12.78</td>\n",
       "      <td>1.0</td>\n",
       "      <td>Biên Hòa</td>\n",
       "      <td>Vietnam</td>\n",
       "    </tr>\n",
       "    <tr>\n",
       "      <th>1</th>\n",
       "      <td>2020-11-28 00:00:00</td>\n",
       "      <td>410.56</td>\n",
       "      <td>6.00</td>\n",
       "      <td>47.21</td>\n",
       "      <td>2.44</td>\n",
       "      <td>16.49</td>\n",
       "      <td>19.68</td>\n",
       "      <td>2.0</td>\n",
       "      <td>Buôn Ma Thuột</td>\n",
       "      <td>Vietnam</td>\n",
       "    </tr>\n",
       "  </tbody>\n",
       "</table>\n",
       "</div>"
      ],
      "text/plain": [
       "                  time      co   no2     o3   so2  pm2_5   pm10  aqi  \\\n",
       "0  2020-11-28 00:00:00  363.83  6.51  33.26  3.76   8.60  12.78  1.0   \n",
       "1  2020-11-28 00:00:00  410.56  6.00  47.21  2.44  16.49  19.68  2.0   \n",
       "\n",
       "        province   country  \n",
       "0       Biên Hòa   Vietnam  \n",
       "1  Buôn Ma Thuột   Vietnam  "
      ]
     },
     "execution_count": 9,
     "metadata": {},
     "output_type": "execute_result"
    }
   ],
   "source": [
    "air_df.head(2)"
   ]
  },
  {
   "cell_type": "markdown",
   "metadata": {},
   "source": [
    "### Use cities_df to get correct province name for both weather and air data"
   ]
  },
  {
   "cell_type": "code",
   "execution_count": 10,
   "metadata": {},
   "outputs": [],
   "source": [
    "weather_df = weather_df.merge(cities_df[['city', 'admin_name']], right_on='city', left_on='province', how='left')\n",
    "weather_df.drop(columns=['country', 'city', 'province'], inplace=True)\n",
    "weather_df.rename(columns={'admin_name': 'province'}, inplace=True)\n",
    "\n",
    "air_df = air_df.merge(cities_df[['city', 'admin_name']], right_on='city', left_on='province', how='left')\n",
    "air_df.drop(columns=['country', 'city', 'province'], inplace=True)\n",
    "air_df.rename(columns={'admin_name': 'province'}, inplace=True)"
   ]
  },
  {
   "cell_type": "markdown",
   "metadata": {},
   "source": [
    "Set datetime types"
   ]
  },
  {
   "cell_type": "code",
   "execution_count": 11,
   "metadata": {},
   "outputs": [],
   "source": [
    "# Set datetime dtypes\n",
    "weather_df['time'] = weather_df['time'].astype('datetime64[s]')\n",
    "air_df['time'] = air_df['time'].astype('datetime64[s]')"
   ]
  },
  {
   "cell_type": "code",
   "execution_count": 12,
   "metadata": {},
   "outputs": [
    {
     "data": {
      "text/html": [
       "<div>\n",
       "<style scoped>\n",
       "    .dataframe tbody tr th:only-of-type {\n",
       "        vertical-align: middle;\n",
       "    }\n",
       "\n",
       "    .dataframe tbody tr th {\n",
       "        vertical-align: top;\n",
       "    }\n",
       "\n",
       "    .dataframe thead th {\n",
       "        text-align: right;\n",
       "    }\n",
       "</style>\n",
       "<table border=\"1\" class=\"dataframe\">\n",
       "  <thead>\n",
       "    <tr style=\"text-align: right;\">\n",
       "      <th></th>\n",
       "      <th>time</th>\n",
       "      <th>temperature_2m</th>\n",
       "      <th>relative_humidity_2m</th>\n",
       "      <th>dew_point_2m</th>\n",
       "      <th>precipitation</th>\n",
       "      <th>surface_pressure</th>\n",
       "      <th>cloud_cover</th>\n",
       "      <th>wind_speed_10m</th>\n",
       "      <th>wind_direction_10m</th>\n",
       "      <th>province</th>\n",
       "    </tr>\n",
       "  </thead>\n",
       "  <tbody>\n",
       "    <tr>\n",
       "      <th>0</th>\n",
       "      <td>2020-11-28</td>\n",
       "      <td>25.5</td>\n",
       "      <td>96.0</td>\n",
       "      <td>24.8</td>\n",
       "      <td>0.0</td>\n",
       "      <td>1010.8</td>\n",
       "      <td>41.0</td>\n",
       "      <td>5.5</td>\n",
       "      <td>11.0</td>\n",
       "      <td>Đồng Nai</td>\n",
       "    </tr>\n",
       "    <tr>\n",
       "      <th>1</th>\n",
       "      <td>2020-11-28</td>\n",
       "      <td>20.6</td>\n",
       "      <td>87.0</td>\n",
       "      <td>18.4</td>\n",
       "      <td>0.0</td>\n",
       "      <td>961.3</td>\n",
       "      <td>92.0</td>\n",
       "      <td>4.3</td>\n",
       "      <td>42.0</td>\n",
       "      <td>Đắk Lắk</td>\n",
       "    </tr>\n",
       "  </tbody>\n",
       "</table>\n",
       "</div>"
      ],
      "text/plain": [
       "        time  temperature_2m  relative_humidity_2m  dew_point_2m  \\\n",
       "0 2020-11-28            25.5                  96.0          24.8   \n",
       "1 2020-11-28            20.6                  87.0          18.4   \n",
       "\n",
       "   precipitation  surface_pressure  cloud_cover  wind_speed_10m  \\\n",
       "0            0.0            1010.8         41.0             5.5   \n",
       "1            0.0             961.3         92.0             4.3   \n",
       "\n",
       "   wind_direction_10m  province  \n",
       "0                11.0  Đồng Nai  \n",
       "1                42.0   Đắk Lắk  "
      ]
     },
     "execution_count": 12,
     "metadata": {},
     "output_type": "execute_result"
    }
   ],
   "source": [
    "weather_df.head(2)"
   ]
  },
  {
   "cell_type": "markdown",
   "metadata": {},
   "source": [
    "### Check null values"
   ]
  },
  {
   "cell_type": "code",
   "execution_count": 13,
   "metadata": {},
   "outputs": [
    {
     "name": "stdout",
     "output_type": "stream",
     "text": [
      "False\n",
      "False\n"
     ]
    }
   ],
   "source": [
    "print(air_df.isnull().values.any())\n",
    "print(weather_df.isnull().values.any())"
   ]
  },
  {
   "cell_type": "markdown",
   "metadata": {},
   "source": [
    "### Check negative values"
   ]
  },
  {
   "cell_type": "markdown",
   "metadata": {},
   "source": [
    "Get attributes only (exclude time and province)"
   ]
  },
  {
   "cell_type": "code",
   "execution_count": 14,
   "metadata": {},
   "outputs": [],
   "source": [
    "air_df_attr = air_df.iloc[:,1:-1]\n",
    "weather_df_attr = weather_df.iloc[:,1:-1]"
   ]
  },
  {
   "cell_type": "code",
   "execution_count": 15,
   "metadata": {},
   "outputs": [
    {
     "name": "stdout",
     "output_type": "stream",
     "text": [
      "True\n",
      "True\n"
     ]
    }
   ],
   "source": [
    "print((air_df_attr.values < 0).any())\n",
    "print((weather_df_attr.values < 0).any())"
   ]
  },
  {
   "cell_type": "code",
   "execution_count": 16,
   "metadata": {},
   "outputs": [
    {
     "name": "stdout",
     "output_type": "stream",
     "text": [
      "252\n",
      "3532\n"
     ]
    }
   ],
   "source": [
    "neg_air_count = (air_df_attr.values < 0).sum()\n",
    "neg_weather_count = (weather_df_attr.values < 0).sum()\n",
    "\n",
    "print(neg_air_count)\n",
    "print(neg_weather_count)"
   ]
  },
  {
   "cell_type": "code",
   "execution_count": 17,
   "metadata": {},
   "outputs": [
    {
     "name": "stdout",
     "output_type": "stream",
     "text": [
      "0.0001166041538841478\n",
      "0.001612891441263753\n"
     ]
    }
   ],
   "source": [
    "removed_neg_air = air_df.loc[air_df_attr[air_df_attr >= 0].dropna().index]\n",
    "removed_neg_weather = weather_df.loc[weather_df_attr[weather_df_attr >= 0].dropna().index]\n",
    "\n",
    "print(1 - removed_neg_air.shape[0]/air_df_attr.shape[0])\n",
    "print(1 - removed_neg_weather.shape[0]/weather_df_attr.shape[0])"
   ]
  },
  {
   "cell_type": "markdown",
   "metadata": {},
   "source": [
    "0.01% and 0.1% of rows containing negative values for air and weather data respectively"
   ]
  },
  {
   "cell_type": "code",
   "execution_count": 18,
   "metadata": {},
   "outputs": [],
   "source": [
    "air_df = removed_neg_air\n",
    "weather_df = removed_neg_weather"
   ]
  },
  {
   "cell_type": "code",
   "execution_count": 19,
   "metadata": {},
   "outputs": [
    {
     "name": "stdout",
     "output_type": "stream",
     "text": [
      "0\n",
      "0\n"
     ]
    }
   ],
   "source": [
    "print((air_df.iloc[:,1:-1].values < 0).sum())\n",
    "print((weather_df.iloc[:,1:-1].values < 0).sum())"
   ]
  },
  {
   "cell_type": "markdown",
   "metadata": {},
   "source": [
    "### Check missing provinces, timestamps"
   ]
  },
  {
   "cell_type": "markdown",
   "metadata": {},
   "source": [
    "Set time as index"
   ]
  },
  {
   "cell_type": "code",
   "execution_count": 20,
   "metadata": {},
   "outputs": [],
   "source": [
    "weather_df.set_index(weather_df.columns[0], inplace=True)\n",
    "air_df.set_index(air_df.columns[0], inplace=True)"
   ]
  },
  {
   "cell_type": "markdown",
   "metadata": {},
   "source": [
    "Match timestamps for air data and weather data"
   ]
  },
  {
   "cell_type": "code",
   "execution_count": 21,
   "metadata": {},
   "outputs": [
    {
     "name": "stdout",
     "output_type": "stream",
     "text": [
      "2020-11-27 17:00:00 2020-11-28 00:00:00\n",
      "2024-11-16 11:00:00 2024-11-15 07:00:00\n"
     ]
    }
   ],
   "source": [
    "print(air_df.index.min(), weather_df.index.min())\n",
    "print(air_df.index.max(), weather_df.index.max())"
   ]
  },
  {
   "cell_type": "code",
   "execution_count": 22,
   "metadata": {},
   "outputs": [],
   "source": [
    "starting_timepstamp = max(air_df.index.min(), weather_df.index.min())\n",
    "ending_timepstamp = min(air_df.index.max(), weather_df.index.max())\n",
    "\n",
    "air_df = air_df[starting_timepstamp:ending_timepstamp]\n",
    "weather_df = weather_df[starting_timepstamp:ending_timepstamp]"
   ]
  },
  {
   "cell_type": "markdown",
   "metadata": {},
   "source": [
    "Timestamps with missing provinces"
   ]
  },
  {
   "cell_type": "code",
   "execution_count": 23,
   "metadata": {},
   "outputs": [
    {
     "name": "stdout",
     "output_type": "stream",
     "text": [
      "count\n",
      "63    34143\n",
      "61      109\n",
      "58       17\n",
      "56        7\n",
      "2         4\n",
      "Name: count, dtype: int64\n",
      "count\n",
      "63    34180\n",
      "62      180\n",
      "61       67\n",
      "60       47\n",
      "59       37\n",
      "58       29\n",
      "55       22\n",
      "56       20\n",
      "57       16\n",
      "51       16\n",
      "49       15\n",
      "48       14\n",
      "53       14\n",
      "47       14\n",
      "46       13\n",
      "54       13\n",
      "44       12\n",
      "45       12\n",
      "43       11\n",
      "52       10\n",
      "50        9\n",
      "42        7\n",
      "41        2\n",
      "Name: count, dtype: int64\n"
     ]
    }
   ],
   "source": [
    "air_date_counts = air_df.index.value_counts()\n",
    "weather_date_counts = weather_df.index.value_counts()\n",
    "\n",
    "print(air_date_counts.value_counts())\n",
    "print(weather_date_counts.value_counts())"
   ]
  },
  {
   "cell_type": "markdown",
   "metadata": {},
   "source": [
    "Air data"
   ]
  },
  {
   "cell_type": "code",
   "execution_count": 24,
   "metadata": {},
   "outputs": [
    {
     "data": {
      "text/plain": [
       "<Axes: title={'center': 'Number of provinces available per hour in air data'}, xlabel='time'>"
      ]
     },
     "execution_count": 24,
     "metadata": {},
     "output_type": "execute_result"
    },
    {
     "data": {
      "image/png": "[encoded data removed]",
      "text/plain": [
       "<Figure size 640x480 with 1 Axes>"
      ]
     },
     "metadata": {},
     "output_type": "display_data"
    }
   ],
   "source": [
    "air_date_counts.plot(style='k.', title='Number of provinces available per hour in air data')"
   ]
  },
  {
   "cell_type": "markdown",
   "metadata": {},
   "source": [
    "Missing provinces for 8035 hourly timestamps (0.3%)"
   ]
  },
  {
   "cell_type": "code",
   "execution_count": 25,
   "metadata": {},
   "outputs": [
    {
     "name": "stdout",
     "output_type": "stream",
     "text": [
      "8035\n",
      "0.0037215545398796876\n"
     ]
    }
   ],
   "source": [
    "missing_provinces_air = air_df.loc[air_date_counts[air_date_counts < 63].index]\n",
    "print(missing_provinces_air.shape[0])\n",
    "print(missing_provinces_air.shape[0]/air_df.shape[0])"
   ]
  },
  {
   "cell_type": "markdown",
   "metadata": {},
   "source": [
    "Drop hourly timestamp with missing provinces"
   ]
  },
  {
   "cell_type": "code",
   "execution_count": 26,
   "metadata": {},
   "outputs": [],
   "source": [
    "dropped_air_df = air_df.loc[air_date_counts[air_date_counts == 63].index].sort_index()"
   ]
  },
  {
   "cell_type": "code",
   "execution_count": 27,
   "metadata": {},
   "outputs": [
    {
     "data": {
      "text/plain": [
       "<Axes: title={'center': 'Number of provinces available per hour in air data'}, xlabel='time'>"
      ]
     },
     "execution_count": 27,
     "metadata": {},
     "output_type": "execute_result"
    },
    {
     "data": {
      "image/png": "[encoded data removed]",
      "text/plain": [
       "<Figure size 640x480 with 1 Axes>"
      ]
     },
     "metadata": {},
     "output_type": "display_data"
    }
   ],
   "source": [
    "dropped_air_df.index.value_counts().plot(style='k.', title='Number of provinces available per hour in air data')"
   ]
  },
  {
   "cell_type": "markdown",
   "metadata": {},
   "source": [
    "Weather data"
   ]
  },
  {
   "cell_type": "code",
   "execution_count": 28,
   "metadata": {},
   "outputs": [
    {
     "data": {
      "text/plain": [
       "<Axes: title={'center': 'Number of provinces available per hour in weather data'}, xlabel='time'>"
      ]
     },
     "execution_count": 28,
     "metadata": {},
     "output_type": "execute_result"
    },
    {
     "data": {
      "image/png": "[encoded data removed]",
      "text/plain": [
       "<Figure size 640x480 with 1 Axes>"
      ]
     },
     "metadata": {},
     "output_type": "display_data"
    }
   ],
   "source": [
    "weather_date_counts.plot(style='k.', title='Number of provinces available per hour in weather data')"
   ]
  },
  {
   "cell_type": "markdown",
   "metadata": {},
   "source": [
    "Missing provinces for 32984 hourly timestamps (1.5%)"
   ]
  },
  {
   "cell_type": "code",
   "execution_count": 29,
   "metadata": {},
   "outputs": [
    {
     "name": "stdout",
     "output_type": "stream",
     "text": [
      "32984\n",
      "0.015086510508049128\n"
     ]
    }
   ],
   "source": [
    "missing_provinces_weather = weather_df.loc[weather_date_counts[weather_date_counts < 63].index]\n",
    "print(missing_provinces_weather.shape[0])\n",
    "print(missing_provinces_weather.shape[0]/weather_df.shape[0])"
   ]
  },
  {
   "cell_type": "markdown",
   "metadata": {},
   "source": [
    "Drop hourly timestamps with missing provinces"
   ]
  },
  {
   "cell_type": "code",
   "execution_count": 30,
   "metadata": {},
   "outputs": [],
   "source": [
    "dropped_weather_df = weather_df.loc[weather_date_counts[weather_date_counts == 63].index].sort_index()"
   ]
  },
  {
   "cell_type": "code",
   "execution_count": 31,
   "metadata": {},
   "outputs": [
    {
     "data": {
      "text/plain": [
       "<Axes: title={'center': 'Number of provinces available per hour in weather data'}, xlabel='time'>"
      ]
     },
     "execution_count": 31,
     "metadata": {},
     "output_type": "execute_result"
    },
    {
     "data": {
      "image/png": "[encoded data removed]",
      "text/plain": [
       "<Figure size 640x480 with 1 Axes>"
      ]
     },
     "metadata": {},
     "output_type": "display_data"
    }
   ],
   "source": [
    "dropped_weather_df.index.value_counts().plot(style='k.', title='Number of provinces available per hour in weather data')\n"
   ]
  },
  {
   "cell_type": "markdown",
   "metadata": {},
   "source": [
    "Missing 617 and 580 timestamps for air data and weather data respectively"
   ]
  },
  {
   "cell_type": "code",
   "execution_count": 32,
   "metadata": {},
   "outputs": [
    {
     "data": {
      "text/plain": [
       "(617,)"
      ]
     },
     "execution_count": 32,
     "metadata": {},
     "output_type": "execute_result"
    }
   ],
   "source": [
    "full_date_range = pd.date_range(start=starting_timepstamp, end=ending_timepstamp, freq='h')\n",
    "\n",
    "missing_dates_air = full_date_range.difference(dropped_air_df.index)\n",
    "missing_dates_air.shape"
   ]
  },
  {
   "cell_type": "code",
   "execution_count": 33,
   "metadata": {},
   "outputs": [
    {
     "data": {
      "text/plain": [
       "(580,)"
      ]
     },
     "execution_count": 33,
     "metadata": {},
     "output_type": "execute_result"
    }
   ],
   "source": [
    "missing_dates_weather = full_date_range.difference(dropped_weather_df.index)\n",
    "missing_dates_weather.shape"
   ]
  },
  {
   "cell_type": "markdown",
   "metadata": {},
   "source": [
    "Plot missing hourly timestamps for both data"
   ]
  },
  {
   "cell_type": "code",
   "execution_count": 34,
   "metadata": {},
   "outputs": [],
   "source": [
    "missing_overlap = missing_dates_weather.intersection(missing_dates_air)\n",
    "missing_air_only = missing_dates_air.difference(missing_overlap)\n",
    "missing_weather_only = missing_dates_weather.difference(missing_overlap)"
   ]
  },
  {
   "cell_type": "code",
   "execution_count": 35,
   "metadata": {},
   "outputs": [
    {
     "data": {
      "image/png": "[encoded data removed]",
      "text/plain": [
       "<Figure size 640x480 with 1 Axes>"
      ]
     },
     "metadata": {},
     "output_type": "display_data"
    }
   ],
   "source": [
    "fig, ax = plt.subplots()\n",
    "ax.scatter(missing_overlap, [1] * len(missing_overlap), color=\"green\", label=\"Both\")\n",
    "ax.scatter(missing_weather_only, [1] * len(missing_weather_only), color=\"blue\", label=\"Weather\")\n",
    "ax.scatter(missing_air_only, [1] * len(missing_air_only), color=\"red\", label=\"Air\")\n",
    "\n",
    "fig.autofmt_xdate()\n",
    "plt.title('Missing hourly timestamps for both data')\n",
    "ax.legend()\n",
    "plt.show()"
   ]
  },
  {
   "cell_type": "markdown",
   "metadata": {},
   "source": [
    "Missing 1197 timestamps in total if dropped (3.4%)"
   ]
  },
  {
   "cell_type": "code",
   "execution_count": 36,
   "metadata": {},
   "outputs": [
    {
     "name": "stdout",
     "output_type": "stream",
     "text": [
      "1197\n",
      "0.0344361334867664\n"
     ]
    }
   ],
   "source": [
    "missing_union = missing_dates_weather.union(missing_dates_air)\n",
    "print(missing_union.shape[0])\n",
    "print(missing_union.shape[0]/full_date_range.shape[0])"
   ]
  },
  {
   "cell_type": "markdown",
   "metadata": {},
   "source": [
    "Match available timestamps for both air and weather data"
   ]
  },
  {
   "cell_type": "markdown",
   "metadata": {},
   "source": [
    "For dropped dataframes"
   ]
  },
  {
   "cell_type": "code",
   "execution_count": 37,
   "metadata": {},
   "outputs": [],
   "source": [
    "dropped_air_df.drop(missing_weather_only, inplace=True)\n",
    "dropped_weather_df.drop(missing_air_only, inplace=True)"
   ]
  },
  {
   "cell_type": "markdown",
   "metadata": {},
   "source": [
    "For regulara dataframes"
   ]
  },
  {
   "cell_type": "markdown",
   "metadata": {},
   "source": [
    "Match index (time, province) for both air and weather data"
   ]
  },
  {
   "cell_type": "code",
   "execution_count": 38,
   "metadata": {},
   "outputs": [],
   "source": [
    "multi_idx_air = air_df.reset_index().set_index(['time', 'province'])\n",
    "multi_idx_weather = weather_df.reset_index().set_index(['time', 'province'])"
   ]
  },
  {
   "cell_type": "code",
   "execution_count": 39,
   "metadata": {},
   "outputs": [],
   "source": [
    "intersect_index = multi_idx_air.index.intersection(multi_idx_weather.index)\n",
    "\n",
    "multi_idx_air = multi_idx_air.loc[intersect_index]\n",
    "multi_idx_weather = multi_idx_weather.loc[intersect_index]"
   ]
  },
  {
   "cell_type": "code",
   "execution_count": 43,
   "metadata": {},
   "outputs": [],
   "source": [
    "weather_df = multi_idx_weather\n",
    "air_df = multi_idx_air"
   ]
  },
  {
   "cell_type": "markdown",
   "metadata": {},
   "source": [
    "### Interpolation"
   ]
  },
  {
   "cell_type": "code",
   "execution_count": 48,
   "metadata": {},
   "outputs": [],
   "source": [
    "import numpy as np"
   ]
  },
  {
   "cell_type": "markdown",
   "metadata": {},
   "source": [
    "Creating artificial random gaps from longest consecutive timestamps (to calculate losses for different interpolation methods)"
   ]
  },
  {
   "cell_type": "markdown",
   "metadata": {},
   "source": [
    "Identify the start of each sequence of consecutive timestamps (True if the start of sequence)"
   ]
  },
  {
   "cell_type": "code",
   "execution_count": 103,
   "metadata": {},
   "outputs": [
    {
     "data": {
      "text/plain": [
       "time\n",
       "2020-11-28 00:00:00     True\n",
       "2020-11-28 01:00:00    False\n",
       "2020-11-28 02:00:00    False\n",
       "2020-11-28 03:00:00    False\n",
       "2020-11-28 04:00:00    False\n",
       "Name: time, dtype: bool"
      ]
     },
     "execution_count": 103,
     "metadata": {},
     "output_type": "execute_result"
    }
   ],
   "source": [
    "start_of_consec_seq = air_df.index.drop_duplicates().to_series().diff() != pd.Timedelta('0 days 01:00:00')\n",
    "start_of_consec_seq.head(5)"
   ]
  },
  {
   "cell_type": "markdown",
   "metadata": {},
   "source": [
    "Counter/identifer for each sequence"
   ]
  },
  {
   "cell_type": "code",
   "execution_count": 104,
   "metadata": {},
   "outputs": [
    {
     "data": {
      "text/html": [
       "<div>\n",
       "<style scoped>\n",
       "    .dataframe tbody tr th:only-of-type {\n",
       "        vertical-align: middle;\n",
       "    }\n",
       "\n",
       "    .dataframe tbody tr th {\n",
       "        vertical-align: top;\n",
       "    }\n",
       "\n",
       "    .dataframe thead th {\n",
       "        text-align: right;\n",
       "    }\n",
       "</style>\n",
       "<table border=\"1\" class=\"dataframe\">\n",
       "  <thead>\n",
       "    <tr style=\"text-align: right;\">\n",
       "      <th></th>\n",
       "      <th>group</th>\n",
       "    </tr>\n",
       "    <tr>\n",
       "      <th>time</th>\n",
       "      <th></th>\n",
       "    </tr>\n",
       "  </thead>\n",
       "  <tbody>\n",
       "    <tr>\n",
       "      <th>2020-11-28 00:00:00</th>\n",
       "      <td>1</td>\n",
       "    </tr>\n",
       "    <tr>\n",
       "      <th>2020-11-28 01:00:00</th>\n",
       "      <td>1</td>\n",
       "    </tr>\n",
       "    <tr>\n",
       "      <th>2020-11-28 02:00:00</th>\n",
       "      <td>1</td>\n",
       "    </tr>\n",
       "    <tr>\n",
       "      <th>2020-11-28 03:00:00</th>\n",
       "      <td>1</td>\n",
       "    </tr>\n",
       "    <tr>\n",
       "      <th>2020-11-28 04:00:00</th>\n",
       "      <td>1</td>\n",
       "    </tr>\n",
       "    <tr>\n",
       "      <th>...</th>\n",
       "      <td>...</td>\n",
       "    </tr>\n",
       "    <tr>\n",
       "      <th>2024-11-15 03:00:00</th>\n",
       "      <td>17</td>\n",
       "    </tr>\n",
       "    <tr>\n",
       "      <th>2024-11-15 04:00:00</th>\n",
       "      <td>17</td>\n",
       "    </tr>\n",
       "    <tr>\n",
       "      <th>2024-11-15 05:00:00</th>\n",
       "      <td>17</td>\n",
       "    </tr>\n",
       "    <tr>\n",
       "      <th>2024-11-15 06:00:00</th>\n",
       "      <td>17</td>\n",
       "    </tr>\n",
       "    <tr>\n",
       "      <th>2024-11-15 07:00:00</th>\n",
       "      <td>17</td>\n",
       "    </tr>\n",
       "  </tbody>\n",
       "</table>\n",
       "<p>34280 rows × 1 columns</p>\n",
       "</div>"
      ],
      "text/plain": [
       "                     group\n",
       "time                      \n",
       "2020-11-28 00:00:00      1\n",
       "2020-11-28 01:00:00      1\n",
       "2020-11-28 02:00:00      1\n",
       "2020-11-28 03:00:00      1\n",
       "2020-11-28 04:00:00      1\n",
       "...                    ...\n",
       "2024-11-15 03:00:00     17\n",
       "2024-11-15 04:00:00     17\n",
       "2024-11-15 05:00:00     17\n",
       "2024-11-15 06:00:00     17\n",
       "2024-11-15 07:00:00     17\n",
       "\n",
       "[34280 rows x 1 columns]"
      ]
     },
     "execution_count": 104,
     "metadata": {},
     "output_type": "execute_result"
    }
   ],
   "source": [
    "consec_seq_id = start_of_consec_seq.cumsum().to_frame(name='group')\n",
    "consec_seq_id"
   ]
  },
  {
   "cell_type": "markdown",
   "metadata": {},
   "source": [
    "Group id with their group length"
   ]
  },
  {
   "cell_type": "code",
   "execution_count": 105,
   "metadata": {},
   "outputs": [
    {
     "data": {
      "text/plain": [
       "group\n",
       "1     1448\n",
       "2     8640\n",
       "3      648\n",
       "4     3576\n",
       "5     3360\n",
       "6      336\n",
       "7     1416\n",
       "8      168\n",
       "9     3264\n",
       "10    1584\n",
       "11     120\n",
       "12    2376\n",
       "13    2088\n",
       "14    1680\n",
       "15     864\n",
       "16    1128\n",
       "17    1584\n",
       "dtype: int64"
      ]
     },
     "execution_count": 105,
     "metadata": {},
     "output_type": "execute_result"
    }
   ],
   "source": [
    "grouped = consec_seq_id.groupby('group').size()\n",
    "grouped"
   ]
  },
  {
   "cell_type": "markdown",
   "metadata": {},
   "source": [
    "Select group with the longest consecutive timestamps"
   ]
  },
  {
   "cell_type": "code",
   "execution_count": 106,
   "metadata": {},
   "outputs": [
    {
     "data": {
      "text/plain": [
       "DatetimeIndex(['2021-01-28 08:00:00', '2021-01-28 09:00:00',\n",
       "               '2021-01-28 10:00:00', '2021-01-28 11:00:00',\n",
       "               '2021-01-28 12:00:00', '2021-01-28 13:00:00',\n",
       "               '2021-01-28 14:00:00', '2021-01-28 15:00:00',\n",
       "               '2021-01-28 16:00:00', '2021-01-28 17:00:00',\n",
       "               ...\n",
       "               '2022-01-22 22:00:00', '2022-01-22 23:00:00',\n",
       "               '2022-01-23 00:00:00', '2022-01-23 01:00:00',\n",
       "               '2022-01-23 02:00:00', '2022-01-23 03:00:00',\n",
       "               '2022-01-23 04:00:00', '2022-01-23 05:00:00',\n",
       "               '2022-01-23 06:00:00', '2022-01-23 07:00:00'],\n",
       "              dtype='datetime64[s]', name='time', length=8640, freq=None)"
      ]
     },
     "execution_count": 106,
     "metadata": {},
     "output_type": "execute_result"
    }
   ],
   "source": [
    "longest_sequence = consec_seq_id[consec_seq_id['group'] == grouped.idxmax()].index\n",
    "longest_sequence"
   ]
  },
  {
   "cell_type": "markdown",
   "metadata": {},
   "source": [
    "Randomly drop 5% of timestamps (rows) from the longest sequence"
   ]
  },
  {
   "cell_type": "code",
   "execution_count": 107,
   "metadata": {},
   "outputs": [],
   "source": [
    "full_seq_air = air_df.loc[longest_sequence].reset_index().set_index(['time', 'province'])\n",
    "full_seq_weather = weather_df.loc[longest_sequence].reset_index().set_index(['time', 'province'])"
   ]
  },
  {
   "cell_type": "code",
   "execution_count": 108,
   "metadata": {},
   "outputs": [
    {
     "data": {
      "text/plain": [
       "(27214,)"
      ]
     },
     "execution_count": 108,
     "metadata": {},
     "output_type": "execute_result"
    }
   ],
   "source": [
    "n_drop = int(len(full_seq_air.index) * 0.05)\n",
    "np.random.seed(24)\n",
    "drop_indices = np.random.choice(full_seq_air.index, size=n_drop, replace=False)\n",
    "drop_indices.shape"
   ]
  },
  {
   "cell_type": "code",
   "execution_count": 109,
   "metadata": {},
   "outputs": [],
   "source": [
    "missing_seq_air = full_seq_air.drop(index=drop_indices)\n",
    "missing_seq_weather = full_seq_weather.drop(index=drop_indices)"
   ]
  },
  {
   "cell_type": "markdown",
   "metadata": {},
   "source": [
    "Re-index missing timestamps for interpolation"
   ]
  },
  {
   "cell_type": "code",
   "execution_count": 110,
   "metadata": {},
   "outputs": [],
   "source": [
    "missing_seq_air = missing_seq_air.reindex(full_seq_air.index)\n",
    "missing_seq_weather = missing_seq_weather.reindex(full_seq_weather.index)"
   ]
  },
  {
   "cell_type": "markdown",
   "metadata": {},
   "source": [
    "Unstack for interpolation"
   ]
  },
  {
   "cell_type": "code",
   "execution_count": 111,
   "metadata": {},
   "outputs": [],
   "source": [
    "missing_seq_air_unstacked = missing_seq_air.unstack(level='province', fill_value=np.nan)\n",
    "missing_seq_weather_unstacked = missing_seq_weather.unstack(level='province', fill_value=np.nan)"
   ]
  },
  {
   "cell_type": "code",
   "execution_count": null,
   "metadata": {},
   "outputs": [
    {
     "name": "stderr",
     "output_type": "stream",
     "text": [
      "C:\\Users\\KHAI\\AppData\\Local\\Packages\\PythonSoftwareFoundation.Python.3.12_qbz5n2kfra8p0\\LocalCache\\local-packages\\Python312\\site-packages\\pandas\\core\\missing.py:604: UserWarning: \n",
      "The maximal number of iterations maxit (set to 20 by the program)\n",
      "allowed for finding a smoothing spline with fp=s has been reached: s\n",
      "too small.\n",
      "There is an approximation returned but the corresponding weighted sum\n",
      "of squared residuals does not satisfy the condition abs(fp-s)/s < tol.\n",
      "  terp = interpolate.UnivariateSpline(x, y, k=order, **kwargs)\n",
      "C:\\Users\\KHAI\\AppData\\Local\\Packages\\PythonSoftwareFoundation.Python.3.12_qbz5n2kfra8p0\\LocalCache\\local-packages\\Python312\\site-packages\\pandas\\core\\missing.py:604: UserWarning: \n",
      "The maximal number of iterations maxit (set to 20 by the program)\n",
      "allowed for finding a smoothing spline with fp=s has been reached: s\n",
      "too small.\n",
      "There is an approximation returned but the corresponding weighted sum\n",
      "of squared residuals does not satisfy the condition abs(fp-s)/s < tol.\n",
      "  terp = interpolate.UnivariateSpline(x, y, k=order, **kwargs)\n"
     ]
    }
   ],
   "source": [
    "linear_interpolated_air_unstacked = missing_seq_air_unstacked.interpolate(\n",
    "    method='linear', axis=0, limit=None, limit_direction='both')\n",
    "time_interpolated_air_unstacked = missing_seq_air_unstacked.interpolate(\n",
    "    method='time', axis=0, limit=None, limit_direction='both')\n",
    "spline2_interpolated_air_unstacked = missing_seq_air_unstacked.interpolate(\n",
    "    method='spline', axis=0, limit=None, limit_direction='both', order=2)\n",
    "spline3_interpolated_air_unstacked = missing_seq_air_unstacked.interpolate(\n",
    "    method='spline', axis=0, limit=None, limit_direction='both', order=3)\n",
    "\n",
    "linear_interpolated_weather_unstacked = missing_seq_weather_unstacked.interpolate(\n",
    "    method='linear', axis=0, limit=None, limit_direction='both')\n",
    "time_interpolated_weather_unstacked = missing_seq_weather_unstacked.interpolate(\n",
    "    method='time', axis=0, limit=None, limit_direction='both')\n",
    "spline2_interpolated_weather_unstacked = missing_seq_weather_unstacked.interpolate(\n",
    "    method='spline', axis=0, limit=None, limit_direction='both', order=2)\n",
    "spline3_interpolated_weather_unstacked = missing_seq_weather_unstacked.interpolate(\n",
    "    method='spline', axis=0, limit=None, limit_direction='both', order=3)"
   ]
  },
  {
   "cell_type": "code",
   "execution_count": null,
   "metadata": {},
   "outputs": [],
   "source": [
    "linear_interpolated_air = linear_interpolated_air_unstacked.stack(level='province', future_stack=True).sort_index()\n",
    "time_interpolated_air = time_interpolated_air_unstacked.stack(level='province', future_stack=True).sort_index()\n",
    "spline2_interpolated_air = spline2_interpolated_air_unstacked.stack(level='province', future_stack=True).sort_index()\n",
    "spline3_interpolated_air = spline3_interpolated_air_unstacked.stack(level='province', future_stack=True).sort_index()\n",
    "\n",
    "linear_interpolated_weather = linear_interpolated_weather_unstacked.stack(level='province', future_stack=True).sort_index()\n",
    "time_interpolated_weather = time_interpolated_weather_unstacked.stack(level='province', future_stack=True).sort_index()\n",
    "spline2_interpolated_weather = spline2_interpolated_weather_unstacked.stack(level='province', future_stack=True).sort_index()\n",
    "spline3_interpolated_weather = spline3_interpolated_weather_unstacked.stack(level='province', future_stack=True).sort_index()\n"
   ]
  },
  {
   "cell_type": "code",
   "execution_count": 148,
   "metadata": {},
   "outputs": [],
   "source": [
    "from sklearn.metrics import mean_absolute_error, mean_squared_error"
   ]
  },
  {
   "cell_type": "code",
   "execution_count": 149,
   "metadata": {},
   "outputs": [],
   "source": [
    "def calculate_loss(original, interpolated):\n",
    "    mae = mean_absolute_error(original, interpolated)\n",
    "    mse = mean_squared_error(original, interpolated)\n",
    "    rmse = np.sqrt(mse)\n",
    "    return mae, rmse\n",
    "\n",
    "def calculate_loss_all_columns(original_df, interpolated_df, interpolated_indices):\n",
    "    loss_dict = {}\n",
    "    for column in original_df.columns:\n",
    "        original_values = original_df.loc[interpolated_indices, column]\n",
    "        interpolated_values = interpolated_df.loc[interpolated_indices, column]\n",
    "        mae, rmse = calculate_loss(original_values, interpolated_values)\n",
    "        loss_dict[column] = {'MAE': mae, 'RMSE': rmse}\n",
    "    return loss_dict"
   ]
  },
  {
   "cell_type": "markdown",
   "metadata": {},
   "source": [
    "Loss between interpolated and real values"
   ]
  },
  {
   "cell_type": "markdown",
   "metadata": {},
   "source": [
    "Air"
   ]
  },
  {
   "cell_type": "code",
   "execution_count": 159,
   "metadata": {},
   "outputs": [
    {
     "data": {
      "text/plain": [
       "{'co': {'MAE': 24.60795458220034, 'RMSE': 74.89989785402479},\n",
       " 'no2': {'MAE': 0.7113713897258764, 'RMSE': 1.6257028264613926},\n",
       " 'o3': {'MAE': 2.17816013816418, 'RMSE': 4.414239730852825},\n",
       " 'so2': {'MAE': 0.4179255530241787, 'RMSE': 1.1391409164680169},\n",
       " 'pm2_5': {'MAE': 1.5205583278214643, 'RMSE': 4.345654809207598},\n",
       " 'pm10': {'MAE': 1.8115156904534433, 'RMSE': 5.115373558918573},\n",
       " 'aqi': {'MAE': 0.12597070135469488, 'RMSE': 0.27123353146294393}}"
      ]
     },
     "execution_count": 159,
     "metadata": {},
     "output_type": "execute_result"
    }
   ],
   "source": [
    "calculate_loss_all_columns(full_seq_air, linear_interpolated_air, drop_indices)"
   ]
  },
  {
   "cell_type": "code",
   "execution_count": 160,
   "metadata": {},
   "outputs": [
    {
     "data": {
      "text/plain": [
       "{'co': {'MAE': 24.60795458220034, 'RMSE': 74.89989785402479},\n",
       " 'no2': {'MAE': 0.7113713897258764, 'RMSE': 1.6257028264613926},\n",
       " 'o3': {'MAE': 2.17816013816418, 'RMSE': 4.414239730852825},\n",
       " 'so2': {'MAE': 0.4179255530241787, 'RMSE': 1.1391409164680169},\n",
       " 'pm2_5': {'MAE': 1.5205583278214643, 'RMSE': 4.345654809207598},\n",
       " 'pm10': {'MAE': 1.8115156904534433, 'RMSE': 5.115373558918573},\n",
       " 'aqi': {'MAE': 0.12597070135469488, 'RMSE': 0.27123353146294393}}"
      ]
     },
     "execution_count": 160,
     "metadata": {},
     "output_type": "execute_result"
    }
   ],
   "source": [
    "calculate_loss_all_columns(full_seq_air, time_interpolated_air, drop_indices)"
   ]
  },
  {
   "cell_type": "code",
   "execution_count": 161,
   "metadata": {},
   "outputs": [
    {
     "data": {
      "text/plain": [
       "{'co': {'MAE': 48.07628649257739, 'RMSE': 150.86960627182728},\n",
       " 'no2': {'MAE': 1.172702366048232, 'RMSE': 1.8918180724177542},\n",
       " 'o3': {'MAE': 2.3125759045032637, 'RMSE': 4.793513726799437},\n",
       " 'so2': {'MAE': 0.9341643252350874, 'RMSE': 1.5398606595151962},\n",
       " 'pm2_5': {'MAE': 2.0608566989915493, 'RMSE': 6.307293638248124},\n",
       " 'pm10': {'MAE': 2.5406484098608324, 'RMSE': 8.194903723344037},\n",
       " 'aqi': {'MAE': 0.7679377300672452, 'RMSE': 0.9806247371258064}}"
      ]
     },
     "execution_count": 161,
     "metadata": {},
     "output_type": "execute_result"
    }
   ],
   "source": [
    "calculate_loss_all_columns(full_seq_air, spline2_interpolated_air, drop_indices)"
   ]
  },
  {
   "cell_type": "code",
   "execution_count": 162,
   "metadata": {},
   "outputs": [
    {
     "data": {
      "text/plain": [
       "{'co': {'MAE': 19.186202987229183, 'RMSE': 70.63984001849761},\n",
       " 'no2': {'MAE': 1.161412676224449, 'RMSE': 1.782602125019188},\n",
       " 'o3': {'MAE': 2.0368268742016924, 'RMSE': 3.727474009613031},\n",
       " 'so2': {'MAE': 0.9324953298014953, 'RMSE': 1.4813120511227722},\n",
       " 'pm2_5': {'MAE': 1.7393303978216117, 'RMSE': 4.278656476913925},\n",
       " 'pm10': {'MAE': 1.9437324812041274, 'RMSE': 4.982462009157813},\n",
       " 'aqi': {'MAE': 0.766593062482447, 'RMSE': 0.9796563399770642}}"
      ]
     },
     "execution_count": 162,
     "metadata": {},
     "output_type": "execute_result"
    }
   ],
   "source": [
    "calculate_loss_all_columns(full_seq_air, spline3_interpolated_air, drop_indices)"
   ]
  },
  {
   "cell_type": "markdown",
   "metadata": {},
   "source": [
    "Weather"
   ]
  },
  {
   "cell_type": "code",
   "execution_count": 164,
   "metadata": {},
   "outputs": [
    {
     "data": {
      "text/plain": [
       "{'temperature_2m': {'MAE': 0.2578331006099802, 'RMSE': 0.3998082303057636},\n",
       " 'relative_humidity_2m': {'MAE': 1.5024190980132772,\n",
       "  'RMSE': 2.2952773644721907},\n",
       " 'dew_point_2m': {'MAE': 0.1993796085348228, 'RMSE': 0.3269288027135562},\n",
       " 'precipitation': {'MAE': 0.19033340682491856, 'RMSE': 0.6905404430712083},\n",
       " 'surface_pressure': {'MAE': 0.19074802185149906, 'RMSE': 0.24105043966424783},\n",
       " 'cloud_cover': {'MAE': 7.893693197128929, 'RMSE': 13.95680809211293},\n",
       " 'wind_speed_10m': {'MAE': 1.0228038264618702, 'RMSE': 1.49388982744668},\n",
       " 'wind_direction_10m': {'MAE': 22.849211190318705, 'RMSE': 54.697612572708735}}"
      ]
     },
     "execution_count": 164,
     "metadata": {},
     "output_type": "execute_result"
    }
   ],
   "source": [
    "calculate_loss_all_columns(full_seq_weather, linear_interpolated_weather, drop_indices)"
   ]
  },
  {
   "cell_type": "code",
   "execution_count": 165,
   "metadata": {},
   "outputs": [
    {
     "data": {
      "text/plain": [
       "{'temperature_2m': {'MAE': 0.2578331006099802, 'RMSE': 0.3998082303057636},\n",
       " 'relative_humidity_2m': {'MAE': 1.5024190980132772,\n",
       "  'RMSE': 2.2952773644721907},\n",
       " 'dew_point_2m': {'MAE': 0.1993796085348228, 'RMSE': 0.3269288027135562},\n",
       " 'precipitation': {'MAE': 0.19033340682491856, 'RMSE': 0.6905404430712083},\n",
       " 'surface_pressure': {'MAE': 0.19074802185149914, 'RMSE': 0.24105043966424783},\n",
       " 'cloud_cover': {'MAE': 7.893693197128929, 'RMSE': 13.95680809211293},\n",
       " 'wind_speed_10m': {'MAE': 1.0228038264618702, 'RMSE': 1.49388982744668},\n",
       " 'wind_direction_10m': {'MAE': 22.849211190318705, 'RMSE': 54.697612572708735}}"
      ]
     },
     "execution_count": 165,
     "metadata": {},
     "output_type": "execute_result"
    }
   ],
   "source": [
    "calculate_loss_all_columns(full_seq_weather, time_interpolated_weather, drop_indices)"
   ]
  },
  {
   "cell_type": "code",
   "execution_count": 166,
   "metadata": {},
   "outputs": [
    {
     "data": {
      "text/plain": [
       "{'temperature_2m': {'MAE': 0.8976344224554479, 'RMSE': 1.134867378904212},\n",
       " 'relative_humidity_2m': {'MAE': 1.7663103690165174,\n",
       "  'RMSE': 2.7295747010151046},\n",
       " 'dew_point_2m': {'MAE': 0.7668043794388363, 'RMSE': 1.0249277952407074},\n",
       " 'precipitation': {'MAE': 0.35750972526781705, 'RMSE': 0.8757925991497907},\n",
       " 'surface_pressure': {'MAE': 0.9994517162239129, 'RMSE': 1.152685512638532},\n",
       " 'cloud_cover': {'MAE': 40.85169141188619, 'RMSE': 66.1766383146573},\n",
       " 'wind_speed_10m': {'MAE': 1.2572853427552366, 'RMSE': 1.7553189422556266},\n",
       " 'wind_direction_10m': {'MAE': 66.07569722072651, 'RMSE': 239.99467300799327}}"
      ]
     },
     "execution_count": 166,
     "metadata": {},
     "output_type": "execute_result"
    }
   ],
   "source": [
    "calculate_loss_all_columns(full_seq_weather, spline2_interpolated_weather, drop_indices)\n"
   ]
  },
  {
   "cell_type": "code",
   "execution_count": 167,
   "metadata": {},
   "outputs": [
    {
     "data": {
      "text/plain": [
       "{'temperature_2m': {'MAE': 0.9129525052965349, 'RMSE': 1.1503670069088132},\n",
       " 'relative_humidity_2m': {'MAE': 1.700669976417934, 'RMSE': 2.485264726636866},\n",
       " 'dew_point_2m': {'MAE': 0.7645779132918538, 'RMSE': 1.0239876100610754},\n",
       " 'precipitation': {'MAE': 0.35529843760511687, 'RMSE': 0.872379404375591},\n",
       " 'surface_pressure': {'MAE': 1.0163061332630763, 'RMSE': 1.1679617096823802},\n",
       " 'cloud_cover': {'MAE': 9.28892535915332, 'RMSE': 15.747324055814486},\n",
       " 'wind_speed_10m': {'MAE': 1.2562746363958066, 'RMSE': 1.7369449704932614},\n",
       " 'wind_direction_10m': {'MAE': 34.812710847188136, 'RMSE': 923.4803857810217}}"
      ]
     },
     "execution_count": 167,
     "metadata": {},
     "output_type": "execute_result"
    }
   ],
   "source": [
    "calculate_loss_all_columns(full_seq_weather, spline3_interpolated_weather, drop_indices)"
   ]
  },
  {
   "cell_type": "markdown",
   "metadata": {},
   "source": [
    "Choose time interpolation for filling missing values"
   ]
  },
  {
   "cell_type": "markdown",
   "metadata": {},
   "source": [
    "Get full (time, province) index, use dropped_air_df to ensure no missing provinces"
   ]
  },
  {
   "cell_type": "code",
   "execution_count": 44,
   "metadata": {},
   "outputs": [],
   "source": [
    "full_provinces = dropped_air_df.reset_index().set_index(['time', 'province']).index[:63].get_level_values(1)\n",
    "full_multi_index = pd.MultiIndex.from_product([full_date_range, full_provinces], names=[\"time\", \"province\"])"
   ]
  },
  {
   "cell_type": "code",
   "execution_count": 54,
   "metadata": {},
   "outputs": [],
   "source": [
    "interpolated_air_df = air_df.reindex(full_multi_index)\n",
    "interpolated_weather_df = weather_df.reindex(full_multi_index)"
   ]
  },
  {
   "cell_type": "markdown",
   "metadata": {},
   "source": [
    "Unstack for interpolation"
   ]
  },
  {
   "cell_type": "code",
   "execution_count": 55,
   "metadata": {},
   "outputs": [],
   "source": [
    "interpolated_air_df = interpolated_air_df.unstack(level='province', fill_value=np.nan)\n",
    "interpolated_weather_df = interpolated_weather_df.unstack(level='province', fill_value=np.nan)\n"
   ]
  },
  {
   "cell_type": "code",
   "execution_count": 56,
   "metadata": {},
   "outputs": [],
   "source": [
    "interpolated_air_df.interpolate(method='time', axis=0, limit=None, limit_direction='both', inplace=True)\n",
    "interpolated_weather_df.interpolate(method='time', axis=0, limit=None, limit_direction='both', inplace=True)\n"
   ]
  },
  {
   "cell_type": "markdown",
   "metadata": {},
   "source": [
    "Stack after interpolation"
   ]
  },
  {
   "cell_type": "code",
   "execution_count": 57,
   "metadata": {},
   "outputs": [],
   "source": [
    "interpolated_air_df = interpolated_air_df.stack(level='province', future_stack=True).sort_index()\n",
    "interpolated_weather_df = interpolated_weather_df.stack(level='province', future_stack=True).sort_index()\n"
   ]
  },
  {
   "cell_type": "code",
   "execution_count": 58,
   "metadata": {},
   "outputs": [
    {
     "name": "stdout",
     "output_type": "stream",
     "text": [
      "co       False\n",
      "no2      False\n",
      "o3       False\n",
      "so2      False\n",
      "pm2_5    False\n",
      "pm10     False\n",
      "aqi      False\n",
      "dtype: bool\n",
      "temperature_2m          False\n",
      "relative_humidity_2m    False\n",
      "dew_point_2m            False\n",
      "precipitation           False\n",
      "surface_pressure        False\n",
      "cloud_cover             False\n",
      "wind_speed_10m          False\n",
      "wind_direction_10m      False\n",
      "dtype: bool\n"
     ]
    }
   ],
   "source": [
    "print(interpolated_air_df.isna().any())\n",
    "print(interpolated_weather_df.isna().any())\n"
   ]
  },
  {
   "cell_type": "markdown",
   "metadata": {},
   "source": [
    "Set multi-index for dropped dataframes"
   ]
  },
  {
   "cell_type": "code",
   "execution_count": 63,
   "metadata": {},
   "outputs": [],
   "source": [
    "dropped_air_df = dropped_air_df.reset_index().set_index(['time', 'province'])\n",
    "dropped_weather_df = dropped_weather_df.reset_index().set_index(['time', 'province'])"
   ]
  },
  {
   "cell_type": "code",
   "execution_count": 65,
   "metadata": {},
   "outputs": [],
   "source": [
    "air_df.sort_index().to_csv(\"data/region/vietnam/cleaned_air.csv\")\n",
    "weather_df.sort_index().to_csv(\"data/region/vietnam/cleaned_weather.csv\")\n",
    "\n",
    "dropped_air_df.sort_index().to_csv(\"data/region/vietnam/dropped_air.csv\")\n",
    "dropped_weather_df.sort_index().to_csv(\"data/region/vietnam/dropped_weather.csv\")\n",
    "\n",
    "interpolated_air_df.sort_index().to_csv(\"data/region/vietnam/interpolated_air.csv\")\n",
    "interpolated_weather_df.sort_index().to_csv(\"data/region/vietnam/interpolated_weather.csv\")\n"
   ]
  }
 ],
 "metadata": {
  "kernelspec": {
   "display_name": "Python 3",
   "language": "python",
   "name": "python3"
  },
  "language_info": {
   "codemirror_mode": {
    "name": "ipython",
    "version": 3
   },
   "file_extension": ".py",
   "mimetype": "text/x-python",
   "name": "python",
   "nbconvert_exporter": "python",
   "pygments_lexer": "ipython3",
   "version": "3.12.7"
  }
 },
 "nbformat": 4,
 "nbformat_minor": 2
}
