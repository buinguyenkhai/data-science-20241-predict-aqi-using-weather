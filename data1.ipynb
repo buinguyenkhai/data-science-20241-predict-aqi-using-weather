{
 "cells": [
  {
   "cell_type": "code",
   "execution_count": 12,
   "metadata": {},
   "outputs": [],
   "source": [
    "import pandas as pd"
   ]
  },
  {
   "cell_type": "code",
   "execution_count": 13,
   "metadata": {},
   "outputs": [],
   "source": [
    "df = pd.read_csv(\"data/region/vietnam/weather.csv\", header=[0, 1], index_col=0)\n",
    "df2 = pd.read_csv(\"data/region/vietnam/cities.csv\")\n",
    "df3 = pd.read_csv(\"data/region/vietnam/air_quality.csv\", header=[0, 1], index_col=0)"
   ]
  },
  {
   "cell_type": "code",
   "execution_count": 14,
   "metadata": {},
   "outputs": [
    {
     "name": "stderr",
     "output_type": "stream",
     "text": [
      "C:\\Users\\KHAI\\AppData\\Local\\Temp\\ipykernel_12748\\2742325622.py:2: FutureWarning: The previous implementation of stack is deprecated and will be removed in a future version of pandas. See the What's New notes for pandas 2.1.0 for details. Specify future_stack=True to adopt the new implementation and silence this warning.\n",
      "  dfs = df.stack(level=0).reset_index()\n",
      "C:\\Users\\KHAI\\AppData\\Local\\Temp\\ipykernel_12748\\2742325622.py:5: FutureWarning: The previous implementation of stack is deprecated and will be removed in a future version of pandas. See the What's New notes for pandas 2.1.0 for details. Specify future_stack=True to adopt the new implementation and silence this warning.\n",
      "  df3s = df3.stack(level=0).reset_index()\n"
     ]
    }
   ],
   "source": [
    "#convert to normal index\n",
    "dfs = df.stack(level=0).reset_index()\n",
    "dfs.rename(columns={'level_1': 'location'}, inplace=True)\n",
    "\n",
    "df3s = df3.stack(level=0).reset_index()\n",
    "df3s.rename(columns={'level_1': 'location'}, inplace=True)"
   ]
  },
  {
   "cell_type": "markdown",
   "metadata": {},
   "source": [
    "## Data exploration"
   ]
  },
  {
   "cell_type": "code",
   "execution_count": 15,
   "metadata": {},
   "outputs": [
    {
     "data": {
      "text/plain": [
       "Index(['time', 'location', 'temperature_2m', 'relative_humidity_2m',\n",
       "       'dew_point_2m', 'rain', 'snowfall', 'surface_pressure', 'cloud_cover',\n",
       "       'wind_speed_10m', 'wind_direction_10m'],\n",
       "      dtype='object')"
      ]
     },
     "execution_count": 15,
     "metadata": {},
     "output_type": "execute_result"
    }
   ],
   "source": [
    "dfs.columns"
   ]
  },
  {
   "cell_type": "code",
   "execution_count": 16,
   "metadata": {},
   "outputs": [
    {
     "data": {
      "text/plain": [
       "<bound method DataFrame.info of                      time                location  temperature_2m  \\\n",
       "0        2020-11-28T00:00       Biên Hòa, Vietnam            25.2   \n",
       "1        2020-11-28T00:00  Buôn Ma Thuột, Vietnam            21.7   \n",
       "2        2020-11-28T00:00       Bạc Liêu, Vietnam            25.0   \n",
       "3        2020-11-28T00:00      Bắc Giang, Vietnam            16.4   \n",
       "4        2020-11-28T00:00        Bắc Kạn, Vietnam            15.1   \n",
       "...                   ...                     ...             ...   \n",
       "2165242  2024-10-30T00:00         Đà Lạt, Vietnam            17.0   \n",
       "2165243  2024-10-30T00:00        Đà Nẵng, Vietnam            24.6   \n",
       "2165244  2024-10-30T00:00        Đông Hà, Vietnam            22.4   \n",
       "2165245  2024-10-30T00:00       Đồng Hới, Vietnam            21.6   \n",
       "2165246  2024-10-30T00:00      Đồng Xoài, Vietnam            24.1   \n",
       "\n",
       "         relative_humidity_2m  dew_point_2m  rain  snowfall  surface_pressure  \\\n",
       "0                        80.0          21.4   0.0       0.0            1010.4   \n",
       "1                        88.0          19.7   0.0       0.0             960.9   \n",
       "2                        89.0          23.1   0.0       0.0            1010.8   \n",
       "3                        71.0          11.0   0.0       0.0            1022.3   \n",
       "4                        80.0          11.6   0.0       0.0            1002.8   \n",
       "...                       ...           ...   ...       ...               ...   \n",
       "2165242                  90.0          15.4   0.0       0.0             852.9   \n",
       "2165243                  87.0          22.3   0.0       0.0            1006.9   \n",
       "2165244                  92.0          21.0   0.7       0.0            1008.6   \n",
       "2165245                  89.0          19.8   3.7       0.0            1008.6   \n",
       "2165246                  92.0          22.7   0.0       0.0            1001.0   \n",
       "\n",
       "         cloud_cover  wind_speed_10m  wind_direction_10m  \n",
       "0                7.0             7.7                41.0  \n",
       "1               59.0             9.7                90.0  \n",
       "2               14.0             8.8                19.0  \n",
       "3              100.0            13.2                22.0  \n",
       "4               91.0            15.3                43.0  \n",
       "...              ...             ...                 ...  \n",
       "2165242         53.0            14.1               292.0  \n",
       "2165243         85.0             6.4               281.0  \n",
       "2165244        100.0            20.2               291.0  \n",
       "2165245        100.0            27.6               299.0  \n",
       "2165246         13.0             1.5               315.0  \n",
       "\n",
       "[2165247 rows x 11 columns]>"
      ]
     },
     "execution_count": 16,
     "metadata": {},
     "output_type": "execute_result"
    }
   ],
   "source": [
    "dfs.info"
   ]
  },
  {
   "cell_type": "code",
   "execution_count": 17,
   "metadata": {},
   "outputs": [
    {
     "data": {
      "text/plain": [
       "Index(['city', 'city_ascii', 'lat', 'lng', 'country', 'iso2', 'iso3',\n",
       "       'admin_name', 'capital', 'population', 'id'],\n",
       "      dtype='object')"
      ]
     },
     "execution_count": 17,
     "metadata": {},
     "output_type": "execute_result"
    }
   ],
   "source": [
    "df2.columns"
   ]
  },
  {
   "cell_type": "code",
   "execution_count": 18,
   "metadata": {},
   "outputs": [
    {
     "data": {
      "text/html": [
       "<div>\n",
       "<style scoped>\n",
       "    .dataframe tbody tr th:only-of-type {\n",
       "        vertical-align: middle;\n",
       "    }\n",
       "\n",
       "    .dataframe tbody tr th {\n",
       "        vertical-align: top;\n",
       "    }\n",
       "\n",
       "    .dataframe thead th {\n",
       "        text-align: right;\n",
       "    }\n",
       "</style>\n",
       "<table border=\"1\" class=\"dataframe\">\n",
       "  <thead>\n",
       "    <tr style=\"text-align: right;\">\n",
       "      <th></th>\n",
       "      <th>time</th>\n",
       "      <th>location</th>\n",
       "      <th>co</th>\n",
       "      <th>no2</th>\n",
       "      <th>o3</th>\n",
       "      <th>so2</th>\n",
       "      <th>pm2_5</th>\n",
       "      <th>pm10</th>\n",
       "    </tr>\n",
       "  </thead>\n",
       "  <tbody>\n",
       "    <tr>\n",
       "      <th>0</th>\n",
       "      <td>2020-11-28 00:00:00</td>\n",
       "      <td>Biên Hòa, Vietnam</td>\n",
       "      <td>363.83</td>\n",
       "      <td>6.51</td>\n",
       "      <td>33.26</td>\n",
       "      <td>3.76</td>\n",
       "      <td>8.60</td>\n",
       "      <td>12.78</td>\n",
       "    </tr>\n",
       "    <tr>\n",
       "      <th>1</th>\n",
       "      <td>2020-11-28 00:00:00</td>\n",
       "      <td>Buôn Ma Thuột, Vietnam</td>\n",
       "      <td>473.98</td>\n",
       "      <td>7.88</td>\n",
       "      <td>30.76</td>\n",
       "      <td>4.17</td>\n",
       "      <td>14.06</td>\n",
       "      <td>17.11</td>\n",
       "    </tr>\n",
       "    <tr>\n",
       "      <th>2</th>\n",
       "      <td>2020-11-28 00:00:00</td>\n",
       "      <td>Bạc Liêu, Vietnam</td>\n",
       "      <td>547.41</td>\n",
       "      <td>6.94</td>\n",
       "      <td>49.35</td>\n",
       "      <td>1.62</td>\n",
       "      <td>28.24</td>\n",
       "      <td>39.26</td>\n",
       "    </tr>\n",
       "    <tr>\n",
       "      <th>3</th>\n",
       "      <td>2020-11-28 00:00:00</td>\n",
       "      <td>Bắc Giang, Vietnam</td>\n",
       "      <td>554.09</td>\n",
       "      <td>10.11</td>\n",
       "      <td>22.71</td>\n",
       "      <td>5.66</td>\n",
       "      <td>24.91</td>\n",
       "      <td>28.58</td>\n",
       "    </tr>\n",
       "    <tr>\n",
       "      <th>4</th>\n",
       "      <td>2020-11-28 00:00:00</td>\n",
       "      <td>Bắc Kạn, Vietnam</td>\n",
       "      <td>427.25</td>\n",
       "      <td>4.50</td>\n",
       "      <td>21.64</td>\n",
       "      <td>1.36</td>\n",
       "      <td>17.84</td>\n",
       "      <td>19.46</td>\n",
       "    </tr>\n",
       "    <tr>\n",
       "      <th>...</th>\n",
       "      <td>...</td>\n",
       "      <td>...</td>\n",
       "      <td>...</td>\n",
       "      <td>...</td>\n",
       "      <td>...</td>\n",
       "      <td>...</td>\n",
       "      <td>...</td>\n",
       "      <td>...</td>\n",
       "    </tr>\n",
       "    <tr>\n",
       "      <th>95</th>\n",
       "      <td>2020-11-28 01:00:00</td>\n",
       "      <td>Phan Thiết, Vietnam</td>\n",
       "      <td>327.11</td>\n",
       "      <td>2.25</td>\n",
       "      <td>13.05</td>\n",
       "      <td>0.98</td>\n",
       "      <td>11.61</td>\n",
       "      <td>13.79</td>\n",
       "    </tr>\n",
       "    <tr>\n",
       "      <th>96</th>\n",
       "      <td>2020-11-28 01:00:00</td>\n",
       "      <td>Phủ Lý, Vietnam</td>\n",
       "      <td>741.01</td>\n",
       "      <td>21.42</td>\n",
       "      <td>15.38</td>\n",
       "      <td>16.93</td>\n",
       "      <td>34.28</td>\n",
       "      <td>41.27</td>\n",
       "    </tr>\n",
       "    <tr>\n",
       "      <th>97</th>\n",
       "      <td>2020-11-28 01:00:00</td>\n",
       "      <td>Pleiku, Vietnam</td>\n",
       "      <td>554.09</td>\n",
       "      <td>2.51</td>\n",
       "      <td>50.78</td>\n",
       "      <td>2.38</td>\n",
       "      <td>34.99</td>\n",
       "      <td>35.41</td>\n",
       "    </tr>\n",
       "    <tr>\n",
       "      <th>98</th>\n",
       "      <td>2020-11-28 01:00:00</td>\n",
       "      <td>Quy Nhơn, Vietnam</td>\n",
       "      <td>397.21</td>\n",
       "      <td>2.04</td>\n",
       "      <td>68.67</td>\n",
       "      <td>1.36</td>\n",
       "      <td>25.19</td>\n",
       "      <td>26.18</td>\n",
       "    </tr>\n",
       "    <tr>\n",
       "      <th>99</th>\n",
       "      <td>2020-11-28 01:00:00</td>\n",
       "      <td>Quảng Ngãi, Vietnam</td>\n",
       "      <td>407.22</td>\n",
       "      <td>1.80</td>\n",
       "      <td>101.57</td>\n",
       "      <td>2.53</td>\n",
       "      <td>33.78</td>\n",
       "      <td>36.92</td>\n",
       "    </tr>\n",
       "  </tbody>\n",
       "</table>\n",
       "<p>100 rows × 8 columns</p>\n",
       "</div>"
      ],
      "text/plain": [
       "                   time                location      co    no2      o3    so2  \\\n",
       "0   2020-11-28 00:00:00       Biên Hòa, Vietnam  363.83   6.51   33.26   3.76   \n",
       "1   2020-11-28 00:00:00  Buôn Ma Thuột, Vietnam  473.98   7.88   30.76   4.17   \n",
       "2   2020-11-28 00:00:00       Bạc Liêu, Vietnam  547.41   6.94   49.35   1.62   \n",
       "3   2020-11-28 00:00:00      Bắc Giang, Vietnam  554.09  10.11   22.71   5.66   \n",
       "4   2020-11-28 00:00:00        Bắc Kạn, Vietnam  427.25   4.50   21.64   1.36   \n",
       "..                  ...                     ...     ...    ...     ...    ...   \n",
       "95  2020-11-28 01:00:00     Phan Thiết, Vietnam  327.11   2.25   13.05   0.98   \n",
       "96  2020-11-28 01:00:00         Phủ Lý, Vietnam  741.01  21.42   15.38  16.93   \n",
       "97  2020-11-28 01:00:00         Pleiku, Vietnam  554.09   2.51   50.78   2.38   \n",
       "98  2020-11-28 01:00:00       Quy Nhơn, Vietnam  397.21   2.04   68.67   1.36   \n",
       "99  2020-11-28 01:00:00     Quảng Ngãi, Vietnam  407.22   1.80  101.57   2.53   \n",
       "\n",
       "    pm2_5   pm10  \n",
       "0    8.60  12.78  \n",
       "1   14.06  17.11  \n",
       "2   28.24  39.26  \n",
       "3   24.91  28.58  \n",
       "4   17.84  19.46  \n",
       "..    ...    ...  \n",
       "95  11.61  13.79  \n",
       "96  34.28  41.27  \n",
       "97  34.99  35.41  \n",
       "98  25.19  26.18  \n",
       "99  33.78  36.92  \n",
       "\n",
       "[100 rows x 8 columns]"
      ]
     },
     "execution_count": 18,
     "metadata": {},
     "output_type": "execute_result"
    }
   ],
   "source": [
    "df3s.head(100)"
   ]
  },
  {
   "cell_type": "code",
   "execution_count": 19,
   "metadata": {},
   "outputs": [],
   "source": [
    "dfs[['province', 'country']] = dfs['location'].str.split(',', expand=True)"
   ]
  },
  {
   "cell_type": "code",
   "execution_count": 20,
   "metadata": {},
   "outputs": [],
   "source": [
    "dfs = dfs.drop(columns=['location'])"
   ]
  },
  {
   "cell_type": "code",
   "execution_count": 21,
   "metadata": {},
   "outputs": [],
   "source": [
    "df3s[['province', 'country']] = df3s['location'].str.split(',', expand=True)\n",
    "df3s = df3s.drop(columns=['location'])"
   ]
  },
  {
   "cell_type": "code",
   "execution_count": 22,
   "metadata": {},
   "outputs": [
    {
     "data": {
      "text/html": [
       "<div>\n",
       "<style scoped>\n",
       "    .dataframe tbody tr th:only-of-type {\n",
       "        vertical-align: middle;\n",
       "    }\n",
       "\n",
       "    .dataframe tbody tr th {\n",
       "        vertical-align: top;\n",
       "    }\n",
       "\n",
       "    .dataframe thead th {\n",
       "        text-align: right;\n",
       "    }\n",
       "</style>\n",
       "<table border=\"1\" class=\"dataframe\">\n",
       "  <thead>\n",
       "    <tr style=\"text-align: right;\">\n",
       "      <th></th>\n",
       "      <th>time</th>\n",
       "      <th>co</th>\n",
       "      <th>no2</th>\n",
       "      <th>o3</th>\n",
       "      <th>so2</th>\n",
       "      <th>pm2_5</th>\n",
       "      <th>pm10</th>\n",
       "      <th>province</th>\n",
       "      <th>country</th>\n",
       "    </tr>\n",
       "  </thead>\n",
       "  <tbody>\n",
       "    <tr>\n",
       "      <th>0</th>\n",
       "      <td>2020-11-28 00:00:00</td>\n",
       "      <td>363.83</td>\n",
       "      <td>6.51</td>\n",
       "      <td>33.26</td>\n",
       "      <td>3.76</td>\n",
       "      <td>8.60</td>\n",
       "      <td>12.78</td>\n",
       "      <td>Biên Hòa</td>\n",
       "      <td>Vietnam</td>\n",
       "    </tr>\n",
       "    <tr>\n",
       "      <th>1</th>\n",
       "      <td>2020-11-28 00:00:00</td>\n",
       "      <td>473.98</td>\n",
       "      <td>7.88</td>\n",
       "      <td>30.76</td>\n",
       "      <td>4.17</td>\n",
       "      <td>14.06</td>\n",
       "      <td>17.11</td>\n",
       "      <td>Buôn Ma Thuột</td>\n",
       "      <td>Vietnam</td>\n",
       "    </tr>\n",
       "    <tr>\n",
       "      <th>2</th>\n",
       "      <td>2020-11-28 00:00:00</td>\n",
       "      <td>547.41</td>\n",
       "      <td>6.94</td>\n",
       "      <td>49.35</td>\n",
       "      <td>1.62</td>\n",
       "      <td>28.24</td>\n",
       "      <td>39.26</td>\n",
       "      <td>Bạc Liêu</td>\n",
       "      <td>Vietnam</td>\n",
       "    </tr>\n",
       "    <tr>\n",
       "      <th>3</th>\n",
       "      <td>2020-11-28 00:00:00</td>\n",
       "      <td>554.09</td>\n",
       "      <td>10.11</td>\n",
       "      <td>22.71</td>\n",
       "      <td>5.66</td>\n",
       "      <td>24.91</td>\n",
       "      <td>28.58</td>\n",
       "      <td>Bắc Giang</td>\n",
       "      <td>Vietnam</td>\n",
       "    </tr>\n",
       "    <tr>\n",
       "      <th>4</th>\n",
       "      <td>2020-11-28 00:00:00</td>\n",
       "      <td>427.25</td>\n",
       "      <td>4.50</td>\n",
       "      <td>21.64</td>\n",
       "      <td>1.36</td>\n",
       "      <td>17.84</td>\n",
       "      <td>19.46</td>\n",
       "      <td>Bắc Kạn</td>\n",
       "      <td>Vietnam</td>\n",
       "    </tr>\n",
       "  </tbody>\n",
       "</table>\n",
       "</div>"
      ],
      "text/plain": [
       "                  time      co    no2     o3   so2  pm2_5   pm10  \\\n",
       "0  2020-11-28 00:00:00  363.83   6.51  33.26  3.76   8.60  12.78   \n",
       "1  2020-11-28 00:00:00  473.98   7.88  30.76  4.17  14.06  17.11   \n",
       "2  2020-11-28 00:00:00  547.41   6.94  49.35  1.62  28.24  39.26   \n",
       "3  2020-11-28 00:00:00  554.09  10.11  22.71  5.66  24.91  28.58   \n",
       "4  2020-11-28 00:00:00  427.25   4.50  21.64  1.36  17.84  19.46   \n",
       "\n",
       "        province   country  \n",
       "0       Biên Hòa   Vietnam  \n",
       "1  Buôn Ma Thuột   Vietnam  \n",
       "2       Bạc Liêu   Vietnam  \n",
       "3      Bắc Giang   Vietnam  \n",
       "4        Bắc Kạn   Vietnam  "
      ]
     },
     "execution_count": 22,
     "metadata": {},
     "output_type": "execute_result"
    }
   ],
   "source": [
    "df3s.head()"
   ]
  },
  {
   "cell_type": "code",
   "execution_count": 27,
   "metadata": {},
   "outputs": [],
   "source": [
    "dfs_admin = dfs.merge(df2[['city', 'admin_name']], right_on='city', left_on='province', how='left')\n",
    "dfs_admin.drop(columns='province', inplace=True)\n",
    "dfs_admin.rename(columns={'admin_name': 'province'}, inplace=True)"
   ]
  },
  {
   "cell_type": "code",
   "execution_count": 28,
   "metadata": {},
   "outputs": [],
   "source": [
    "df3s_admin = df3s.merge(df2[['city', 'admin_name']], right_on='city', left_on='province', how='left')\n",
    "df3s_admin.drop(columns='province', inplace=True)\n",
    "df3s_admin.rename(columns={'admin_name': 'province'}, inplace=True)"
   ]
  },
  {
   "cell_type": "code",
   "execution_count": 29,
   "metadata": {},
   "outputs": [],
   "source": [
    "dfs_admin.to_csv(\"data/region/vietnam/we2.csv\")\n",
    "df3s_admin.to_csv(\"data/region/vietnam/ar2.csv\")"
   ]
  }
 ],
 "metadata": {
  "kernelspec": {
   "display_name": "Python 3",
   "language": "python",
   "name": "python3"
  },
  "language_info": {
   "codemirror_mode": {
    "name": "ipython",
    "version": 3
   },
   "file_extension": ".py",
   "mimetype": "text/x-python",
   "name": "python",
   "nbconvert_exporter": "python",
   "pygments_lexer": "ipython3",
   "version": "3.12.7"
  }
 },
 "nbformat": 4,
 "nbformat_minor": 2
}
